<!DOCTYPE html>
<html>
<head><meta charset="utf-8" />
<title>Fire Data Ensemble analysis</title>

<script src="https://cdnjs.cloudflare.com/ajax/libs/require.js/2.1.10/require.min.js"></script>
<script src="https://cdnjs.cloudflare.com/ajax/libs/jquery/2.0.3/jquery.min.js"></script>

<style type="text/css">
    /*!
*
* Twitter Bootstrap
*
*//*! normalize.css v3.0.2 | MIT License | git.io/normalize */html{font-family:sans-serif;-ms-text-size-adjust:100%;-webkit-text-size-adjust:100%;font-size:10px;-webkit-tap-highlight-color:transparent}article,aside,details,figcaption,figure,footer,header,hgroup,main,menu,nav,section,summary{display:block}audio,canvas,progress,video{display:inline-block;vertical-align:baseline}audio:not([controls]){display:none;height:0}[hidden],template{display:none}a{background-color:transparent}a:active,a:hover{outline:0}abbr[title]{border-bottom:1px dotted}b,optgroup,strong{font-weight:700}dfn{font-style:italic}h1{font-size:2em;margin:.67em 0}mark{background:#ff0;color:#000}small{font-size:80%}sub,sup{font-size:75%;line-height:0;position:relative;vertical-align:baseline}sup{top:-.5em}sub{bottom:-.25em}img{border:0;vertical-align:middle}svg:not(:root){overflow:hidden}hr{-moz-box-sizing:content-box;box-sizing:content-box;height:0}pre,textarea{overflow:auto}code,kbd,pre,samp{font-size:1em}button,input,optgroup,select,textarea{color:inherit;font:inherit;margin:0}button{overflow:visible}button,select{text-transform:none}button,html input[type=button],input[type=reset],input[type=submit]{-webkit-appearance:button;cursor:pointer}button[disabled],html input[disabled]{cursor:default}button::-moz-focus-inner,input::-moz-focus-inner{border:0;padding:0}input{line-height:normal}input[type=checkbox],input[type=radio]{box-sizing:border-box;padding:0}input[type=number]::-webkit-inner-spin-button,input[type=number]::-webkit-outer-spin-button{height:auto}input[type=search]::-webkit-search-cancel-button,input[type=search]::-webkit-search-decoration{-webkit-appearance:none}table{border-collapse:collapse;border-spacing:0}td,th{padding:0}/*! Source: https://github.com/h5bp/html5-boilerplate/blob/master/src/css/main.css */@media print{*,:after,:before{background:0 0!important;color:#000!important;box-shadow:none!important;text-shadow:none!important}a,a:visited{text-decoration:underline}a[href]:after{content:" (" attr(href)")"}abbr[title]:after{content:" (" attr(title)")"}a[href^="javascript:"]:after,a[href^="#"]:after{content:""}blockquote,pre{border:1px solid #999;page-break-inside:avoid}thead{display:table-header-group}img,tr{page-break-inside:avoid}img{max-width:100%!important}h2,h3,p{orphans:3;widows:3}h2,h3{page-break-after:avoid}select{background:#fff!important}.navbar{display:none}.btn>.caret,.dropup>.btn>.caret{border-top-color:#000!important}.label{border:1px solid #000}.table{border-collapse:collapse!important}.table td,.table th{background-color:#fff!important}.table-bordered td,.table-bordered th{border:1px solid #ddd!important}}@font-face{font-family:'Glyphicons Halflings';src:url(../components/bootstrap/fonts/glyphicons-halflings-regular.eot);src:url(../components/bootstrap/fonts/glyphicons-halflings-regular.eot?#iefix)format('embedded-opentype'),url(../components/bootstrap/fonts/glyphicons-halflings-regular.woff2)format('woff2'),url(../components/bootstrap/fonts/glyphicons-halflings-regular.woff)format('woff'),url(../components/bootstrap/fonts/glyphicons-halflings-regular.ttf)format('truetype'),url(../components/bootstrap/fonts/glyphicons-halflings-regular.svg#glyphicons_halflingsregular)format('svg')}.glyphicon{position:relative;top:1px;display:inline-block;font-family:'Glyphicons Halflings';font-style:normal;font-weight:400;line-height:1;-webkit-font-smoothing:antialiased;-moz-osx-font-smoothing:grayscale}.glyphicon-asterisk:before{content:"\2a"}.glyphicon-plus:before{content:"\2b"}.glyphicon-eur:before,.glyphicon-euro:before{content:"\20ac"}.glyphicon-minus:before{content:"\2212"}.glyphicon-cloud:before{content:"\2601"}.glyphicon-envelope:before{content:"\2709"}.glyphicon-pencil:before{content:"\270f"}.glyphicon-glass:before{content:"\e001"}.glyphicon-music:before{content:"\e002"}.glyphicon-search:before{content:"\e003"}.glyphicon-heart:before{content:"\e005"}.glyphicon-star:before{content:"\e006"}.glyphicon-star-empty:before{content:"\e007"}.glyphicon-user:before{content:"\e008"}.glyphicon-film:before{content:"\e009"}.glyphicon-th-large:before{content:"\e010"}.glyphicon-th:before{content:"\e011"}.glyphicon-th-list:before{content:"\e012"}.glyphicon-ok:before{content:"\e013"}.glyphicon-remove:before{content:"\e014"}.glyphicon-zoom-in:before{content:"\e015"}.glyphicon-zoom-out:before{content:"\e016"}.glyphicon-off:before{content:"\e017"}.glyphicon-signal:before{content:"\e018"}.glyphicon-cog:before{content:"\e019"}.glyphicon-trash:before{content:"\e020"}.glyphicon-home:before{content:"\e021"}.glyphicon-file:before{content:"\e022"}.glyphicon-time:before{content:"\e023"}.glyphicon-road:before{content:"\e024"}.glyphicon-download-alt:before{content:"\e025"}.glyphicon-download:before{content:"\e026"}.glyphicon-upload:before{content:"\e027"}.glyphicon-inbox:before{content:"\e028"}.glyphicon-play-circle:before{content:"\e029"}.glyphicon-repeat:before{content:"\e030"}.glyphicon-refresh:before{content:"\e031"}.glyphicon-list-alt:before{content:"\e032"}.glyphicon-lock:before{content:"\e033"}.glyphicon-flag:before{content:"\e034"}.glyphicon-headphones:before{content:"\e035"}.glyphicon-volume-off:before{content:"\e036"}.glyphicon-volume-down:before{content:"\e037"}.glyphicon-volume-up:before{content:"\e038"}.glyphicon-qrcode:before{content:"\e039"}.glyphicon-barcode:before{content:"\e040"}.glyphicon-tag:before{content:"\e041"}.glyphicon-tags:before{content:"\e042"}.glyphicon-book:before{content:"\e043"}.glyphicon-bookmark:before{content:"\e044"}.glyphicon-print:before{content:"\e045"}.glyphicon-camera:before{content:"\e046"}.glyphicon-font:before{content:"\e047"}.glyphicon-bold:before{content:"\e048"}.glyphicon-italic:before{content:"\e049"}.glyphicon-text-height:before{content:"\e050"}.glyphicon-text-width:before{content:"\e051"}.glyphicon-align-left:before{content:"\e052"}.glyphicon-align-center:before{content:"\e053"}.glyphicon-align-right:before{content:"\e054"}.glyphicon-align-justify:before{content:"\e055"}.glyphicon-list:before{content:"\e056"}.glyphicon-indent-left:before{content:"\e057"}.glyphicon-indent-right:before{content:"\e058"}.glyphicon-facetime-video:before{content:"\e059"}.glyphicon-picture:before{content:"\e060"}.glyphicon-map-marker:before{content:"\e062"}.glyphicon-adjust:before{content:"\e063"}.glyphicon-tint:before{content:"\e064"}.glyphicon-edit:before{content:"\e065"}.glyphicon-share:before{content:"\e066"}.glyphicon-check:before{content:"\e067"}.glyphicon-move:before{content:"\e068"}.glyphicon-step-backward:before{content:"\e069"}.glyphicon-fast-backward:before{content:"\e070"}.glyphicon-backward:before{content:"\e071"}.glyphicon-play:before{content:"\e072"}.glyphicon-pause:before{content:"\e073"}.glyphicon-stop:before{content:"\e074"}.glyphicon-forward:before{content:"\e075"}.glyphicon-fast-forward:before{content:"\e076"}.glyphicon-step-forward:before{content:"\e077"}.glyphicon-eject:before{content:"\e078"}.glyphicon-chevron-left:before{content:"\e079"}.glyphicon-chevron-right:before{content:"\e080"}.glyphicon-plus-sign:before{content:"\e081"}.glyphicon-minus-sign:before{content:"\e082"}.glyphicon-remove-sign:before{content:"\e083"}.glyphicon-ok-sign:before{content:"\e084"}.glyphicon-question-sign:before{content:"\e085"}.glyphicon-info-sign:before{content:"\e086"}.glyphicon-screenshot:before{content:"\e087"}.glyphicon-remove-circle:before{content:"\e088"}.glyphicon-ok-circle:before{content:"\e089"}.glyphicon-ban-circle:before{content:"\e090"}.glyphicon-arrow-left:before{content:"\e091"}.glyphicon-arrow-right:before{content:"\e092"}.glyphicon-arrow-up:before{content:"\e093"}.glyphicon-arrow-down:before{content:"\e094"}.glyphicon-share-alt:before{content:"\e095"}.glyphicon-resize-full:before{content:"\e096"}.glyphicon-resize-small:before{content:"\e097"}.glyphicon-exclamation-sign:before{content:"\e101"}.glyphicon-gift:before{content:"\e102"}.glyphicon-leaf:before{content:"\e103"}.glyphicon-fire:before{content:"\e104"}.glyphicon-eye-open:before{content:"\e105"}.glyphicon-eye-close:before{content:"\e106"}.glyphicon-warning-sign:before{content:"\e107"}.glyphicon-plane:before{content:"\e108"}.glyphicon-calendar:before{content:"\e109"}.glyphicon-random:before{content:"\e110"}.glyphicon-comment:before{content:"\e111"}.glyphicon-magnet:before{content:"\e112"}.glyphicon-chevron-up:before{content:"\e113"}.glyphicon-chevron-down:before{content:"\e114"}.glyphicon-retweet:before{content:"\e115"}.glyphicon-shopping-cart:before{content:"\e116"}.glyphicon-folder-close:before{content:"\e117"}.glyphicon-folder-open:before{content:"\e118"}.glyphicon-resize-vertical:before{content:"\e119"}.glyphicon-resize-horizontal:before{content:"\e120"}.glyphicon-hdd:before{content:"\e121"}.glyphicon-bullhorn:before{content:"\e122"}.glyphicon-bell:before{content:"\e123"}.glyphicon-certificate:before{content:"\e124"}.glyphicon-thumbs-up:before{content:"\e125"}.glyphicon-thumbs-down:before{content:"\e126"}.glyphicon-hand-right:before{content:"\e127"}.glyphicon-hand-left:before{content:"\e128"}.glyphicon-hand-up:before{content:"\e129"}.glyphicon-hand-down:before{content:"\e130"}.glyphicon-circle-arrow-right:before{content:"\e131"}.glyphicon-circle-arrow-left:before{content:"\e132"}.glyphicon-circle-arrow-up:before{content:"\e133"}.glyphicon-circle-arrow-down:before{content:"\e134"}.glyphicon-globe:before{content:"\e135"}.glyphicon-wrench:before{content:"\e136"}.glyphicon-tasks:before{content:"\e137"}.glyphicon-filter:before{content:"\e138"}.glyphicon-briefcase:before{content:"\e139"}.glyphicon-fullscreen:before{content:"\e140"}.glyphicon-dashboard:before{content:"\e141"}.glyphicon-paperclip:before{content:"\e142"}.glyphicon-heart-empty:before{content:"\e143"}.glyphicon-link:before{content:"\e144"}.glyphicon-phone:before{content:"\e145"}.glyphicon-pushpin:before{content:"\e146"}.glyphicon-usd:before{content:"\e148"}.glyphicon-gbp:before{content:"\e149"}.glyphicon-sort:before{content:"\e150"}.glyphicon-sort-by-alphabet:before{content:"\e151"}.glyphicon-sort-by-alphabet-alt:before{content:"\e152"}.glyphicon-sort-by-order:before{content:"\e153"}.glyphicon-sort-by-order-alt:before{content:"\e154"}.glyphicon-sort-by-attributes:before{content:"\e155"}.glyphicon-sort-by-attributes-alt:before{content:"\e156"}.glyphicon-unchecked:before{content:"\e157"}.glyphicon-expand:before{content:"\e158"}.glyphicon-collapse-down:before{content:"\e159"}.glyphicon-collapse-up:before{content:"\e160"}.glyphicon-log-in:before{content:"\e161"}.glyphicon-flash:before{content:"\e162"}.glyphicon-log-out:before{content:"\e163"}.glyphicon-new-window:before{content:"\e164"}.glyphicon-record:before{content:"\e165"}.glyphicon-save:before{content:"\e166"}.glyphicon-open:before{content:"\e167"}.glyphicon-saved:before{content:"\e168"}.glyphicon-import:before{content:"\e169"}.glyphicon-export:before{content:"\e170"}.glyphicon-send:before{content:"\e171"}.glyphicon-floppy-disk:before{content:"\e172"}.glyphicon-floppy-saved:before{content:"\e173"}.glyphicon-floppy-remove:before{content:"\e174"}.glyphicon-floppy-save:before{content:"\e175"}.glyphicon-floppy-open:before{content:"\e176"}.glyphicon-credit-card:before{content:"\e177"}.glyphicon-transfer:before{content:"\e178"}.glyphicon-cutlery:before{content:"\e179"}.glyphicon-header:before{content:"\e180"}.glyphicon-compressed:before{content:"\e181"}.glyphicon-earphone:before{content:"\e182"}.glyphicon-phone-alt:before{content:"\e183"}.glyphicon-tower:before{content:"\e184"}.glyphicon-stats:before{content:"\e185"}.glyphicon-sd-video:before{content:"\e186"}.glyphicon-hd-video:before{content:"\e187"}.glyphicon-subtitles:before{content:"\e188"}.glyphicon-sound-stereo:before{content:"\e189"}.glyphicon-sound-dolby:before{content:"\e190"}.glyphicon-sound-5-1:before{content:"\e191"}.glyphicon-sound-6-1:before{content:"\e192"}.glyphicon-sound-7-1:before{content:"\e193"}.glyphicon-copyright-mark:before{content:"\e194"}.glyphicon-registration-mark:before{content:"\e195"}.glyphicon-cloud-download:before{content:"\e197"}.glyphicon-cloud-upload:before{content:"\e198"}.glyphicon-tree-conifer:before{content:"\e199"}.glyphicon-tree-deciduous:before{content:"\e200"}.glyphicon-cd:before{content:"\e201"}.glyphicon-save-file:before{content:"\e202"}.glyphicon-open-file:before{content:"\e203"}.glyphicon-level-up:before{content:"\e204"}.glyphicon-copy:before{content:"\e205"}.glyphicon-paste:before{content:"\e206"}.glyphicon-alert:before{content:"\e209"}.glyphicon-equalizer:before{content:"\e210"}.glyphicon-king:before{content:"\e211"}.glyphicon-queen:before{content:"\e212"}.glyphicon-pawn:before{content:"\e213"}.glyphicon-bishop:before{content:"\e214"}.glyphicon-knight:before{content:"\e215"}.glyphicon-baby-formula:before{content:"\e216"}.glyphicon-tent:before{content:"\26fa"}.glyphicon-blackboard:before{content:"\e218"}.glyphicon-bed:before{content:"\e219"}.glyphicon-apple:before{content:"\f8ff"}.glyphicon-erase:before{content:"\e221"}.glyphicon-hourglass:before{content:"\231b"}.glyphicon-lamp:before{content:"\e223"}.glyphicon-duplicate:before{content:"\e224"}.glyphicon-piggy-bank:before{content:"\e225"}.glyphicon-scissors:before{content:"\e226"}.glyphicon-bitcoin:before,.glyphicon-btc:before,.glyphicon-xbt:before{content:"\e227"}.glyphicon-jpy:before,.glyphicon-yen:before{content:"\00a5"}.glyphicon-rub:before,.glyphicon-ruble:before{content:"\20bd"}.glyphicon-scale:before{content:"\e230"}.glyphicon-ice-lolly:before{content:"\e231"}.glyphicon-ice-lolly-tasted:before{content:"\e232"}.glyphicon-education:before{content:"\e233"}.glyphicon-option-horizontal:before{content:"\e234"}.glyphicon-option-vertical:before{content:"\e235"}.glyphicon-menu-hamburger:before{content:"\e236"}.glyphicon-modal-window:before{content:"\e237"}.glyphicon-oil:before{content:"\e238"}.glyphicon-grain:before{content:"\e239"}.glyphicon-sunglasses:before{content:"\e240"}.glyphicon-text-size:before{content:"\e241"}.glyphicon-text-color:before{content:"\e242"}.glyphicon-text-background:before{content:"\e243"}.glyphicon-object-align-top:before{content:"\e244"}.glyphicon-object-align-bottom:before{content:"\e245"}.glyphicon-object-align-horizontal:before{content:"\e246"}.glyphicon-object-align-left:before{content:"\e247"}.glyphicon-object-align-vertical:before{content:"\e248"}.glyphicon-object-align-right:before{content:"\e249"}.glyphicon-triangle-right:before{content:"\e250"}.glyphicon-triangle-left:before{content:"\e251"}.glyphicon-triangle-bottom:before{content:"\e252"}.glyphicon-triangle-top:before{content:"\e253"}.glyphicon-console:before{content:"\e254"}.glyphicon-superscript:before{content:"\e255"}.glyphicon-subscript:before{content:"\e256"}.glyphicon-menu-left:before{content:"\e257"}.glyphicon-menu-right:before{content:"\e258"}.glyphicon-menu-down:before{content:"\e259"}.glyphicon-menu-up:before{content:"\e260"}*,:after,:before{-webkit-box-sizing:border-box;-moz-box-sizing:border-box;box-sizing:border-box}body{margin:0;font-family:"Helvetica Neue",Helvetica,Arial,sans-serif;font-size:13px;line-height:1.42857143;color:#000;background-color:#fff}button,input,select,textarea{font-family:inherit;font-size:inherit;line-height:inherit}a{color:#337ab7;text-decoration:none}a:focus,a:hover{color:#23527c;text-decoration:underline}a:focus{outline:dotted thin;outline:-webkit-focus-ring-color auto 5px;outline-offset:-2px}figure{margin:0}.carousel-inner>.item>a>img,.carousel-inner>.item>img,.img-responsive,.thumbnail a>img,.thumbnail>img{display:block;max-width:100%;height:auto}.img-rounded{border-radius:3px}.img-thumbnail{padding:4px;line-height:1.42857143;background-color:#fff;border:1px solid #ddd;border-radius:2px;-webkit-transition:all .2s ease-in-out;-o-transition:all .2s ease-in-out;transition:all .2s ease-in-out;display:inline-block;max-width:100%;height:auto}.img-circle{border-radius:50%}hr{margin-top:18px;margin-bottom:18px;border:0;border-top:1px solid #eee}.sr-only{position:absolute;width:1px;height:1px;margin:-1px;padding:0;overflow:hidden;clip:rect(0,0,0,0);border:0}.sr-only-focusable:active,.sr-only-focusable:focus{position:static;width:auto;height:auto;margin:0;overflow:visible;clip:auto}[role=button]{cursor:pointer}.h1,.h2,.h3,.h4,.h5,.h6,h1,h2,h3,h4,h5,h6{font-family:inherit;font-weight:500;line-height:1.1;color:inherit}.h1 .small,.h1 small,.h2 .small,.h2 small,.h3 .small,.h3 small,.h4 .small,.h4 small,.h5 .small,.h5 small,.h6 .small,.h6 small,h1 .small,h1 small,h2 .small,h2 small,h3 .small,h3 small,h4 .small,h4 small,h5 .small,h5 small,h6 .small,h6 small{font-weight:400;line-height:1;color:#777}.h1,.h2,.h3,h1,h2,h3{margin-top:18px;margin-bottom:9px}.h1 .small,.h1 small,.h2 .small,.h2 small,.h3 .small,.h3 small,h1 .small,h1 small,h2 .small,h2 small,h3 .small,h3 small{font-size:65%}.h4,.h5,.h6,h4,h5,h6{margin-top:9px;margin-bottom:9px}.h4 .small,.h4 small,.h5 .small,.h5 small,.h6 .small,.h6 small,h4 .small,h4 small,h5 .small,h5 small,h6 .small,h6 small{font-size:75%}.h1,h1{font-size:33px}.h2,h2{font-size:27px}.h3,h3{font-size:23px}.h4,h4{font-size:17px}.h5,h5{font-size:13px}.h6,h6{font-size:12px}p{margin:0 0 9px}.lead{margin-bottom:18px;font-size:14px;font-weight:300;line-height:1.4}@media (min-width:768px){.lead{font-size:19.5px}}.small,small{font-size:92%}.mark,mark{background-color:#fcf8e3;padding:.2em}.text-left{text-align:left}.text-right{text-align:right}.text-center{text-align:center}.text-justify{text-align:justify}.text-nowrap{white-space:nowrap}.text-lowercase{text-transform:lowercase}.text-uppercase{text-transform:uppercase}.text-capitalize{text-transform:capitalize}.text-muted{color:#777}.text-primary{color:#337ab7}a.text-primary:hover{color:#286090}.text-success{color:#3c763d}a.text-success:hover{color:#2b542c}.text-info{color:#31708f}a.text-info:hover{color:#245269}.text-warning{color:#8a6d3b}a.text-warning:hover{color:#66512c}.text-danger{color:#a94442}a.text-danger:hover{color:#843534}.bg-primary{color:#fff;background-color:#337ab7}a.bg-primary:hover{background-color:#286090}.bg-success{background-color:#dff0d8}a.bg-success:hover{background-color:#c1e2b3}.bg-info{background-color:#d9edf7}a.bg-info:hover{background-color:#afd9ee}.bg-warning{background-color:#fcf8e3}a.bg-warning:hover{background-color:#f7ecb5}.bg-danger{background-color:#f2dede}a.bg-danger:hover{background-color:#e4b9b9}.page-header{padding-bottom:8px;margin:36px 0 18px;border-bottom:1px solid #eee}ol,ul{margin-top:0;margin-bottom:9px}ol ol,ol ul,ul ol,ul ul{margin-bottom:0}.list-unstyled{padding-left:0;list-style:none}.list-inline{padding-left:0;list-style:none;margin-left:-5px}.list-inline>li{display:inline-block;padding-left:5px;padding-right:5px}dl{margin-top:0;margin-bottom:18px}dd,dt{line-height:1.42857143}dt{font-weight:700}dd{margin-left:0}@media (min-width:541px){.dl-horizontal dt{float:left;width:160px;clear:left;text-align:right;overflow:hidden;text-overflow:ellipsis;white-space:nowrap}.dl-horizontal dd{margin-left:180px}}abbr[data-original-title],abbr[title]{cursor:help;border-bottom:1px dotted #777}.initialism{font-size:90%;text-transform:uppercase}blockquote{padding:9px 18px;margin:0 0 18px;font-size:inherit;border-left:5px solid #eee}blockquote ol:last-child,blockquote p:last-child,blockquote ul:last-child{margin-bottom:0}blockquote .small,blockquote footer,blockquote small{display:block;font-size:80%;line-height:1.42857143;color:#777}blockquote .small:before,blockquote footer:before,blockquote small:before{content:'\2014 \00A0'}.blockquote-reverse,blockquote.pull-right{padding-right:15px;padding-left:0;border-right:5px solid #eee;border-left:0;text-align:right}.blockquote-reverse .small:before,.blockquote-reverse footer:before,.blockquote-reverse small:before,blockquote.pull-right .small:before,blockquote.pull-right footer:before,blockquote.pull-right small:before{content:''}.blockquote-reverse .small:after,.blockquote-reverse footer:after,.blockquote-reverse small:after,blockquote.pull-right .small:after,blockquote.pull-right footer:after,blockquote.pull-right small:after{content:'\00A0 \2014'}address{margin-bottom:18px;font-style:normal;line-height:1.42857143}code,kbd,pre,samp{font-family:monospace}code{padding:2px 4px;font-size:90%;background-color:#f9f2f4;border-radius:2px}kbd{padding:2px 4px;font-size:90%;color:#fff;background-color:#333;border-radius:1px;box-shadow:inset 0 -1px 0 rgba(0,0,0,.25)}kbd kbd{padding:0;font-size:100%;font-weight:700;box-shadow:none}pre{display:block;padding:8.5px;margin:0 0 9px;word-break:break-all;word-wrap:break-word;color:#333;background-color:#f5f5f5;border:1px solid #ccc;border-radius:2px}pre code{padding:0;font-size:inherit;color:inherit;white-space:pre-wrap;background-color:transparent;border-radius:0}.pre-scrollable{max-height:340px;overflow-y:scroll}.container{margin-right:auto;margin-left:auto;padding-left:0;padding-right:0}@media (min-width:768px){.container{width:768px}}@media (min-width:992px){.container{width:940px}}@media (min-width:1200px){.container{width:1140px}}.container-fluid{margin-right:auto;margin-left:auto;padding-left:0;padding-right:0}.row{margin-left:0;margin-right:0}.col-lg-1,.col-lg-10,.col-lg-11,.col-lg-12,.col-lg-2,.col-lg-3,.col-lg-4,.col-lg-5,.col-lg-6,.col-lg-7,.col-lg-8,.col-lg-9,.col-md-1,.col-md-10,.col-md-11,.col-md-12,.col-md-2,.col-md-3,.col-md-4,.col-md-5,.col-md-6,.col-md-7,.col-md-8,.col-md-9,.col-sm-1,.col-sm-10,.col-sm-11,.col-sm-12,.col-sm-2,.col-sm-3,.col-sm-4,.col-sm-5,.col-sm-6,.col-sm-7,.col-sm-8,.col-sm-9,.col-xs-1,.col-xs-10,.col-xs-11,.col-xs-12,.col-xs-2,.col-xs-3,.col-xs-4,.col-xs-5,.col-xs-6,.col-xs-7,.col-xs-8,.col-xs-9{position:relative;min-height:1px;padding-left:0;padding-right:0}.col-xs-1,.col-xs-10,.col-xs-11,.col-xs-12,.col-xs-2,.col-xs-3,.col-xs-4,.col-xs-5,.col-xs-6,.col-xs-7,.col-xs-8,.col-xs-9{float:left}.col-xs-12{width:100%}.col-xs-11{width:91.66666667%}.col-xs-10{width:83.33333333%}.col-xs-9{width:75%}.col-xs-8{width:66.66666667%}.col-xs-7{width:58.33333333%}.col-xs-6{width:50%}.col-xs-5{width:41.66666667%}.col-xs-4{width:33.33333333%}.col-xs-3{width:25%}.col-xs-2{width:16.66666667%}.col-xs-1{width:8.33333333%}.col-xs-pull-12{right:100%}.col-xs-pull-11{right:91.66666667%}.col-xs-pull-10{right:83.33333333%}.col-xs-pull-9{right:75%}.col-xs-pull-8{right:66.66666667%}.col-xs-pull-7{right:58.33333333%}.col-xs-pull-6{right:50%}.col-xs-pull-5{right:41.66666667%}.col-xs-pull-4{right:33.33333333%}.col-xs-pull-3{right:25%}.col-xs-pull-2{right:16.66666667%}.col-xs-pull-1{right:8.33333333%}.col-xs-pull-0{right:auto}.col-xs-push-12{left:100%}.col-xs-push-11{left:91.66666667%}.col-xs-push-10{left:83.33333333%}.col-xs-push-9{left:75%}.col-xs-push-8{left:66.66666667%}.col-xs-push-7{left:58.33333333%}.col-xs-push-6{left:50%}.col-xs-push-5{left:41.66666667%}.col-xs-push-4{left:33.33333333%}.col-xs-push-3{left:25%}.col-xs-push-2{left:16.66666667%}.col-xs-push-1{left:8.33333333%}.col-xs-push-0{left:auto}.col-xs-offset-12{margin-left:100%}.col-xs-offset-11{margin-left:91.66666667%}.col-xs-offset-10{margin-left:83.33333333%}.col-xs-offset-9{margin-left:75%}.col-xs-offset-8{margin-left:66.66666667%}.col-xs-offset-7{margin-left:58.33333333%}.col-xs-offset-6{margin-left:50%}.col-xs-offset-5{margin-left:41.66666667%}.col-xs-offset-4{margin-left:33.33333333%}.col-xs-offset-3{margin-left:25%}.col-xs-offset-2{margin-left:16.66666667%}.col-xs-offset-1{margin-left:8.33333333%}.col-xs-offset-0{margin-left:0}@media (min-width:768px){.col-sm-1,.col-sm-10,.col-sm-11,.col-sm-12,.col-sm-2,.col-sm-3,.col-sm-4,.col-sm-5,.col-sm-6,.col-sm-7,.col-sm-8,.col-sm-9{float:left}.col-sm-12{width:100%}.col-sm-11{width:91.66666667%}.col-sm-10{width:83.33333333%}.col-sm-9{width:75%}.col-sm-8{width:66.66666667%}.col-sm-7{width:58.33333333%}.col-sm-6{width:50%}.col-sm-5{width:41.66666667%}.col-sm-4{width:33.33333333%}.col-sm-3{width:25%}.col-sm-2{width:16.66666667%}.col-sm-1{width:8.33333333%}.col-sm-pull-12{right:100%}.col-sm-pull-11{right:91.66666667%}.col-sm-pull-10{right:83.33333333%}.col-sm-pull-9{right:75%}.col-sm-pull-8{right:66.66666667%}.col-sm-pull-7{right:58.33333333%}.col-sm-pull-6{right:50%}.col-sm-pull-5{right:41.66666667%}.col-sm-pull-4{right:33.33333333%}.col-sm-pull-3{right:25%}.col-sm-pull-2{right:16.66666667%}.col-sm-pull-1{right:8.33333333%}.col-sm-pull-0{right:auto}.col-sm-push-12{left:100%}.col-sm-push-11{left:91.66666667%}.col-sm-push-10{left:83.33333333%}.col-sm-push-9{left:75%}.col-sm-push-8{left:66.66666667%}.col-sm-push-7{left:58.33333333%}.col-sm-push-6{left:50%}.col-sm-push-5{left:41.66666667%}.col-sm-push-4{left:33.33333333%}.col-sm-push-3{left:25%}.col-sm-push-2{left:16.66666667%}.col-sm-push-1{left:8.33333333%}.col-sm-push-0{left:auto}.col-sm-offset-12{margin-left:100%}.col-sm-offset-11{margin-left:91.66666667%}.col-sm-offset-10{margin-left:83.33333333%}.col-sm-offset-9{margin-left:75%}.col-sm-offset-8{margin-left:66.66666667%}.col-sm-offset-7{margin-left:58.33333333%}.col-sm-offset-6{margin-left:50%}.col-sm-offset-5{margin-left:41.66666667%}.col-sm-offset-4{margin-left:33.33333333%}.col-sm-offset-3{margin-left:25%}.col-sm-offset-2{margin-left:16.66666667%}.col-sm-offset-1{margin-left:8.33333333%}.col-sm-offset-0{margin-left:0}}@media (min-width:992px){.col-md-1,.col-md-10,.col-md-11,.col-md-12,.col-md-2,.col-md-3,.col-md-4,.col-md-5,.col-md-6,.col-md-7,.col-md-8,.col-md-9{float:left}.col-md-12{width:100%}.col-md-11{width:91.66666667%}.col-md-10{width:83.33333333%}.col-md-9{width:75%}.col-md-8{width:66.66666667%}.col-md-7{width:58.33333333%}.col-md-6{width:50%}.col-md-5{width:41.66666667%}.col-md-4{width:33.33333333%}.col-md-3{width:25%}.col-md-2{width:16.66666667%}.col-md-1{width:8.33333333%}.col-md-pull-12{right:100%}.col-md-pull-11{right:91.66666667%}.col-md-pull-10{right:83.33333333%}.col-md-pull-9{right:75%}.col-md-pull-8{right:66.66666667%}.col-md-pull-7{right:58.33333333%}.col-md-pull-6{right:50%}.col-md-pull-5{right:41.66666667%}.col-md-pull-4{right:33.33333333%}.col-md-pull-3{right:25%}.col-md-pull-2{right:16.66666667%}.col-md-pull-1{right:8.33333333%}.col-md-pull-0{right:auto}.col-md-push-12{left:100%}.col-md-push-11{left:91.66666667%}.col-md-push-10{left:83.33333333%}.col-md-push-9{left:75%}.col-md-push-8{left:66.66666667%}.col-md-push-7{left:58.33333333%}.col-md-push-6{left:50%}.col-md-push-5{left:41.66666667%}.col-md-push-4{left:33.33333333%}.col-md-push-3{left:25%}.col-md-push-2{left:16.66666667%}.col-md-push-1{left:8.33333333%}.col-md-push-0{left:auto}.col-md-offset-12{margin-left:100%}.col-md-offset-11{margin-left:91.66666667%}.col-md-offset-10{margin-left:83.33333333%}.col-md-offset-9{margin-left:75%}.col-md-offset-8{margin-left:66.66666667%}.col-md-offset-7{margin-left:58.33333333%}.col-md-offset-6{margin-left:50%}.col-md-offset-5{margin-left:41.66666667%}.col-md-offset-4{margin-left:33.33333333%}.col-md-offset-3{margin-left:25%}.col-md-offset-2{margin-left:16.66666667%}.col-md-offset-1{margin-left:8.33333333%}.col-md-offset-0{margin-left:0}}@media (min-width:1200px){.col-lg-1,.col-lg-10,.col-lg-11,.col-lg-12,.col-lg-2,.col-lg-3,.col-lg-4,.col-lg-5,.col-lg-6,.col-lg-7,.col-lg-8,.col-lg-9{float:left}.col-lg-12{width:100%}.col-lg-11{width:91.66666667%}.col-lg-10{width:83.33333333%}.col-lg-9{width:75%}.col-lg-8{width:66.66666667%}.col-lg-7{width:58.33333333%}.col-lg-6{width:50%}.col-lg-5{width:41.66666667%}.col-lg-4{width:33.33333333%}.col-lg-3{width:25%}.col-lg-2{width:16.66666667%}.col-lg-1{width:8.33333333%}.col-lg-pull-12{right:100%}.col-lg-pull-11{right:91.66666667%}.col-lg-pull-10{right:83.33333333%}.col-lg-pull-9{right:75%}.col-lg-pull-8{right:66.66666667%}.col-lg-pull-7{right:58.33333333%}.col-lg-pull-6{right:50%}.col-lg-pull-5{right:41.66666667%}.col-lg-pull-4{right:33.33333333%}.col-lg-pull-3{right:25%}.col-lg-pull-2{right:16.66666667%}.col-lg-pull-1{right:8.33333333%}.col-lg-pull-0{right:auto}.col-lg-push-12{left:100%}.col-lg-push-11{left:91.66666667%}.col-lg-push-10{left:83.33333333%}.col-lg-push-9{left:75%}.col-lg-push-8{left:66.66666667%}.col-lg-push-7{left:58.33333333%}.col-lg-push-6{left:50%}.col-lg-push-5{left:41.66666667%}.col-lg-push-4{left:33.33333333%}.col-lg-push-3{left:25%}.col-lg-push-2{left:16.66666667%}.col-lg-push-1{left:8.33333333%}.col-lg-push-0{left:auto}.col-lg-offset-12{margin-left:100%}.col-lg-offset-11{margin-left:91.66666667%}.col-lg-offset-10{margin-left:83.33333333%}.col-lg-offset-9{margin-left:75%}.col-lg-offset-8{margin-left:66.66666667%}.col-lg-offset-7{margin-left:58.33333333%}.col-lg-offset-6{margin-left:50%}.col-lg-offset-5{margin-left:41.66666667%}.col-lg-offset-4{margin-left:33.33333333%}.col-lg-offset-3{margin-left:25%}.col-lg-offset-2{margin-left:16.66666667%}.col-lg-offset-1{margin-left:8.33333333%}.col-lg-offset-0{margin-left:0}}table{background-color:transparent}caption{padding-top:8px;padding-bottom:8px;color:#777;text-align:left}th{text-align:left}.table{width:100%;max-width:100%;margin-bottom:18px}.table>tbody>tr>td,.table>tbody>tr>th,.table>tfoot>tr>td,.table>tfoot>tr>th,.table>thead>tr>td,.table>thead>tr>th{padding:8px;line-height:1.42857143;vertical-align:top;border-top:1px solid #ddd}.table>thead>tr>th{vertical-align:bottom;border-bottom:2px solid #ddd}.table>caption+thead>tr:first-child>td,.table>caption+thead>tr:first-child>th,.table>colgroup+thead>tr:first-child>td,.table>colgroup+thead>tr:first-child>th,.table>thead:first-child>tr:first-child>td,.table>thead:first-child>tr:first-child>th{border-top:0}.table>tbody+tbody{border-top:2px solid #ddd}.table .table{background-color:#fff}.table-condensed>tbody>tr>td,.table-condensed>tbody>tr>th,.table-condensed>tfoot>tr>td,.table-condensed>tfoot>tr>th,.table-condensed>thead>tr>td,.table-condensed>thead>tr>th{padding:5px}.table-bordered,.table-bordered>tbody>tr>td,.table-bordered>tbody>tr>th,.table-bordered>tfoot>tr>td,.table-bordered>tfoot>tr>th,.table-bordered>thead>tr>td,.table-bordered>thead>tr>th{border:1px solid #ddd}.table-bordered>thead>tr>td,.table-bordered>thead>tr>th{border-bottom-width:2px}.table-striped>tbody>tr:nth-of-type(odd){background-color:#f9f9f9}.table-hover>tbody>tr:hover{background-color:#f5f5f5}table col[class*=col-]{position:static;float:none;display:table-column}table td[class*=col-],table th[class*=col-]{position:static;float:none;display:table-cell}.table>tbody>tr.active>td,.table>tbody>tr.active>th,.table>tbody>tr>td.active,.table>tbody>tr>th.active,.table>tfoot>tr.active>td,.table>tfoot>tr.active>th,.table>tfoot>tr>td.active,.table>tfoot>tr>th.active,.table>thead>tr.active>td,.table>thead>tr.active>th,.table>thead>tr>td.active,.table>thead>tr>th.active{background-color:#f5f5f5}.table-hover>tbody>tr.active:hover>td,.table-hover>tbody>tr.active:hover>th,.table-hover>tbody>tr:hover>.active,.table-hover>tbody>tr>td.active:hover,.table-hover>tbody>tr>th.active:hover{background-color:#e8e8e8}.table>tbody>tr.success>td,.table>tbody>tr.success>th,.table>tbody>tr>td.success,.table>tbody>tr>th.success,.table>tfoot>tr.success>td,.table>tfoot>tr.success>th,.table>tfoot>tr>td.success,.table>tfoot>tr>th.success,.table>thead>tr.success>td,.table>thead>tr.success>th,.table>thead>tr>td.success,.table>thead>tr>th.success{background-color:#dff0d8}.table-hover>tbody>tr.success:hover>td,.table-hover>tbody>tr.success:hover>th,.table-hover>tbody>tr:hover>.success,.table-hover>tbody>tr>td.success:hover,.table-hover>tbody>tr>th.success:hover{background-color:#d0e9c6}.table>tbody>tr.info>td,.table>tbody>tr.info>th,.table>tbody>tr>td.info,.table>tbody>tr>th.info,.table>tfoot>tr.info>td,.table>tfoot>tr.info>th,.table>tfoot>tr>td.info,.table>tfoot>tr>th.info,.table>thead>tr.info>td,.table>thead>tr.info>th,.table>thead>tr>td.info,.table>thead>tr>th.info{background-color:#d9edf7}.table-hover>tbody>tr.info:hover>td,.table-hover>tbody>tr.info:hover>th,.table-hover>tbody>tr:hover>.info,.table-hover>tbody>tr>td.info:hover,.table-hover>tbody>tr>th.info:hover{background-color:#c4e3f3}.table>tbody>tr.warning>td,.table>tbody>tr.warning>th,.table>tbody>tr>td.warning,.table>tbody>tr>th.warning,.table>tfoot>tr.warning>td,.table>tfoot>tr.warning>th,.table>tfoot>tr>td.warning,.table>tfoot>tr>th.warning,.table>thead>tr.warning>td,.table>thead>tr.warning>th,.table>thead>tr>td.warning,.table>thead>tr>th.warning{background-color:#fcf8e3}.table-hover>tbody>tr.warning:hover>td,.table-hover>tbody>tr.warning:hover>th,.table-hover>tbody>tr:hover>.warning,.table-hover>tbody>tr>td.warning:hover,.table-hover>tbody>tr>th.warning:hover{background-color:#faf2cc}.table>tbody>tr.danger>td,.table>tbody>tr.danger>th,.table>tbody>tr>td.danger,.table>tbody>tr>th.danger,.table>tfoot>tr.danger>td,.table>tfoot>tr.danger>th,.table>tfoot>tr>td.danger,.table>tfoot>tr>th.danger,.table>thead>tr.danger>td,.table>thead>tr.danger>th,.table>thead>tr>td.danger,.table>thead>tr>th.danger{background-color:#f2dede}.table-hover>tbody>tr.danger:hover>td,.table-hover>tbody>tr.danger:hover>th,.table-hover>tbody>tr:hover>.danger,.table-hover>tbody>tr>td.danger:hover,.table-hover>tbody>tr>th.danger:hover{background-color:#ebcccc}.table-responsive{overflow-x:auto;min-height:.01%}@media screen and (max-width:767px){.table-responsive{width:100%;margin-bottom:13.5px;overflow-y:hidden;-ms-overflow-style:-ms-autohiding-scrollbar;border:1px solid #ddd}.table-responsive>.table{margin-bottom:0}.table-responsive>.table>tbody>tr>td,.table-responsive>.table>tbody>tr>th,.table-responsive>.table>tfoot>tr>td,.table-responsive>.table>tfoot>tr>th,.table-responsive>.table>thead>tr>td,.table-responsive>.table>thead>tr>th{white-space:nowrap}.table-responsive>.table-bordered{border:0}.table-responsive>.table-bordered>tbody>tr>td:first-child,.table-responsive>.table-bordered>tbody>tr>th:first-child,.table-responsive>.table-bordered>tfoot>tr>td:first-child,.table-responsive>.table-bordered>tfoot>tr>th:first-child,.table-responsive>.table-bordered>thead>tr>td:first-child,.table-responsive>.table-bordered>thead>tr>th:first-child{border-left:0}.table-responsive>.table-bordered>tbody>tr>td:last-child,.table-responsive>.table-bordered>tbody>tr>th:last-child,.table-responsive>.table-bordered>tfoot>tr>td:last-child,.table-responsive>.table-bordered>tfoot>tr>th:last-child,.table-responsive>.table-bordered>thead>tr>td:last-child,.table-responsive>.table-bordered>thead>tr>th:last-child{border-right:0}.table-responsive>.table-bordered>tbody>tr:last-child>td,.table-responsive>.table-bordered>tbody>tr:last-child>th,.table-responsive>.table-bordered>tfoot>tr:last-child>td,.table-responsive>.table-bordered>tfoot>tr:last-child>th{border-bottom:0}}fieldset{padding:0;margin:0;border:0;min-width:0}legend{display:block;width:100%;padding:0;margin-bottom:18px;font-size:19.5px;line-height:inherit;color:#333;border:0;border-bottom:1px solid #e5e5e5}label{display:inline-block;max-width:100%;margin-bottom:5px}input[type=search]{-webkit-box-sizing:border-box;-moz-box-sizing:border-box;box-sizing:border-box;-webkit-appearance:none}input[type=checkbox],input[type=radio]{margin:4px 0 0;margin-top:1px \9;line-height:normal}input[type=file]{display:block}input[type=range]{display:block;width:100%}select[multiple],select[size]{height:auto}input[type=file]:focus,input[type=checkbox]:focus,input[type=radio]:focus{outline:dotted thin;outline:-webkit-focus-ring-color auto 5px;outline-offset:-2px}output{display:block;padding-top:7px;font-size:13px;line-height:1.42857143;color:#555}.form-control{display:block;width:100%;height:32px;padding:6px 12px;font-size:13px;line-height:1.42857143;color:#555;background-color:#fff;background-image:none;border:1px solid #ccc;border-radius:2px;-webkit-box-shadow:inset 0 1px 1px rgba(0,0,0,.075);box-shadow:inset 0 1px 1px rgba(0,0,0,.075);-webkit-transition:border-color ease-in-out .15s,box-shadow ease-in-out .15s;-o-transition:border-color ease-in-out .15s,box-shadow ease-in-out .15s;transition:border-color ease-in-out .15s,box-shadow ease-in-out .15s}.form-control:focus{border-color:#66afe9;outline:0;-webkit-box-shadow:inset 0 1px 1px rgba(0,0,0,.075),0 0 8px rgba(102,175,233,.6);box-shadow:inset 0 1px 1px rgba(0,0,0,.075),0 0 8px rgba(102,175,233,.6)}.form-control::-moz-placeholder{color:#999;opacity:1}.form-control:-ms-input-placeholder{color:#999}.form-control::-webkit-input-placeholder{color:#999}.form-control[disabled],.form-control[readonly],fieldset[disabled] .form-control{background-color:#eee;opacity:1}.form-control[disabled],fieldset[disabled] .form-control{cursor:not-allowed}textarea.form-control{height:auto}@media screen and (-webkit-min-device-pixel-ratio:0){input[type=date],input[type=time],input[type=datetime-local],input[type=month]{line-height:32px}.input-group-sm input[type=date],.input-group-sm input[type=time],.input-group-sm input[type=datetime-local],.input-group-sm input[type=month],input[type=date].input-sm,input[type=time].input-sm,input[type=datetime-local].input-sm,input[type=month].input-sm{line-height:30px}.input-group-lg input[type=date],.input-group-lg input[type=time],.input-group-lg input[type=datetime-local],.input-group-lg input[type=month],input[type=date].input-lg,input[type=time].input-lg,input[type=datetime-local].input-lg,input[type=month].input-lg{line-height:45px}}.form-group{margin-bottom:15px}.checkbox,.radio{position:relative;display:block;margin-top:10px;margin-bottom:10px}.checkbox label,.radio label{min-height:18px;padding-left:20px;margin-bottom:0;font-weight:400;cursor:pointer}.checkbox input[type=checkbox],.checkbox-inline input[type=checkbox],.radio input[type=radio],.radio-inline input[type=radio]{position:absolute;margin-left:-20px;margin-top:4px \9}.checkbox+.checkbox,.radio+.radio{margin-top:-5px}.checkbox-inline,.radio-inline{position:relative;display:inline-block;padding-left:20px;margin-bottom:0;vertical-align:middle;font-weight:400;cursor:pointer}.checkbox-inline+.checkbox-inline,.radio-inline+.radio-inline{margin-top:0;margin-left:10px}.checkbox-inline.disabled,.checkbox.disabled label,.radio-inline.disabled,.radio.disabled label,fieldset[disabled] .checkbox label,fieldset[disabled] .checkbox-inline,fieldset[disabled] .radio label,fieldset[disabled] .radio-inline,fieldset[disabled] input[type=checkbox],fieldset[disabled] input[type=radio],input[type=checkbox].disabled,input[type=checkbox][disabled],input[type=radio].disabled,input[type=radio][disabled]{cursor:not-allowed}.form-control-static{padding-top:7px;padding-bottom:7px;margin-bottom:0;min-height:31px}.form-control-static.input-lg,.form-control-static.input-sm{padding-left:0;padding-right:0}.input-sm{height:30px;padding:5px 10px;font-size:12px;line-height:1.5;border-radius:1px}select.input-sm{height:30px;line-height:30px}select[multiple].input-sm,textarea.input-sm{height:auto}.form-group-sm .form-control{height:30px;padding:5px 10px;font-size:12px;line-height:1.5;border-radius:1px}select.form-group-sm .form-control{height:30px;line-height:30px}select[multiple].form-group-sm .form-control,textarea.form-group-sm .form-control{height:auto}.form-group-sm .form-control-static{height:30px;padding:5px 10px;font-size:12px;line-height:1.5;min-height:30px}.input-lg{height:45px;padding:10px 16px;font-size:17px;line-height:1.3333333;border-radius:3px}select.input-lg{height:45px;line-height:45px}select[multiple].input-lg,textarea.input-lg{height:auto}.form-group-lg .form-control{height:45px;padding:10px 16px;font-size:17px;line-height:1.3333333;border-radius:3px}select.form-group-lg .form-control{height:45px;line-height:45px}select[multiple].form-group-lg .form-control,textarea.form-group-lg .form-control{height:auto}.form-group-lg .form-control-static{height:45px;padding:10px 16px;font-size:17px;line-height:1.3333333;min-height:35px}.has-feedback{position:relative}.has-feedback .form-control{padding-right:40px}.form-control-feedback{position:absolute;top:0;right:0;z-index:2;display:block;width:32px;height:32px;line-height:32px;text-align:center;pointer-events:none}.input-lg+.form-control-feedback{width:45px;height:45px;line-height:45px}.input-sm+.form-control-feedback{width:30px;height:30px;line-height:30px}.has-success .checkbox,.has-success .checkbox-inline,.has-success .control-label,.has-success .help-block,.has-success .radio,.has-success .radio-inline,.has-success.checkbox label,.has-success.checkbox-inline label,.has-success.radio label,.has-success.radio-inline label{color:#3c763d}.has-success .form-control{border-color:#3c763d;-webkit-box-shadow:inset 0 1px 1px rgba(0,0,0,.075);box-shadow:inset 0 1px 1px rgba(0,0,0,.075)}.has-success .form-control:focus{border-color:#2b542c;-webkit-box-shadow:inset 0 1px 1px rgba(0,0,0,.075),0 0 6px #67b168;box-shadow:inset 0 1px 1px rgba(0,0,0,.075),0 0 6px #67b168}.has-success .input-group-addon{color:#3c763d;border-color:#3c763d;background-color:#dff0d8}.has-success .form-control-feedback{color:#3c763d}.has-warning .checkbox,.has-warning .checkbox-inline,.has-warning .control-label,.has-warning .help-block,.has-warning .radio,.has-warning .radio-inline,.has-warning.checkbox label,.has-warning.checkbox-inline label,.has-warning.radio label,.has-warning.radio-inline label{color:#8a6d3b}.has-warning .form-control{border-color:#8a6d3b;-webkit-box-shadow:inset 0 1px 1px rgba(0,0,0,.075);box-shadow:inset 0 1px 1px rgba(0,0,0,.075)}.has-warning .form-control:focus{border-color:#66512c;-webkit-box-shadow:inset 0 1px 1px rgba(0,0,0,.075),0 0 6px #c0a16b;box-shadow:inset 0 1px 1px rgba(0,0,0,.075),0 0 6px #c0a16b}.has-warning .input-group-addon{color:#8a6d3b;border-color:#8a6d3b;background-color:#fcf8e3}.has-warning .form-control-feedback{color:#8a6d3b}.has-error .checkbox,.has-error .checkbox-inline,.has-error .control-label,.has-error .help-block,.has-error .radio,.has-error .radio-inline,.has-error.checkbox label,.has-error.checkbox-inline label,.has-error.radio label,.has-error.radio-inline label{color:#a94442}.has-error .form-control{border-color:#a94442;-webkit-box-shadow:inset 0 1px 1px rgba(0,0,0,.075);box-shadow:inset 0 1px 1px rgba(0,0,0,.075)}.has-error .form-control:focus{border-color:#843534;-webkit-box-shadow:inset 0 1px 1px rgba(0,0,0,.075),0 0 6px #ce8483;box-shadow:inset 0 1px 1px rgba(0,0,0,.075),0 0 6px #ce8483}.has-error .input-group-addon{color:#a94442;border-color:#a94442;background-color:#f2dede}.has-error .form-control-feedback{color:#a94442}.has-feedback label~.form-control-feedback{top:23px}.has-feedback label.sr-only~.form-control-feedback{top:0}.help-block{display:block;margin-top:5px;margin-bottom:10px;color:#404040}.form-horizontal .checkbox,.form-horizontal .checkbox-inline,.form-horizontal .radio,.form-horizontal .radio-inline{margin-top:0;margin-bottom:0;padding-top:7px}.form-horizontal .checkbox,.form-horizontal .radio{min-height:25px}.form-horizontal .form-group{margin-left:0;margin-right:0}.form-horizontal .has-feedback .form-control-feedback{right:0}@media (min-width:768px){.form-inline .form-group{display:inline-block;margin-bottom:0;vertical-align:middle}.form-inline .form-control{display:inline-block;width:auto;vertical-align:middle}.form-inline .form-control-static{display:inline-block}.form-inline .input-group{display:inline-table;vertical-align:middle}.form-inline .input-group .form-control,.form-inline .input-group .input-group-addon,.form-inline .input-group .input-group-btn{width:auto}.form-inline .input-group>.form-control{width:100%}.form-inline .control-label{margin-bottom:0;vertical-align:middle}.form-inline .checkbox,.form-inline .radio{display:inline-block;margin-top:0;margin-bottom:0;vertical-align:middle}.form-inline .checkbox label,.form-inline .radio label{padding-left:0}.form-inline .checkbox input[type=checkbox],.form-inline .radio input[type=radio]{position:relative;margin-left:0}.form-inline .has-feedback .form-control-feedback{top:0}.form-horizontal .control-label{text-align:right;margin-bottom:0;padding-top:7px}.form-horizontal .form-group-lg .control-label{padding-top:14.33px}.form-horizontal .form-group-sm .control-label{padding-top:6px}}.btn{display:inline-block;margin-bottom:0;font-weight:400;text-align:center;vertical-align:middle;touch-action:manipulation;cursor:pointer;background-image:none;border:1px solid transparent;white-space:nowrap;padding:6px 12px;font-size:13px;line-height:1.42857143;border-radius:2px;-webkit-user-select:none;-moz-user-select:none;-ms-user-select:none;user-select:none}.btn.active.focus,.btn.active:focus,.btn.focus,.btn:active.focus,.btn:active:focus,.btn:focus{outline:dotted thin;outline:-webkit-focus-ring-color auto 5px;outline-offset:-2px}.btn.focus,.btn:focus,.btn:hover{color:#333;text-decoration:none}.btn.active,.btn:active{outline:0;background-image:none;-webkit-box-shadow:inset 0 3px 5px rgba(0,0,0,.125);box-shadow:inset 0 3px 5px rgba(0,0,0,.125)}.btn.disabled,.btn[disabled],fieldset[disabled] .btn{cursor:not-allowed;pointer-events:none;opacity:.65;filter:alpha(opacity=65);-webkit-box-shadow:none;box-shadow:none}.btn-default{color:#333;background-color:#fff;border-color:#ccc}.btn-default.active,.btn-default.focus,.btn-default:active,.btn-default:focus,.btn-default:hover,.open>.dropdown-toggle.btn-default{color:#333;background-color:#e6e6e6;border-color:#adadad}.btn-default.active,.btn-default:active,.open>.dropdown-toggle.btn-default{background-image:none}.btn-default.disabled,.btn-default.disabled.active,.btn-default.disabled.focus,.btn-default.disabled:active,.btn-default.disabled:focus,.btn-default.disabled:hover,.btn-default[disabled],.btn-default[disabled].active,.btn-default[disabled].focus,.btn-default[disabled]:active,.btn-default[disabled]:focus,.btn-default[disabled]:hover,fieldset[disabled] .btn-default,fieldset[disabled] .btn-default.active,fieldset[disabled] .btn-default.focus,fieldset[disabled] .btn-default:active,fieldset[disabled] .btn-default:focus,fieldset[disabled] .btn-default:hover{background-color:#fff;border-color:#ccc}.btn-default .badge{color:#fff;background-color:#333}.btn-primary{color:#fff;background-color:#337ab7;border-color:#2e6da4}.btn-primary.active,.btn-primary.focus,.btn-primary:active,.btn-primary:focus,.btn-primary:hover,.open>.dropdown-toggle.btn-primary{color:#fff;background-color:#286090;border-color:#204d74}.btn-primary.active,.btn-primary:active,.open>.dropdown-toggle.btn-primary{background-image:none}.btn-primary.disabled,.btn-primary.disabled.active,.btn-primary.disabled.focus,.btn-primary.disabled:active,.btn-primary.disabled:focus,.btn-primary.disabled:hover,.btn-primary[disabled],.btn-primary[disabled].active,.btn-primary[disabled].focus,.btn-primary[disabled]:active,.btn-primary[disabled]:focus,.btn-primary[disabled]:hover,fieldset[disabled] .btn-primary,fieldset[disabled] .btn-primary.active,fieldset[disabled] .btn-primary.focus,fieldset[disabled] .btn-primary:active,fieldset[disabled] .btn-primary:focus,fieldset[disabled] .btn-primary:hover{background-color:#337ab7;border-color:#2e6da4}.btn-primary .badge{color:#337ab7;background-color:#fff}.btn-success{color:#fff;background-color:#5cb85c;border-color:#4cae4c}.btn-success.active,.btn-success.focus,.btn-success:active,.btn-success:focus,.btn-success:hover,.open>.dropdown-toggle.btn-success{color:#fff;background-color:#449d44;border-color:#398439}.btn-success.active,.btn-success:active,.open>.dropdown-toggle.btn-success{background-image:none}.btn-success.disabled,.btn-success.disabled.active,.btn-success.disabled.focus,.btn-success.disabled:active,.btn-success.disabled:focus,.btn-success.disabled:hover,.btn-success[disabled],.btn-success[disabled].active,.btn-success[disabled].focus,.btn-success[disabled]:active,.btn-success[disabled]:focus,.btn-success[disabled]:hover,fieldset[disabled] .btn-success,fieldset[disabled] .btn-success.active,fieldset[disabled] .btn-success.focus,fieldset[disabled] .btn-success:active,fieldset[disabled] .btn-success:focus,fieldset[disabled] .btn-success:hover{background-color:#5cb85c;border-color:#4cae4c}.btn-success .badge{color:#5cb85c;background-color:#fff}.btn-info{color:#fff;background-color:#5bc0de;border-color:#46b8da}.btn-info.active,.btn-info.focus,.btn-info:active,.btn-info:focus,.btn-info:hover,.open>.dropdown-toggle.btn-info{color:#fff;background-color:#31b0d5;border-color:#269abc}.btn-info.active,.btn-info:active,.open>.dropdown-toggle.btn-info{background-image:none}.btn-info.disabled,.btn-info.disabled.active,.btn-info.disabled.focus,.btn-info.disabled:active,.btn-info.disabled:focus,.btn-info.disabled:hover,.btn-info[disabled],.btn-info[disabled].active,.btn-info[disabled].focus,.btn-info[disabled]:active,.btn-info[disabled]:focus,.btn-info[disabled]:hover,fieldset[disabled] .btn-info,fieldset[disabled] .btn-info.active,fieldset[disabled] .btn-info.focus,fieldset[disabled] .btn-info:active,fieldset[disabled] .btn-info:focus,fieldset[disabled] .btn-info:hover{background-color:#5bc0de;border-color:#46b8da}.btn-info .badge{color:#5bc0de;background-color:#fff}.btn-warning{color:#fff;background-color:#f0ad4e;border-color:#eea236}.btn-warning.active,.btn-warning.focus,.btn-warning:active,.btn-warning:focus,.btn-warning:hover,.open>.dropdown-toggle.btn-warning{color:#fff;background-color:#ec971f;border-color:#d58512}.btn-warning.active,.btn-warning:active,.open>.dropdown-toggle.btn-warning{background-image:none}.btn-warning.disabled,.btn-warning.disabled.active,.btn-warning.disabled.focus,.btn-warning.disabled:active,.btn-warning.disabled:focus,.btn-warning.disabled:hover,.btn-warning[disabled],.btn-warning[disabled].active,.btn-warning[disabled].focus,.btn-warning[disabled]:active,.btn-warning[disabled]:focus,.btn-warning[disabled]:hover,fieldset[disabled] .btn-warning,fieldset[disabled] .btn-warning.active,fieldset[disabled] .btn-warning.focus,fieldset[disabled] .btn-warning:active,fieldset[disabled] .btn-warning:focus,fieldset[disabled] .btn-warning:hover{background-color:#f0ad4e;border-color:#eea236}.btn-warning .badge{color:#f0ad4e;background-color:#fff}.btn-danger{color:#fff;background-color:#d9534f;border-color:#d43f3a}.btn-danger.active,.btn-danger.focus,.btn-danger:active,.btn-danger:focus,.btn-danger:hover,.open>.dropdown-toggle.btn-danger{color:#fff;background-color:#c9302c;border-color:#ac2925}.btn-danger.active,.btn-danger:active,.open>.dropdown-toggle.btn-danger{background-image:none}.btn-danger.disabled,.btn-danger.disabled.active,.btn-danger.disabled.focus,.btn-danger.disabled:active,.btn-danger.disabled:focus,.btn-danger.disabled:hover,.btn-danger[disabled],.btn-danger[disabled].active,.btn-danger[disabled].focus,.btn-danger[disabled]:active,.btn-danger[disabled]:focus,.btn-danger[disabled]:hover,fieldset[disabled] .btn-danger,fieldset[disabled] .btn-danger.active,fieldset[disabled] .btn-danger.focus,fieldset[disabled] .btn-danger:active,fieldset[disabled] .btn-danger:focus,fieldset[disabled] .btn-danger:hover{background-color:#d9534f;border-color:#d43f3a}.btn-danger .badge{color:#d9534f;background-color:#fff}.btn-link{color:#337ab7;font-weight:400;border-radius:0}.btn-link,.btn-link.active,.btn-link:active,.btn-link[disabled],fieldset[disabled] .btn-link{background-color:transparent;-webkit-box-shadow:none;box-shadow:none}.btn-link,.btn-link:active,.btn-link:focus,.btn-link:hover{border-color:transparent}.btn-link:focus,.btn-link:hover{color:#23527c;text-decoration:underline;background-color:transparent}.btn-link[disabled]:focus,.btn-link[disabled]:hover,fieldset[disabled] .btn-link:focus,fieldset[disabled] .btn-link:hover{color:#777;text-decoration:none}.btn-group-lg>.btn,.btn-lg{padding:10px 16px;font-size:17px;line-height:1.3333333;border-radius:3px}.btn-group-sm>.btn,.btn-sm{padding:5px 10px;font-size:12px;line-height:1.5;border-radius:1px}.btn-group-xs>.btn,.btn-xs{padding:1px 5px;font-size:12px;line-height:1.5;border-radius:1px}.btn-block{display:block;width:100%}.btn-block+.btn-block{margin-top:5px}input[type=button].btn-block,input[type=reset].btn-block,input[type=submit].btn-block{width:100%}.fade{opacity:0;-webkit-transition:opacity .15s linear;-o-transition:opacity .15s linear;transition:opacity .15s linear}.fade.in{opacity:1}.collapse{display:none}.collapse.in{display:block}tr.collapse.in{display:table-row}tbody.collapse.in{display:table-row-group}.collapsing{position:relative;height:0;overflow:hidden;-webkit-transition-property:height,visibility;transition-property:height,visibility;-webkit-transition-duration:.35s;transition-duration:.35s;-webkit-transition-timing-function:ease;transition-timing-function:ease}.caret{display:inline-block;width:0;height:0;margin-left:2px;vertical-align:middle;border-top:4px dashed;border-right:4px solid transparent;border-left:4px solid transparent}.dropdown,.dropup{position:relative}.dropdown-toggle:focus{outline:0}.dropdown-menu{position:absolute;top:100%;left:0;z-index:1000;display:none;float:left;min-width:160px;padding:5px 0;margin:2px 0 0;list-style:none;font-size:13px;text-align:left;background-color:#fff;border:1px solid #ccc;border:1px solid rgba(0,0,0,.15);border-radius:2px;-webkit-box-shadow:0 6px 12px rgba(0,0,0,.175);box-shadow:0 6px 12px rgba(0,0,0,.175);background-clip:padding-box}.dropdown-menu.pull-right{right:0;left:auto}.dropdown-menu .divider{height:1px;margin:8px 0;overflow:hidden;background-color:#e5e5e5}.dropdown-menu>li>a{display:block;padding:3px 20px;clear:both;font-weight:400;line-height:1.42857143;color:#333;white-space:nowrap}.dropdown-menu>li>a:focus,.dropdown-menu>li>a:hover{text-decoration:none;color:#262626;background-color:#f5f5f5}.dropdown-menu>.active>a,.dropdown-menu>.active>a:focus,.dropdown-menu>.active>a:hover{color:#fff;text-decoration:none;outline:0;background-color:#337ab7}.dropdown-menu>.disabled>a,.dropdown-menu>.disabled>a:focus,.dropdown-menu>.disabled>a:hover{color:#777}.dropdown-menu>.disabled>a:focus,.dropdown-menu>.disabled>a:hover{text-decoration:none;background-color:transparent;background-image:none;filter:progid:DXImageTransform.Microsoft.gradient(enabled=false);cursor:not-allowed}.open>.dropdown-menu{display:block}.open>a{outline:0}.dropdown-menu-right{left:auto;right:0}.dropdown-menu-left{left:0;right:auto}.dropdown-header{display:block;padding:3px 20px;font-size:12px;line-height:1.42857143;color:#777;white-space:nowrap}.dropdown-backdrop{position:fixed;left:0;right:0;bottom:0;top:0;z-index:990}.pull-right>.dropdown-menu{right:0;left:auto}.dropup .caret,.navbar-fixed-bottom .dropdown .caret{border-top:0;border-bottom:4px solid;content:""}.dropup .dropdown-menu,.navbar-fixed-bottom .dropdown .dropdown-menu{top:auto;bottom:100%;margin-bottom:2px}@media (min-width:541px){.navbar-right .dropdown-menu{left:auto;right:0}.navbar-right .dropdown-menu-left{left:0;right:auto}}.btn-group,.btn-group-vertical{position:relative;display:inline-block;vertical-align:middle}.btn-group-vertical>.btn,.btn-group>.btn{position:relative;float:left}.btn-group-vertical>.btn.active,.btn-group-vertical>.btn:active,.btn-group-vertical>.btn:focus,.btn-group-vertical>.btn:hover,.btn-group>.btn.active,.btn-group>.btn:active,.btn-group>.btn:focus,.btn-group>.btn:hover{z-index:2}.btn-group .btn+.btn,.btn-group .btn+.btn-group,.btn-group .btn-group+.btn,.btn-group .btn-group+.btn-group{margin-left:-1px}.btn-toolbar{margin-left:-5px}.btn-toolbar .btn-group,.btn-toolbar .input-group{float:left}.btn-toolbar>.btn,.btn-toolbar>.btn-group,.btn-toolbar>.input-group{margin-left:5px}.btn-group>.btn:not(:first-child):not(:last-child):not(.dropdown-toggle){border-radius:0}.btn-group>.btn:first-child{margin-left:0}.btn-group>.btn:first-child:not(:last-child):not(.dropdown-toggle){border-bottom-right-radius:0;border-top-right-radius:0}.btn-group>.btn:last-child:not(:first-child),.btn-group>.dropdown-toggle:not(:first-child){border-bottom-left-radius:0;border-top-left-radius:0}.btn-group>.btn-group{float:left}.btn-group>.btn-group:not(:first-child):not(:last-child)>.btn{border-radius:0}.btn-group>.btn-group:first-child:not(:last-child)>.btn:last-child,.btn-group>.btn-group:first-child:not(:last-child)>.dropdown-toggle{border-bottom-right-radius:0;border-top-right-radius:0}.btn-group>.btn-group:last-child:not(:first-child)>.btn:first-child{border-bottom-left-radius:0;border-top-left-radius:0}.btn-group .dropdown-toggle:active,.btn-group.open .dropdown-toggle{outline:0}.btn-group>.btn+.dropdown-toggle{padding-left:8px;padding-right:8px}.btn-group>.btn-lg+.dropdown-toggle{padding-left:12px;padding-right:12px}.btn-group.open .dropdown-toggle{-webkit-box-shadow:inset 0 3px 5px rgba(0,0,0,.125);box-shadow:inset 0 3px 5px rgba(0,0,0,.125)}.btn-group.open .dropdown-toggle.btn-link{-webkit-box-shadow:none;box-shadow:none}.btn .caret{margin-left:0}.btn-lg .caret{border-width:5px 5px 0}.dropup .btn-lg .caret{border-width:0 5px 5px}.btn-group-vertical>.btn,.btn-group-vertical>.btn-group,.btn-group-vertical>.btn-group>.btn{display:block;float:none;width:100%;max-width:100%}.btn-group-vertical>.btn-group>.btn{float:none}.btn-group-vertical>.btn+.btn,.btn-group-vertical>.btn+.btn-group,.btn-group-vertical>.btn-group+.btn,.btn-group-vertical>.btn-group+.btn-group{margin-top:-1px;margin-left:0}.btn-group-vertical>.btn:not(:first-child):not(:last-child){border-radius:0}.btn-group-vertical>.btn:first-child:not(:last-child){border-top-right-radius:2px;border-bottom-right-radius:0;border-bottom-left-radius:0}.btn-group-vertical>.btn:last-child:not(:first-child){border-bottom-left-radius:2px;border-top-right-radius:0;border-top-left-radius:0}.btn-group-vertical>.btn-group:not(:first-child):not(:last-child)>.btn{border-radius:0}.btn-group-vertical>.btn-group:first-child:not(:last-child)>.btn:last-child,.btn-group-vertical>.btn-group:first-child:not(:last-child)>.dropdown-toggle{border-bottom-right-radius:0;border-bottom-left-radius:0}.btn-group-vertical>.btn-group:last-child:not(:first-child)>.btn:first-child{border-top-right-radius:0;border-top-left-radius:0}.btn-group-justified{display:table;width:100%;table-layout:fixed;border-collapse:separate}.btn-group-justified>.btn,.btn-group-justified>.btn-group{float:none;display:table-cell;width:1%}.btn-group-justified>.btn-group .btn{width:100%}.btn-group-justified>.btn-group .dropdown-menu{left:auto}[data-toggle=buttons]>.btn input[type=checkbox],[data-toggle=buttons]>.btn input[type=radio],[data-toggle=buttons]>.btn-group>.btn input[type=checkbox],[data-toggle=buttons]>.btn-group>.btn input[type=radio]{position:absolute;clip:rect(0,0,0,0);pointer-events:none}.input-group{position:relative;display:table;border-collapse:separate}.input-group[class*=col-]{float:none;padding-left:0;padding-right:0}.input-group .form-control{position:relative;z-index:2;float:left;width:100%;margin-bottom:0}.input-group-lg>.form-control,.input-group-lg>.input-group-addon,.input-group-lg>.input-group-btn>.btn{height:45px;padding:10px 16px;font-size:17px;line-height:1.3333333;border-radius:3px}select.input-group-lg>.form-control,select.input-group-lg>.input-group-addon,select.input-group-lg>.input-group-btn>.btn{height:45px;line-height:45px}select[multiple].input-group-lg>.form-control,select[multiple].input-group-lg>.input-group-addon,select[multiple].input-group-lg>.input-group-btn>.btn,textarea.input-group-lg>.form-control,textarea.input-group-lg>.input-group-addon,textarea.input-group-lg>.input-group-btn>.btn{height:auto}.input-group-sm>.form-control,.input-group-sm>.input-group-addon,.input-group-sm>.input-group-btn>.btn{height:30px;padding:5px 10px;font-size:12px;line-height:1.5;border-radius:1px}select.input-group-sm>.form-control,select.input-group-sm>.input-group-addon,select.input-group-sm>.input-group-btn>.btn{height:30px;line-height:30px}select[multiple].input-group-sm>.form-control,select[multiple].input-group-sm>.input-group-addon,select[multiple].input-group-sm>.input-group-btn>.btn,textarea.input-group-sm>.form-control,textarea.input-group-sm>.input-group-addon,textarea.input-group-sm>.input-group-btn>.btn{height:auto}.input-group .form-control,.input-group-addon,.input-group-btn{display:table-cell}.input-group .form-control:not(:first-child):not(:last-child),.input-group-addon:not(:first-child):not(:last-child),.input-group-btn:not(:first-child):not(:last-child){border-radius:0}.input-group-addon,.input-group-btn{width:1%;white-space:nowrap;vertical-align:middle}.input-group-addon{padding:6px 12px;font-size:13px;font-weight:400;line-height:1;color:#555;text-align:center;background-color:#eee;border:1px solid #ccc;border-radius:2px}.input-group-addon.input-sm{padding:5px 10px;font-size:12px;border-radius:1px}.input-group-addon.input-lg{padding:10px 16px;font-size:17px;border-radius:3px}.input-group-addon input[type=checkbox],.input-group-addon input[type=radio]{margin-top:0}.input-group .form-control:first-child,.input-group-addon:first-child,.input-group-btn:first-child>.btn,.input-group-btn:first-child>.btn-group>.btn,.input-group-btn:first-child>.dropdown-toggle,.input-group-btn:last-child>.btn-group:not(:last-child)>.btn,.input-group-btn:last-child>.btn:not(:last-child):not(.dropdown-toggle){border-bottom-right-radius:0;border-top-right-radius:0}.input-group-addon:first-child{border-right:0}.input-group .form-control:last-child,.input-group-addon:last-child,.input-group-btn:first-child>.btn-group:not(:first-child)>.btn,.input-group-btn:first-child>.btn:not(:first-child),.input-group-btn:last-child>.btn,.input-group-btn:last-child>.btn-group>.btn,.input-group-btn:last-child>.dropdown-toggle{border-bottom-left-radius:0;border-top-left-radius:0}.input-group-addon:last-child{border-left:0}.input-group-btn{position:relative;font-size:0;white-space:nowrap}.input-group-btn>.btn{position:relative}.input-group-btn>.btn+.btn{margin-left:-1px}.input-group-btn>.btn:active,.input-group-btn>.btn:focus,.input-group-btn>.btn:hover{z-index:2}.input-group-btn:first-child>.btn,.input-group-btn:first-child>.btn-group{margin-right:-1px}.input-group-btn:last-child>.btn,.input-group-btn:last-child>.btn-group{margin-left:-1px}.nav{margin-bottom:0;padding-left:0;list-style:none}.nav>li{position:relative;display:block}.nav>li>a{position:relative;display:block;padding:10px 15px}.nav>li>a:focus,.nav>li>a:hover{text-decoration:none;background-color:#eee}.nav>li.disabled>a{color:#777}.nav>li.disabled>a:focus,.nav>li.disabled>a:hover{color:#777;text-decoration:none;background-color:transparent;cursor:not-allowed}.nav .open>a,.nav .open>a:focus,.nav .open>a:hover{background-color:#eee;border-color:#337ab7}.nav .nav-divider{height:1px;margin:8px 0;overflow:hidden;background-color:#e5e5e5}.nav>li>a>img{max-width:none}.nav-tabs{border-bottom:1px solid #ddd}.nav-tabs>li{float:left;margin-bottom:-1px}.nav-tabs>li>a{margin-right:2px;line-height:1.42857143;border:1px solid transparent;border-radius:2px 2px 0 0}.nav-tabs>li>a:hover{border-color:#eee #eee #ddd}.nav-tabs>li.active>a,.nav-tabs>li.active>a:focus,.nav-tabs>li.active>a:hover{color:#555;background-color:#fff;border:1px solid #ddd;border-bottom-color:transparent;cursor:default}.nav-tabs.nav-justified{width:100%;border-bottom:0}.nav-tabs.nav-justified>li{float:none}.nav-tabs.nav-justified>li>a{text-align:center;margin-bottom:5px;margin-right:0;border-radius:2px}.nav-tabs.nav-justified>.dropdown .dropdown-menu{top:auto;left:auto}.nav-tabs.nav-justified>.active>a,.nav-tabs.nav-justified>.active>a:focus,.nav-tabs.nav-justified>.active>a:hover{border:1px solid #ddd}@media (min-width:768px){.nav-tabs.nav-justified>li{display:table-cell;width:1%}.nav-tabs.nav-justified>li>a{margin-bottom:0;border-bottom:1px solid #ddd;border-radius:2px 2px 0 0}.nav-tabs.nav-justified>.active>a,.nav-tabs.nav-justified>.active>a:focus,.nav-tabs.nav-justified>.active>a:hover{border-bottom-color:#fff}}.nav-pills>li{float:left}.nav-pills>li>a{border-radius:2px}.nav-pills>li+li{margin-left:2px}.nav-pills>li.active>a,.nav-pills>li.active>a:focus,.nav-pills>li.active>a:hover{color:#fff;background-color:#337ab7}.nav-stacked>li{float:none}.nav-stacked>li+li{margin-top:2px;margin-left:0}.nav-justified{width:100%}.nav-justified>li{float:none}.nav-justified>li>a{text-align:center;margin-bottom:5px}.nav-justified>.dropdown .dropdown-menu{top:auto;left:auto}.nav-tabs-justified{border-bottom:0}.nav-tabs-justified>li>a{margin-right:0;border-radius:2px}.nav-tabs-justified>.active>a,.nav-tabs-justified>.active>a:focus,.nav-tabs-justified>.active>a:hover{border:1px solid #ddd}@media (min-width:768px){.nav-justified>li{display:table-cell;width:1%}.nav-justified>li>a{margin-bottom:0}.nav-tabs-justified>li>a{border-bottom:1px solid #ddd;border-radius:2px 2px 0 0}.nav-tabs-justified>.active>a,.nav-tabs-justified>.active>a:focus,.nav-tabs-justified>.active>a:hover{border-bottom-color:#fff}}.tab-content>.tab-pane{display:none}.tab-content>.active{display:block}.nav-tabs .dropdown-menu{margin-top:-1px;border-top-right-radius:0;border-top-left-radius:0}.navbar{position:relative;min-height:30px;margin-bottom:18px;border:1px solid transparent}.navbar-collapse{overflow-x:visible;padding-right:0;padding-left:0;border-top:1px solid transparent;box-shadow:inset 0 1px 0 rgba(255,255,255,.1);-webkit-overflow-scrolling:touch}.navbar-collapse.in{overflow-y:auto}.navbar-fixed-bottom .navbar-collapse,.navbar-fixed-top .navbar-collapse{max-height:340px}@media (max-device-width:540px)and (orientation:landscape){.navbar-fixed-bottom .navbar-collapse,.navbar-fixed-top .navbar-collapse{max-height:200px}}.container-fluid>.navbar-collapse,.container-fluid>.navbar-header,.container>.navbar-collapse,.container>.navbar-header{margin-right:0;margin-left:0}.navbar-static-top{z-index:1000;border-width:0 0 1px}.navbar-fixed-bottom,.navbar-fixed-top{position:fixed;right:0;left:0;z-index:1030}@media (min-width:541px){.navbar{border-radius:2px}.navbar-header{float:left}.navbar-collapse{width:auto;border-top:0;box-shadow:none}.navbar-collapse.collapse{display:block!important;height:auto!important;padding-bottom:0;overflow:visible!important}.navbar-collapse.in{overflow-y:visible}.navbar-fixed-bottom .navbar-collapse,.navbar-fixed-top .navbar-collapse,.navbar-static-top .navbar-collapse{padding-left:0;padding-right:0}.container-fluid>.navbar-collapse,.container-fluid>.navbar-header,.container>.navbar-collapse,.container>.navbar-header{margin-right:0;margin-left:0}.navbar-fixed-bottom,.navbar-fixed-top,.navbar-static-top{border-radius:0}}.navbar-fixed-top{top:0;border-width:0 0 1px}.navbar-fixed-bottom{bottom:0;margin-bottom:0;border-width:1px 0 0}.navbar-brand{float:left;padding:6px 0;font-size:17px;line-height:18px;height:30px}.navbar-brand:focus,.navbar-brand:hover{text-decoration:none}.navbar-brand>img{display:block}.navbar-toggle{position:relative;float:right;margin-right:0;padding:9px 10px;margin-top:-2px;margin-bottom:-2px;background-color:transparent;background-image:none;border:1px solid transparent;border-radius:2px}.navbar-toggle:focus{outline:0}.navbar-toggle .icon-bar{display:block;width:22px;height:2px;border-radius:1px}.navbar-toggle .icon-bar+.icon-bar{margin-top:4px}@media (min-width:541px){.navbar>.container .navbar-brand,.navbar>.container-fluid .navbar-brand{margin-left:0}.navbar-toggle{display:none}}.navbar-nav{margin:3px 0}.navbar-nav>li>a{padding-top:10px;padding-bottom:10px;line-height:18px}@media (max-width:540px){.navbar-nav .open .dropdown-menu{position:static;float:none;width:auto;margin-top:0;background-color:transparent;border:0;box-shadow:none}.navbar-nav .open .dropdown-menu .dropdown-header,.navbar-nav .open .dropdown-menu>li>a{padding:5px 15px 5px 25px}.navbar-nav .open .dropdown-menu>li>a{line-height:18px}.navbar-nav .open .dropdown-menu>li>a:focus,.navbar-nav .open .dropdown-menu>li>a:hover{background-image:none}}@media (min-width:541px){.navbar-nav{float:left;margin:0}.navbar-nav>li{float:left}.navbar-nav>li>a{padding-top:6px;padding-bottom:6px}}.navbar-form{padding:10px 0;border-top:1px solid transparent;border-bottom:1px solid transparent;-webkit-box-shadow:inset 0 1px 0 rgba(255,255,255,.1),0 1px 0 rgba(255,255,255,.1);box-shadow:inset 0 1px 0 rgba(255,255,255,.1),0 1px 0 rgba(255,255,255,.1);margin:-1px 0}@media (min-width:768px){.navbar-form .form-group{display:inline-block;margin-bottom:0;vertical-align:middle}.navbar-form .form-control{display:inline-block;width:auto;vertical-align:middle}.navbar-form .form-control-static{display:inline-block}.navbar-form .input-group{display:inline-table;vertical-align:middle}.navbar-form .input-group .form-control,.navbar-form .input-group .input-group-addon,.navbar-form .input-group .input-group-btn{width:auto}.navbar-form .input-group>.form-control{width:100%}.navbar-form .control-label{margin-bottom:0;vertical-align:middle}.navbar-form .checkbox,.navbar-form .radio{display:inline-block;margin-top:0;margin-bottom:0;vertical-align:middle}.navbar-form .checkbox label,.navbar-form .radio label{padding-left:0}.navbar-form .checkbox input[type=checkbox],.navbar-form .radio input[type=radio]{position:relative;margin-left:0}.navbar-form .has-feedback .form-control-feedback{top:0}}@media (max-width:540px){.navbar-form .form-group{margin-bottom:5px}.navbar-form .form-group:last-child{margin-bottom:0}}.navbar-nav>li>.dropdown-menu{margin-top:0;border-top-right-radius:0;border-top-left-radius:0}.navbar-fixed-bottom .navbar-nav>li>.dropdown-menu{margin-bottom:0;border-radius:2px 2px 0 0}.navbar-btn{margin-top:-1px;margin-bottom:-1px}.navbar-btn.btn-sm{margin-top:0;margin-bottom:0}.navbar-btn.btn-xs{margin-top:4px;margin-bottom:4px}.navbar-text{margin-top:6px;margin-bottom:6px}@media (min-width:541px){.navbar-form{width:auto;border:0;margin-left:0;margin-right:0;padding-top:0;padding-bottom:0;-webkit-box-shadow:none;box-shadow:none}.navbar-text{float:left;margin-left:0;margin-right:0}.navbar-left{float:left!important;float:left}.navbar-right{float:right!important;float:right;margin-right:0}.navbar-right~.navbar-right{margin-right:0}}.navbar-default{background-color:#f8f8f8;border-color:#e7e7e7}.navbar-default .navbar-brand{color:#777}.navbar-default .navbar-brand:focus,.navbar-default .navbar-brand:hover{color:#5e5e5e;background-color:transparent}.navbar-default .navbar-nav>li>a,.navbar-default .navbar-text{color:#777}.navbar-default .navbar-nav>li>a:focus,.navbar-default .navbar-nav>li>a:hover{color:#333;background-color:transparent}.navbar-default .navbar-nav>.active>a,.navbar-default .navbar-nav>.active>a:focus,.navbar-default .navbar-nav>.active>a:hover{color:#555;background-color:#e7e7e7}.navbar-default .navbar-nav>.disabled>a,.navbar-default .navbar-nav>.disabled>a:focus,.navbar-default .navbar-nav>.disabled>a:hover{color:#ccc;background-color:transparent}.navbar-default .navbar-toggle{border-color:#ddd}.navbar-default .navbar-toggle:focus,.navbar-default .navbar-toggle:hover{background-color:#ddd}.navbar-default .navbar-toggle .icon-bar{background-color:#888}.navbar-default .navbar-collapse,.navbar-default .navbar-form{border-color:#e7e7e7}.navbar-default .navbar-nav>.open>a,.navbar-default .navbar-nav>.open>a:focus,.navbar-default .navbar-nav>.open>a:hover{background-color:#e7e7e7;color:#555}@media (max-width:540px){.navbar-default .navbar-nav .open .dropdown-menu>li>a{color:#777}.navbar-default .navbar-nav .open .dropdown-menu>li>a:focus,.navbar-default .navbar-nav .open .dropdown-menu>li>a:hover{color:#333;background-color:transparent}.navbar-default .navbar-nav .open .dropdown-menu>.active>a,.navbar-default .navbar-nav .open .dropdown-menu>.active>a:focus,.navbar-default .navbar-nav .open .dropdown-menu>.active>a:hover{color:#555;background-color:#e7e7e7}.navbar-default .navbar-nav .open .dropdown-menu>.disabled>a,.navbar-default .navbar-nav .open .dropdown-menu>.disabled>a:focus,.navbar-default .navbar-nav .open .dropdown-menu>.disabled>a:hover{color:#ccc;background-color:transparent}}.navbar-default .navbar-link{color:#777}.navbar-default .navbar-link:hover{color:#333}.navbar-default .btn-link{color:#777}.navbar-default .btn-link:focus,.navbar-default .btn-link:hover{color:#333}.navbar-default .btn-link[disabled]:focus,.navbar-default .btn-link[disabled]:hover,fieldset[disabled] .navbar-default .btn-link:focus,fieldset[disabled] .navbar-default .btn-link:hover{color:#ccc}.navbar-inverse{background-color:#222;border-color:#080808}.navbar-inverse .navbar-brand{color:#9d9d9d}.navbar-inverse .navbar-brand:focus,.navbar-inverse .navbar-brand:hover{color:#fff;background-color:transparent}.navbar-inverse .navbar-nav>li>a,.navbar-inverse .navbar-text{color:#9d9d9d}.navbar-inverse .navbar-nav>li>a:focus,.navbar-inverse .navbar-nav>li>a:hover{color:#fff;background-color:transparent}.navbar-inverse .navbar-nav>.active>a,.navbar-inverse .navbar-nav>.active>a:focus,.navbar-inverse .navbar-nav>.active>a:hover{color:#fff;background-color:#080808}.navbar-inverse .navbar-nav>.disabled>a,.navbar-inverse .navbar-nav>.disabled>a:focus,.navbar-inverse .navbar-nav>.disabled>a:hover{color:#444;background-color:transparent}.navbar-inverse .navbar-toggle{border-color:#333}.navbar-inverse .navbar-toggle:focus,.navbar-inverse .navbar-toggle:hover{background-color:#333}.navbar-inverse .navbar-toggle .icon-bar{background-color:#fff}.navbar-inverse .navbar-collapse,.navbar-inverse .navbar-form{border-color:#101010}.navbar-inverse .navbar-nav>.open>a,.navbar-inverse .navbar-nav>.open>a:focus,.navbar-inverse .navbar-nav>.open>a:hover{background-color:#080808;color:#fff}@media (max-width:540px){.navbar-inverse .navbar-nav .open .dropdown-menu>.dropdown-header{border-color:#080808}.navbar-inverse .navbar-nav .open .dropdown-menu .divider{background-color:#080808}.navbar-inverse .navbar-nav .open .dropdown-menu>li>a{color:#9d9d9d}.navbar-inverse .navbar-nav .open .dropdown-menu>li>a:focus,.navbar-inverse .navbar-nav .open .dropdown-menu>li>a:hover{color:#fff;background-color:transparent}.navbar-inverse .navbar-nav .open .dropdown-menu>.active>a,.navbar-inverse .navbar-nav .open .dropdown-menu>.active>a:focus,.navbar-inverse .navbar-nav .open .dropdown-menu>.active>a:hover{color:#fff;background-color:#080808}.navbar-inverse .navbar-nav .open .dropdown-menu>.disabled>a,.navbar-inverse .navbar-nav .open .dropdown-menu>.disabled>a:focus,.navbar-inverse .navbar-nav .open .dropdown-menu>.disabled>a:hover{color:#444;background-color:transparent}}.navbar-inverse .navbar-link{color:#9d9d9d}.navbar-inverse .navbar-link:hover{color:#fff}.navbar-inverse .btn-link{color:#9d9d9d}.navbar-inverse .btn-link:focus,.navbar-inverse .btn-link:hover{color:#fff}.navbar-inverse .btn-link[disabled]:focus,.navbar-inverse .btn-link[disabled]:hover,fieldset[disabled] .navbar-inverse .btn-link:focus,fieldset[disabled] .navbar-inverse .btn-link:hover{color:#444}.breadcrumb{padding:8px 15px;margin-bottom:18px;list-style:none;background-color:#f5f5f5;border-radius:2px}.breadcrumb>li{display:inline-block}.breadcrumb>li+li:before{content:"/\00a0";padding:0 5px;color:#5e5e5e}.breadcrumb>.active{color:#777}.pagination{display:inline-block;padding-left:0;margin:18px 0;border-radius:2px}.pagination>li{display:inline}.pagination>li>a,.pagination>li>span{position:relative;float:left;padding:6px 12px;line-height:1.42857143;text-decoration:none;color:#337ab7;background-color:#fff;border:1px solid #ddd;margin-left:-1px}.pagination>li:first-child>a,.pagination>li:first-child>span{margin-left:0;border-bottom-left-radius:2px;border-top-left-radius:2px}.pagination>li:last-child>a,.pagination>li:last-child>span{border-bottom-right-radius:2px;border-top-right-radius:2px}.pagination>li>a:focus,.pagination>li>a:hover,.pagination>li>span:focus,.pagination>li>span:hover{color:#23527c;background-color:#eee;border-color:#ddd}.pagination>.active>a,.pagination>.active>a:focus,.pagination>.active>a:hover,.pagination>.active>span,.pagination>.active>span:focus,.pagination>.active>span:hover{z-index:2;color:#fff;background-color:#337ab7;border-color:#337ab7;cursor:default}.pagination>.disabled>a,.pagination>.disabled>a:focus,.pagination>.disabled>a:hover,.pagination>.disabled>span,.pagination>.disabled>span:focus,.pagination>.disabled>span:hover{color:#777;background-color:#fff;border-color:#ddd;cursor:not-allowed}.pagination-lg>li>a,.pagination-lg>li>span{padding:10px 16px;font-size:17px}.pagination-lg>li:first-child>a,.pagination-lg>li:first-child>span{border-bottom-left-radius:3px;border-top-left-radius:3px}.pagination-lg>li:last-child>a,.pagination-lg>li:last-child>span{border-bottom-right-radius:3px;border-top-right-radius:3px}.pagination-sm>li>a,.pagination-sm>li>span{padding:5px 10px;font-size:12px}.pagination-sm>li:first-child>a,.pagination-sm>li:first-child>span{border-bottom-left-radius:1px;border-top-left-radius:1px}.pagination-sm>li:last-child>a,.pagination-sm>li:last-child>span{border-bottom-right-radius:1px;border-top-right-radius:1px}.pager{padding-left:0;margin:18px 0;list-style:none;text-align:center}.pager li{display:inline}.pager li>a,.pager li>span{display:inline-block;padding:5px 14px;background-color:#fff;border:1px solid #ddd;border-radius:15px}.pager li>a:focus,.pager li>a:hover{text-decoration:none;background-color:#eee}.pager .next>a,.pager .next>span{float:right}.pager .previous>a,.pager .previous>span{float:left}.pager .disabled>a,.pager .disabled>a:focus,.pager .disabled>a:hover,.pager .disabled>span{color:#777;background-color:#fff;cursor:not-allowed}.label{display:inline;padding:.2em .6em .3em;font-size:75%;font-weight:700;line-height:1;color:#fff;text-align:center;white-space:nowrap;vertical-align:baseline;border-radius:.25em}a.label:focus,a.label:hover{color:#fff;text-decoration:none;cursor:pointer}.label:empty{display:none}.btn .label{position:relative;top:-1px}.label-default{background-color:#777}.label-default[href]:focus,.label-default[href]:hover{background-color:#5e5e5e}.label-primary{background-color:#337ab7}.label-primary[href]:focus,.label-primary[href]:hover{background-color:#286090}.label-success{background-color:#5cb85c}.label-success[href]:focus,.label-success[href]:hover{background-color:#449d44}.label-info{background-color:#5bc0de}.label-info[href]:focus,.label-info[href]:hover{background-color:#31b0d5}.label-warning{background-color:#f0ad4e}.label-warning[href]:focus,.label-warning[href]:hover{background-color:#ec971f}.label-danger{background-color:#d9534f}.label-danger[href]:focus,.label-danger[href]:hover{background-color:#c9302c}.badge{display:inline-block;min-width:10px;padding:3px 7px;font-size:12px;font-weight:700;color:#fff;line-height:1;vertical-align:baseline;white-space:nowrap;text-align:center;background-color:#777;border-radius:10px}.badge:empty{display:none}.btn .badge{position:relative;top:-1px}.btn-group-xs>.btn .badge,.btn-xs .badge{top:0;padding:1px 5px}a.badge:focus,a.badge:hover{color:#fff;text-decoration:none;cursor:pointer}.list-group-item.active>.badge,.nav-pills>.active>a>.badge{color:#337ab7;background-color:#fff}.list-group-item>.badge{float:right}.list-group-item>.badge+.badge{margin-right:5px}.nav-pills>li>a>.badge{margin-left:3px}.jumbotron{padding:30px 15px;margin-bottom:30px;color:inherit;background-color:#eee}.jumbotron .h1,.jumbotron h1{color:inherit}.jumbotron p{margin-bottom:15px;font-size:20px;font-weight:200}.jumbotron>hr{border-top-color:#d5d5d5}.container .jumbotron,.container-fluid .jumbotron{border-radius:3px}.jumbotron .container{max-width:100%}@media screen and (min-width:768px){.jumbotron{padding:48px 0}.container .jumbotron,.container-fluid .jumbotron{padding-left:60px;padding-right:60px}.jumbotron .h1,.jumbotron h1{font-size:58.5px}}.thumbnail{display:block;padding:4px;margin-bottom:18px;line-height:1.42857143;background-color:#fff;border:1px solid #ddd;border-radius:2px;-webkit-transition:border .2s ease-in-out;-o-transition:border .2s ease-in-out;transition:border .2s ease-in-out}.thumbnail a>img,.thumbnail>img{margin-left:auto;margin-right:auto}a.thumbnail.active,a.thumbnail:focus,a.thumbnail:hover{border-color:#337ab7}.thumbnail .caption{padding:9px;color:#000}.alert{padding:15px;margin-bottom:18px;border:1px solid transparent;border-radius:2px}.alert h4{margin-top:0;color:inherit}.alert .alert-link{font-weight:700}.alert>p,.alert>ul{margin-bottom:0}.alert>p+p{margin-top:5px}.alert-dismissable,.alert-dismissible{padding-right:35px}.alert-dismissable .close,.alert-dismissible .close{position:relative;top:-2px;right:-21px;color:inherit}.alert-success{background-color:#dff0d8;border-color:#d6e9c6;color:#3c763d}.alert-success hr{border-top-color:#c9e2b3}.alert-success .alert-link{color:#2b542c}.alert-info{background-color:#d9edf7;border-color:#bce8f1;color:#31708f}.alert-info hr{border-top-color:#a6e1ec}.alert-info .alert-link{color:#245269}.alert-warning{background-color:#fcf8e3;border-color:#faebcc;color:#8a6d3b}.alert-warning hr{border-top-color:#f7e1b5}.alert-warning .alert-link{color:#66512c}.alert-danger{background-color:#f2dede;border-color:#ebccd1;color:#a94442}.alert-danger hr{border-top-color:#e4b9c0}.alert-danger .alert-link{color:#843534}@-webkit-keyframes progress-bar-stripes{from{background-position:40px 0}to{background-position:0 0}}@keyframes progress-bar-stripes{from{background-position:40px 0}to{background-position:0 0}}.progress{overflow:hidden;height:18px;margin-bottom:18px;background-color:#f5f5f5;border-radius:2px;-webkit-box-shadow:inset 0 1px 2px rgba(0,0,0,.1);box-shadow:inset 0 1px 2px rgba(0,0,0,.1)}.progress-bar{float:left;width:0;height:100%;font-size:12px;line-height:18px;color:#fff;text-align:center;background-color:#337ab7;-webkit-box-shadow:inset 0 -1px 0 rgba(0,0,0,.15);box-shadow:inset 0 -1px 0 rgba(0,0,0,.15);-webkit-transition:width .6s ease;-o-transition:width .6s ease;transition:width .6s ease}.progress-bar-striped,.progress-striped .progress-bar{background-image:-webkit-linear-gradient(45deg,rgba(255,255,255,.15) 25%,transparent 25%,transparent 50%,rgba(255,255,255,.15) 50%,rgba(255,255,255,.15) 75%,transparent 75%,transparent);background-image:-o-linear-gradient(45deg,rgba(255,255,255,.15) 25%,transparent 25%,transparent 50%,rgba(255,255,255,.15) 50%,rgba(255,255,255,.15) 75%,transparent 75%,transparent);background-image:linear-gradient(45deg,rgba(255,255,255,.15) 25%,transparent 25%,transparent 50%,rgba(255,255,255,.15) 50%,rgba(255,255,255,.15) 75%,transparent 75%,transparent);background-size:40px 40px}.progress-bar.active,.progress.active .progress-bar{-webkit-animation:progress-bar-stripes 2s linear infinite;-o-animation:progress-bar-stripes 2s linear infinite;animation:progress-bar-stripes 2s linear infinite}.progress-bar-success{background-color:#5cb85c}.progress-striped .progress-bar-success{background-image:-webkit-linear-gradient(45deg,rgba(255,255,255,.15) 25%,transparent 25%,transparent 50%,rgba(255,255,255,.15) 50%,rgba(255,255,255,.15) 75%,transparent 75%,transparent);background-image:-o-linear-gradient(45deg,rgba(255,255,255,.15) 25%,transparent 25%,transparent 50%,rgba(255,255,255,.15) 50%,rgba(255,255,255,.15) 75%,transparent 75%,transparent);background-image:linear-gradient(45deg,rgba(255,255,255,.15) 25%,transparent 25%,transparent 50%,rgba(255,255,255,.15) 50%,rgba(255,255,255,.15) 75%,transparent 75%,transparent)}.progress-bar-info{background-color:#5bc0de}.progress-striped .progress-bar-info{background-image:-webkit-linear-gradient(45deg,rgba(255,255,255,.15) 25%,transparent 25%,transparent 50%,rgba(255,255,255,.15) 50%,rgba(255,255,255,.15) 75%,transparent 75%,transparent);background-image:-o-linear-gradient(45deg,rgba(255,255,255,.15) 25%,transparent 25%,transparent 50%,rgba(255,255,255,.15) 50%,rgba(255,255,255,.15) 75%,transparent 75%,transparent);background-image:linear-gradient(45deg,rgba(255,255,255,.15) 25%,transparent 25%,transparent 50%,rgba(255,255,255,.15) 50%,rgba(255,255,255,.15) 75%,transparent 75%,transparent)}.progress-bar-warning{background-color:#f0ad4e}.progress-striped .progress-bar-warning{background-image:-webkit-linear-gradient(45deg,rgba(255,255,255,.15) 25%,transparent 25%,transparent 50%,rgba(255,255,255,.15) 50%,rgba(255,255,255,.15) 75%,transparent 75%,transparent);background-image:-o-linear-gradient(45deg,rgba(255,255,255,.15) 25%,transparent 25%,transparent 50%,rgba(255,255,255,.15) 50%,rgba(255,255,255,.15) 75%,transparent 75%,transparent);background-image:linear-gradient(45deg,rgba(255,255,255,.15) 25%,transparent 25%,transparent 50%,rgba(255,255,255,.15) 50%,rgba(255,255,255,.15) 75%,transparent 75%,transparent)}.progress-bar-danger{background-color:#d9534f}.progress-striped .progress-bar-danger{background-image:-webkit-linear-gradient(45deg,rgba(255,255,255,.15) 25%,transparent 25%,transparent 50%,rgba(255,255,255,.15) 50%,rgba(255,255,255,.15) 75%,transparent 75%,transparent);background-image:-o-linear-gradient(45deg,rgba(255,255,255,.15) 25%,transparent 25%,transparent 50%,rgba(255,255,255,.15) 50%,rgba(255,255,255,.15) 75%,transparent 75%,transparent);background-image:linear-gradient(45deg,rgba(255,255,255,.15) 25%,transparent 25%,transparent 50%,rgba(255,255,255,.15) 50%,rgba(255,255,255,.15) 75%,transparent 75%,transparent)}.media{margin-top:15px}.media:first-child{margin-top:0}.media,.media-body{zoom:1;overflow:hidden}.media-body{width:10000px}.media-object{display:block}.media-right,.media>.pull-right{padding-left:10px}.media-left,.media>.pull-left{padding-right:10px}.media-body,.media-left,.media-right{display:table-cell;vertical-align:top}.media-middle{vertical-align:middle}.media-bottom{vertical-align:bottom}.media-heading{margin-top:0;margin-bottom:5px}.media-list{padding-left:0;list-style:none}.list-group{margin-bottom:20px;padding-left:0}.list-group-item{position:relative;display:block;padding:10px 15px;margin-bottom:-1px;background-color:#fff;border:1px solid #ddd}.list-group-item:first-child{border-top-right-radius:2px;border-top-left-radius:2px}.list-group-item:last-child{margin-bottom:0;border-bottom-right-radius:2px;border-bottom-left-radius:2px}a.list-group-item{color:#555}a.list-group-item .list-group-item-heading{color:#333}a.list-group-item:focus,a.list-group-item:hover{text-decoration:none;color:#555;background-color:#f5f5f5}.list-group-item.disabled,.list-group-item.disabled:focus,.list-group-item.disabled:hover{background-color:#eee;color:#777;cursor:not-allowed}.list-group-item.disabled .list-group-item-heading,.list-group-item.disabled:focus .list-group-item-heading,.list-group-item.disabled:hover .list-group-item-heading{color:inherit}.list-group-item.disabled .list-group-item-text,.list-group-item.disabled:focus .list-group-item-text,.list-group-item.disabled:hover .list-group-item-text{color:#777}.list-group-item.active,.list-group-item.active:focus,.list-group-item.active:hover{z-index:2;color:#fff;background-color:#337ab7;border-color:#337ab7}.list-group-item.active .list-group-item-heading,.list-group-item.active .list-group-item-heading>.small,.list-group-item.active .list-group-item-heading>small,.list-group-item.active:focus .list-group-item-heading,.list-group-item.active:focus .list-group-item-heading>.small,.list-group-item.active:focus .list-group-item-heading>small,.list-group-item.active:hover .list-group-item-heading,.list-group-item.active:hover .list-group-item-heading>.small,.list-group-item.active:hover .list-group-item-heading>small{color:inherit}.list-group-item.active .list-group-item-text,.list-group-item.active:focus .list-group-item-text,.list-group-item.active:hover .list-group-item-text{color:#c7ddef}.list-group-item-success{color:#3c763d;background-color:#dff0d8}a.list-group-item-success{color:#3c763d}a.list-group-item-success .list-group-item-heading{color:inherit}a.list-group-item-success:focus,a.list-group-item-success:hover{color:#3c763d;background-color:#d0e9c6}a.list-group-item-success.active,a.list-group-item-success.active:focus,a.list-group-item-success.active:hover{color:#fff;background-color:#3c763d;border-color:#3c763d}.list-group-item-info{color:#31708f;background-color:#d9edf7}a.list-group-item-info{color:#31708f}a.list-group-item-info .list-group-item-heading{color:inherit}a.list-group-item-info:focus,a.list-group-item-info:hover{color:#31708f;background-color:#c4e3f3}a.list-group-item-info.active,a.list-group-item-info.active:focus,a.list-group-item-info.active:hover{color:#fff;background-color:#31708f;border-color:#31708f}.list-group-item-warning{color:#8a6d3b;background-color:#fcf8e3}a.list-group-item-warning{color:#8a6d3b}a.list-group-item-warning .list-group-item-heading{color:inherit}a.list-group-item-warning:focus,a.list-group-item-warning:hover{color:#8a6d3b;background-color:#faf2cc}a.list-group-item-warning.active,a.list-group-item-warning.active:focus,a.list-group-item-warning.active:hover{color:#fff;background-color:#8a6d3b;border-color:#8a6d3b}.list-group-item-danger{color:#a94442;background-color:#f2dede}a.list-group-item-danger{color:#a94442}a.list-group-item-danger .list-group-item-heading{color:inherit}a.list-group-item-danger:focus,a.list-group-item-danger:hover{color:#a94442;background-color:#ebcccc}a.list-group-item-danger.active,a.list-group-item-danger.active:focus,a.list-group-item-danger.active:hover{color:#fff;background-color:#a94442;border-color:#a94442}.list-group-item-heading{margin-top:0;margin-bottom:5px}.list-group-item-text{margin-bottom:0;line-height:1.3}.panel{margin-bottom:18px;background-color:#fff;border:1px solid transparent;border-radius:2px;-webkit-box-shadow:0 1px 1px rgba(0,0,0,.05);box-shadow:0 1px 1px rgba(0,0,0,.05)}.panel-body{padding:15px}.panel-heading{padding:10px 15px;border-bottom:1px solid transparent;border-top-right-radius:1px;border-top-left-radius:1px}.panel-heading>.dropdown .dropdown-toggle{color:inherit}.panel-title{margin-top:0;margin-bottom:0;font-size:15px;color:inherit}.panel-title>.small,.panel-title>.small>a,.panel-title>a,.panel-title>small,.panel-title>small>a{color:inherit}.panel-footer{padding:10px 15px;background-color:#f5f5f5;border-top:1px solid #ddd;border-bottom-right-radius:1px;border-bottom-left-radius:1px}.panel>.list-group,.panel>.panel-collapse>.list-group{margin-bottom:0}.panel>.list-group .list-group-item,.panel>.panel-collapse>.list-group .list-group-item{border-width:1px 0;border-radius:0}.panel>.list-group:first-child .list-group-item:first-child,.panel>.panel-collapse>.list-group:first-child .list-group-item:first-child{border-top:0;border-top-right-radius:1px;border-top-left-radius:1px}.panel>.list-group:last-child .list-group-item:last-child,.panel>.panel-collapse>.list-group:last-child .list-group-item:last-child{border-bottom:0;border-bottom-right-radius:1px;border-bottom-left-radius:1px}.list-group+.panel-footer,.panel-heading+.list-group .list-group-item:first-child{border-top-width:0}.panel>.panel-collapse>.table,.panel>.table,.panel>.table-responsive>.table{margin-bottom:0}.panel>.panel-collapse>.table caption,.panel>.table caption,.panel>.table-responsive>.table caption{padding-left:15px;padding-right:15px}.panel>.table-responsive:first-child>.table:first-child,.panel>.table:first-child{border-top-right-radius:1px;border-top-left-radius:1px}.panel>.table-responsive:first-child>.table:first-child>tbody:first-child>tr:first-child,.panel>.table-responsive:first-child>.table:first-child>thead:first-child>tr:first-child,.panel>.table:first-child>tbody:first-child>tr:first-child,.panel>.table:first-child>thead:first-child>tr:first-child{border-top-left-radius:1px;border-top-right-radius:1px}.panel>.table-responsive:first-child>.table:first-child>tbody:first-child>tr:first-child td:first-child,.panel>.table-responsive:first-child>.table:first-child>tbody:first-child>tr:first-child th:first-child,.panel>.table-responsive:first-child>.table:first-child>thead:first-child>tr:first-child td:first-child,.panel>.table-responsive:first-child>.table:first-child>thead:first-child>tr:first-child th:first-child,.panel>.table:first-child>tbody:first-child>tr:first-child td:first-child,.panel>.table:first-child>tbody:first-child>tr:first-child th:first-child,.panel>.table:first-child>thead:first-child>tr:first-child td:first-child,.panel>.table:first-child>thead:first-child>tr:first-child th:first-child{border-top-left-radius:1px}.panel>.table-responsive:first-child>.table:first-child>tbody:first-child>tr:first-child td:last-child,.panel>.table-responsive:first-child>.table:first-child>tbody:first-child>tr:first-child th:last-child,.panel>.table-responsive:first-child>.table:first-child>thead:first-child>tr:first-child td:last-child,.panel>.table-responsive:first-child>.table:first-child>thead:first-child>tr:first-child th:last-child,.panel>.table:first-child>tbody:first-child>tr:first-child td:last-child,.panel>.table:first-child>tbody:first-child>tr:first-child th:last-child,.panel>.table:first-child>thead:first-child>tr:first-child td:last-child,.panel>.table:first-child>thead:first-child>tr:first-child th:last-child{border-top-right-radius:1px}.panel>.table-responsive:last-child>.table:last-child,.panel>.table:last-child{border-bottom-right-radius:1px;border-bottom-left-radius:1px}.panel>.table-responsive:last-child>.table:last-child>tbody:last-child>tr:last-child,.panel>.table-responsive:last-child>.table:last-child>tfoot:last-child>tr:last-child,.panel>.table:last-child>tbody:last-child>tr:last-child,.panel>.table:last-child>tfoot:last-child>tr:last-child{border-bottom-left-radius:1px;border-bottom-right-radius:1px}.panel>.table-responsive:last-child>.table:last-child>tbody:last-child>tr:last-child td:first-child,.panel>.table-responsive:last-child>.table:last-child>tbody:last-child>tr:last-child th:first-child,.panel>.table-responsive:last-child>.table:last-child>tfoot:last-child>tr:last-child td:first-child,.panel>.table-responsive:last-child>.table:last-child>tfoot:last-child>tr:last-child th:first-child,.panel>.table:last-child>tbody:last-child>tr:last-child td:first-child,.panel>.table:last-child>tbody:last-child>tr:last-child th:first-child,.panel>.table:last-child>tfoot:last-child>tr:last-child td:first-child,.panel>.table:last-child>tfoot:last-child>tr:last-child th:first-child{border-bottom-left-radius:1px}.panel>.table-responsive:last-child>.table:last-child>tbody:last-child>tr:last-child td:last-child,.panel>.table-responsive:last-child>.table:last-child>tbody:last-child>tr:last-child th:last-child,.panel>.table-responsive:last-child>.table:last-child>tfoot:last-child>tr:last-child td:last-child,.panel>.table-responsive:last-child>.table:last-child>tfoot:last-child>tr:last-child th:last-child,.panel>.table:last-child>tbody:last-child>tr:last-child td:last-child,.panel>.table:last-child>tbody:last-child>tr:last-child th:last-child,.panel>.table:last-child>tfoot:last-child>tr:last-child td:last-child,.panel>.table:last-child>tfoot:last-child>tr:last-child th:last-child{border-bottom-right-radius:1px}.panel>.panel-body+.table,.panel>.panel-body+.table-responsive,.panel>.table+.panel-body,.panel>.table-responsive+.panel-body{border-top:1px solid #ddd}.panel>.table>tbody:first-child>tr:first-child td,.panel>.table>tbody:first-child>tr:first-child th{border-top:0}.panel>.table-bordered,.panel>.table-responsive>.table-bordered{border:0}.panel>.table-bordered>tbody>tr>td:first-child,.panel>.table-bordered>tbody>tr>th:first-child,.panel>.table-bordered>tfoot>tr>td:first-child,.panel>.table-bordered>tfoot>tr>th:first-child,.panel>.table-bordered>thead>tr>td:first-child,.panel>.table-bordered>thead>tr>th:first-child,.panel>.table-responsive>.table-bordered>tbody>tr>td:first-child,.panel>.table-responsive>.table-bordered>tbody>tr>th:first-child,.panel>.table-responsive>.table-bordered>tfoot>tr>td:first-child,.panel>.table-responsive>.table-bordered>tfoot>tr>th:first-child,.panel>.table-responsive>.table-bordered>thead>tr>td:first-child,.panel>.table-responsive>.table-bordered>thead>tr>th:first-child{border-left:0}.panel>.table-bordered>tbody>tr>td:last-child,.panel>.table-bordered>tbody>tr>th:last-child,.panel>.table-bordered>tfoot>tr>td:last-child,.panel>.table-bordered>tfoot>tr>th:last-child,.panel>.table-bordered>thead>tr>td:last-child,.panel>.table-bordered>thead>tr>th:last-child,.panel>.table-responsive>.table-bordered>tbody>tr>td:last-child,.panel>.table-responsive>.table-bordered>tbody>tr>th:last-child,.panel>.table-responsive>.table-bordered>tfoot>tr>td:last-child,.panel>.table-responsive>.table-bordered>tfoot>tr>th:last-child,.panel>.table-responsive>.table-bordered>thead>tr>td:last-child,.panel>.table-responsive>.table-bordered>thead>tr>th:last-child{border-right:0}.panel>.table-bordered>tbody>tr:first-child>td,.panel>.table-bordered>tbody>tr:first-child>th,.panel>.table-bordered>tbody>tr:last-child>td,.panel>.table-bordered>tbody>tr:last-child>th,.panel>.table-bordered>tfoot>tr:last-child>td,.panel>.table-bordered>tfoot>tr:last-child>th,.panel>.table-bordered>thead>tr:first-child>td,.panel>.table-bordered>thead>tr:first-child>th,.panel>.table-responsive>.table-bordered>tbody>tr:first-child>td,.panel>.table-responsive>.table-bordered>tbody>tr:first-child>th,.panel>.table-responsive>.table-bordered>tbody>tr:last-child>td,.panel>.table-responsive>.table-bordered>tbody>tr:last-child>th,.panel>.table-responsive>.table-bordered>tfoot>tr:last-child>td,.panel>.table-responsive>.table-bordered>tfoot>tr:last-child>th,.panel>.table-responsive>.table-bordered>thead>tr:first-child>td,.panel>.table-responsive>.table-bordered>thead>tr:first-child>th{border-bottom:0}.panel>.table-responsive{border:0;margin-bottom:0}.panel-group{margin-bottom:18px}.panel-group .panel{margin-bottom:0;border-radius:2px}.panel-group .panel+.panel{margin-top:5px}.panel-group .panel-heading{border-bottom:0}.panel-group .panel-heading+.panel-collapse>.list-group,.panel-group .panel-heading+.panel-collapse>.panel-body{border-top:1px solid #ddd}.panel-group .panel-footer{border-top:0}.panel-group .panel-footer+.panel-collapse .panel-body{border-bottom:1px solid #ddd}.panel-default{border-color:#ddd}.panel-default>.panel-heading{color:#333;background-color:#f5f5f5;border-color:#ddd}.panel-default>.panel-heading+.panel-collapse>.panel-body{border-top-color:#ddd}.panel-default>.panel-heading .badge{color:#f5f5f5;background-color:#333}.panel-default>.panel-footer+.panel-collapse>.panel-body{border-bottom-color:#ddd}.panel-primary{border-color:#337ab7}.panel-primary>.panel-heading{color:#fff;background-color:#337ab7;border-color:#337ab7}.panel-primary>.panel-heading+.panel-collapse>.panel-body{border-top-color:#337ab7}.panel-primary>.panel-heading .badge{color:#337ab7;background-color:#fff}.panel-primary>.panel-footer+.panel-collapse>.panel-body{border-bottom-color:#337ab7}.panel-success{border-color:#d6e9c6}.panel-success>.panel-heading{color:#3c763d;background-color:#dff0d8;border-color:#d6e9c6}.panel-success>.panel-heading+.panel-collapse>.panel-body{border-top-color:#d6e9c6}.panel-success>.panel-heading .badge{color:#dff0d8;background-color:#3c763d}.panel-success>.panel-footer+.panel-collapse>.panel-body{border-bottom-color:#d6e9c6}.panel-info{border-color:#bce8f1}.panel-info>.panel-heading{color:#31708f;background-color:#d9edf7;border-color:#bce8f1}.panel-info>.panel-heading+.panel-collapse>.panel-body{border-top-color:#bce8f1}.panel-info>.panel-heading .badge{color:#d9edf7;background-color:#31708f}.panel-info>.panel-footer+.panel-collapse>.panel-body{border-bottom-color:#bce8f1}.panel-warning{border-color:#faebcc}.panel-warning>.panel-heading{color:#8a6d3b;background-color:#fcf8e3;border-color:#faebcc}.panel-warning>.panel-heading+.panel-collapse>.panel-body{border-top-color:#faebcc}.panel-warning>.panel-heading .badge{color:#fcf8e3;background-color:#8a6d3b}.panel-warning>.panel-footer+.panel-collapse>.panel-body{border-bottom-color:#faebcc}.panel-danger{border-color:#ebccd1}.panel-danger>.panel-heading{color:#a94442;background-color:#f2dede;border-color:#ebccd1}.panel-danger>.panel-heading+.panel-collapse>.panel-body{border-top-color:#ebccd1}.panel-danger>.panel-heading .badge{color:#f2dede;background-color:#a94442}.panel-danger>.panel-footer+.panel-collapse>.panel-body{border-bottom-color:#ebccd1}.embed-responsive{position:relative;display:block;height:0;padding:0;overflow:hidden}.embed-responsive .embed-responsive-item,.embed-responsive embed,.embed-responsive iframe,.embed-responsive object,.embed-responsive video{position:absolute;top:0;left:0;bottom:0;height:100%;width:100%;border:0}.embed-responsive-16by9{padding-bottom:56.25%}.embed-responsive-4by3{padding-bottom:75%}.well{min-height:20px;padding:19px;margin-bottom:20px;background-color:#f5f5f5;border:1px solid #e3e3e3;border-radius:2px;-webkit-box-shadow:inset 0 1px 1px rgba(0,0,0,.05);box-shadow:inset 0 1px 1px rgba(0,0,0,.05)}.well blockquote{border-color:#ddd;border-color:rgba(0,0,0,.15)}.well-lg{padding:24px;border-radius:3px}.well-sm{padding:9px;border-radius:1px}.close{float:right;font-size:19.5px;font-weight:700;line-height:1;color:#000;text-shadow:0 1px 0 #fff;opacity:.2;filter:alpha(opacity=20)}.close:focus,.close:hover{color:#000;text-decoration:none;cursor:pointer;opacity:.5;filter:alpha(opacity=50)}button.close{padding:0;cursor:pointer;background:0 0;border:0;-webkit-appearance:none}.modal-open{overflow:hidden}.modal{display:none;overflow:hidden;position:fixed;top:0;right:0;bottom:0;left:0;z-index:1050;-webkit-overflow-scrolling:touch;outline:0}.modal.fade .modal-dialog{-webkit-transition:-webkit-transform .3s ease-out;-moz-transition:-moz-transform .3s ease-out;-o-transition:-o-transform .3s ease-out;transition:transform .3s ease-out}.modal.in .modal-dialog{-webkit-transform:translate(0,0);-ms-transform:translate(0,0);-o-transform:translate(0,0);transform:translate(0,0)}.modal-open .modal{overflow-x:hidden;overflow-y:auto}.modal-dialog{position:relative;width:auto;margin:10px}.modal-content{position:relative;background-color:#fff;border:1px solid #999;border:1px solid rgba(0,0,0,.2);border-radius:3px;-webkit-box-shadow:0 3px 9px rgba(0,0,0,.5);box-shadow:0 3px 9px rgba(0,0,0,.5);background-clip:padding-box;outline:0}.modal-backdrop{position:fixed;top:0;right:0;bottom:0;left:0;z-index:1040;background-color:#000}.modal-backdrop.fade{opacity:0;filter:alpha(opacity=0)}.modal-backdrop.in{opacity:.5;filter:alpha(opacity=50)}.modal-header{padding:15px;border-bottom:1px solid #e5e5e5;min-height:16.43px}.modal-header .close{margin-top:-2px}.modal-title{margin:0;line-height:1.42857143}.modal-body{position:relative;padding:15px}.modal-footer{padding:15px;text-align:right;border-top:1px solid #e5e5e5}.modal-footer .btn+.btn{margin-left:5px;margin-bottom:0}.modal-footer .btn-group .btn+.btn{margin-left:-1px}.modal-footer .btn-block+.btn-block{margin-left:0}.modal-scrollbar-measure{position:absolute;top:-9999px;width:50px;height:50px;overflow:scroll}@media (min-width:768px){.modal-dialog{width:600px;margin:30px auto}.modal-content{-webkit-box-shadow:0 5px 15px rgba(0,0,0,.5);box-shadow:0 5px 15px rgba(0,0,0,.5)}.modal-sm{width:300px}}@media (min-width:992px){.modal-lg{width:900px}}.tooltip{position:absolute;z-index:1070;display:block;font-family:"Helvetica Neue",Helvetica,Arial,sans-serif;font-size:12px;font-weight:400;line-height:1.4;opacity:0;filter:alpha(opacity=0)}.tooltip.in{opacity:.9;filter:alpha(opacity=90)}.tooltip.top{margin-top:-3px;padding:5px 0}.tooltip.right{margin-left:3px;padding:0 5px}.tooltip.bottom{margin-top:3px;padding:5px 0}.tooltip.left{margin-left:-3px;padding:0 5px}.tooltip-inner{max-width:200px;padding:3px 8px;color:#fff;text-align:center;text-decoration:none;background-color:#000;border-radius:2px}.tooltip-arrow{position:absolute;width:0;height:0;border-color:transparent;border-style:solid}.tooltip.top .tooltip-arrow{bottom:0;left:50%;margin-left:-5px;border-width:5px 5px 0;border-top-color:#000}.tooltip.top-left .tooltip-arrow{bottom:0;right:5px;margin-bottom:-5px;border-width:5px 5px 0;border-top-color:#000}.tooltip.top-right .tooltip-arrow{bottom:0;left:5px;margin-bottom:-5px;border-width:5px 5px 0;border-top-color:#000}.tooltip.right .tooltip-arrow{top:50%;left:0;margin-top:-5px;border-width:5px 5px 5px 0;border-right-color:#000}.tooltip.left .tooltip-arrow{top:50%;right:0;margin-top:-5px;border-width:5px 0 5px 5px;border-left-color:#000}.tooltip.bottom .tooltip-arrow{top:0;left:50%;margin-left:-5px;border-width:0 5px 5px;border-bottom-color:#000}.tooltip.bottom-left .tooltip-arrow{top:0;right:5px;margin-top:-5px;border-width:0 5px 5px;border-bottom-color:#000}.tooltip.bottom-right .tooltip-arrow{top:0;left:5px;margin-top:-5px;border-width:0 5px 5px;border-bottom-color:#000}.popover{position:absolute;top:0;left:0;z-index:1060;display:none;max-width:276px;padding:1px;font-family:"Helvetica Neue",Helvetica,Arial,sans-serif;font-size:13px;font-weight:400;line-height:1.42857143;text-align:left;background-color:#fff;background-clip:padding-box;border:1px solid #ccc;border:1px solid rgba(0,0,0,.2);border-radius:3px;-webkit-box-shadow:0 5px 10px rgba(0,0,0,.2);box-shadow:0 5px 10px rgba(0,0,0,.2);white-space:normal}.popover.top{margin-top:-10px}.popover.right{margin-left:10px}.popover.bottom{margin-top:10px}.popover.left{margin-left:-10px}.popover-title{margin:0;padding:8px 14px;font-size:13px;background-color:#f7f7f7;border-bottom:1px solid #ebebeb;border-radius:2px 2px 0 0}.popover-content{padding:9px 14px}.popover>.arrow,.popover>.arrow:after{position:absolute;display:block;width:0;height:0;border-color:transparent;border-style:solid}.popover>.arrow{border-width:11px}.popover>.arrow:after{border-width:10px;content:""}.popover.top>.arrow{left:50%;margin-left:-11px;border-bottom-width:0;border-top-color:#999;border-top-color:rgba(0,0,0,.25);bottom:-11px}.popover.top>.arrow:after{content:" ";bottom:1px;margin-left:-10px;border-bottom-width:0;border-top-color:#fff}.popover.right>.arrow{top:50%;left:-11px;margin-top:-11px;border-left-width:0;border-right-color:#999;border-right-color:rgba(0,0,0,.25)}.popover.right>.arrow:after{content:" ";left:1px;bottom:-10px;border-left-width:0;border-right-color:#fff}.popover.bottom>.arrow{left:50%;margin-left:-11px;border-top-width:0;border-bottom-color:#999;border-bottom-color:rgba(0,0,0,.25);top:-11px}.popover.bottom>.arrow:after{content:" ";top:1px;margin-left:-10px;border-top-width:0;border-bottom-color:#fff}.popover.left>.arrow{top:50%;right:-11px;margin-top:-11px;border-right-width:0;border-left-color:#999;border-left-color:rgba(0,0,0,.25)}.popover.left>.arrow:after{content:" ";right:1px;border-right-width:0;border-left-color:#fff;bottom:-10px}.carousel{position:relative}.carousel-inner{position:relative;overflow:hidden;width:100%}.carousel-inner>.item{display:none;position:relative;-webkit-transition:.6s ease-in-out left;-o-transition:.6s ease-in-out left;transition:.6s ease-in-out left}.carousel-inner>.item>a>img,.carousel-inner>.item>img{line-height:1}@media all and (transform-3d),(-webkit-transform-3d){.carousel-inner>.item{-webkit-transition:-webkit-transform .6s ease-in-out;-moz-transition:-moz-transform .6s ease-in-out;-o-transition:-o-transform .6s ease-in-out;transition:transform .6s ease-in-out;-webkit-backface-visibility:hidden;-moz-backface-visibility:hidden;backface-visibility:hidden;-webkit-perspective:1000;-moz-perspective:1000;perspective:1000}.carousel-inner>.item.active.right,.carousel-inner>.item.next{-webkit-transform:translate3d(100%,0,0);transform:translate3d(100%,0,0);left:0}.carousel-inner>.item.active.left,.carousel-inner>.item.prev{-webkit-transform:translate3d(-100%,0,0);transform:translate3d(-100%,0,0);left:0}.carousel-inner>.item.active,.carousel-inner>.item.next.left,.carousel-inner>.item.prev.right{-webkit-transform:translate3d(0,0,0);transform:translate3d(0,0,0);left:0}}.carousel-inner>.active,.carousel-inner>.next,.carousel-inner>.prev{display:block}.carousel-inner>.active{left:0}.carousel-inner>.next,.carousel-inner>.prev{position:absolute;top:0;width:100%}.carousel-inner>.next{left:100%}.carousel-inner>.prev{left:-100%}.carousel-inner>.next.left,.carousel-inner>.prev.right{left:0}.carousel-inner>.active.left{left:-100%}.carousel-inner>.active.right{left:100%}.carousel-control{position:absolute;top:0;left:0;bottom:0;width:15%;opacity:.5;filter:alpha(opacity=50);font-size:20px;color:#fff;text-align:center;text-shadow:0 1px 2px rgba(0,0,0,.6)}.carousel-control.left{background-image:-webkit-linear-gradient(left,rgba(0,0,0,.5) 0,rgba(0,0,0,.0001) 100%);background-image:-o-linear-gradient(left,rgba(0,0,0,.5) 0,rgba(0,0,0,.0001) 100%);background-image:linear-gradient(to right,rgba(0,0,0,.5) 0,rgba(0,0,0,.0001) 100%);background-repeat:repeat-x;filter:progid:DXImageTransform.Microsoft.gradient(startColorstr='#80000000', endColorstr='#00000000', GradientType=1)}.carousel-control.right{left:auto;right:0;background-image:-webkit-linear-gradient(left,rgba(0,0,0,.0001) 0,rgba(0,0,0,.5) 100%);background-image:-o-linear-gradient(left,rgba(0,0,0,.0001) 0,rgba(0,0,0,.5) 100%);background-image:linear-gradient(to right,rgba(0,0,0,.0001) 0,rgba(0,0,0,.5) 100%);background-repeat:repeat-x;filter:progid:DXImageTransform.Microsoft.gradient(startColorstr='#00000000', endColorstr='#80000000', GradientType=1)}.carousel-control:focus,.carousel-control:hover{outline:0;color:#fff;text-decoration:none;opacity:.9;filter:alpha(opacity=90)}.carousel-control .glyphicon-chevron-left,.carousel-control .glyphicon-chevron-right,.carousel-control .icon-next,.carousel-control .icon-prev{position:absolute;top:50%;z-index:5;display:inline-block}.carousel-control .glyphicon-chevron-left,.carousel-control .icon-prev{left:50%;margin-left:-10px}.carousel-control .glyphicon-chevron-right,.carousel-control .icon-next{right:50%;margin-right:-10px}.carousel-control .icon-next,.carousel-control .icon-prev{width:20px;height:20px;margin-top:-10px;line-height:1;font-family:serif}.carousel-control .icon-prev:before{content:'\2039'}.carousel-control .icon-next:before{content:'\203a'}.carousel-indicators{position:absolute;bottom:10px;left:50%;z-index:15;width:60%;margin-left:-30%;padding-left:0;list-style:none;text-align:center}.carousel-indicators li{display:inline-block;width:10px;height:10px;margin:1px;text-indent:-999px;border:1px solid #fff;border-radius:10px;cursor:pointer;background-color:transparent}.carousel-indicators .active{margin:0;width:12px;height:12px;background-color:#fff}.carousel-caption{position:absolute;left:15%;right:15%;bottom:20px;z-index:10;padding-top:20px;padding-bottom:20px;color:#fff;text-align:center;text-shadow:0 1px 2px rgba(0,0,0,.6)}.carousel-caption .btn{text-shadow:none}@media screen and (min-width:768px){.carousel-control .glyphicon-chevron-left,.carousel-control .glyphicon-chevron-right,.carousel-control .icon-next,.carousel-control .icon-prev{width:30px;height:30px;margin-top:-15px;font-size:30px}.carousel-control .glyphicon-chevron-left,.carousel-control .icon-prev{margin-left:-15px}.carousel-control .glyphicon-chevron-right,.carousel-control .icon-next{margin-right:-15px}.carousel-caption{left:20%;right:20%;padding-bottom:30px}.carousel-indicators{bottom:20px}}.btn-group-vertical>.btn-group:after,.btn-group-vertical>.btn-group:before,.btn-toolbar:after,.btn-toolbar:before,.clearfix:after,.clearfix:before,.container-fluid:after,.container-fluid:before,.container:after,.container:before,.dl-horizontal dd:after,.dl-horizontal dd:before,.form-horizontal .form-group:after,.form-horizontal .form-group:before,.item_buttons:after,.item_buttons:before,.modal-footer:after,.modal-footer:before,.nav:after,.nav:before,.navbar-collapse:after,.navbar-collapse:before,.navbar-header:after,.navbar-header:before,.navbar:after,.navbar:before,.pager:after,.pager:before,.panel-body:after,.panel-body:before,.row:after,.row:before{content:" ";display:table}.btn-group-vertical>.btn-group:after,.btn-toolbar:after,.clearfix:after,.container-fluid:after,.container:after,.dl-horizontal dd:after,.form-horizontal .form-group:after,.item_buttons:after,.modal-footer:after,.nav:after,.navbar-collapse:after,.navbar-header:after,.navbar:after,.pager:after,.panel-body:after,.row:after{clear:both}.center-block{display:block;margin-left:auto;margin-right:auto}.pull-right{float:right!important}.pull-left{float:left!important}.hide{display:none!important}.show{display:block!important}.invisible{visibility:hidden}.text-hide{font:0/0 a;color:transparent;text-shadow:none;background-color:transparent;border:0}.hidden{display:none!important}.affix{position:fixed}@-ms-viewport{width:device-width}.visible-lg,.visible-lg-block,.visible-lg-inline,.visible-lg-inline-block,.visible-md,.visible-md-block,.visible-md-inline,.visible-md-inline-block,.visible-sm,.visible-sm-block,.visible-sm-inline,.visible-sm-inline-block,.visible-xs,.visible-xs-block,.visible-xs-inline,.visible-xs-inline-block{display:none!important}@media (max-width:767px){.visible-xs{display:block!important}table.visible-xs{display:table}tr.visible-xs{display:table-row!important}td.visible-xs,th.visible-xs{display:table-cell!important}.visible-xs-block{display:block!important}.visible-xs-inline{display:inline!important}.visible-xs-inline-block{display:inline-block!important}}@media (min-width:768px)and (max-width:991px){.visible-sm{display:block!important}table.visible-sm{display:table}tr.visible-sm{display:table-row!important}td.visible-sm,th.visible-sm{display:table-cell!important}.visible-sm-block{display:block!important}.visible-sm-inline{display:inline!important}.visible-sm-inline-block{display:inline-block!important}}@media (min-width:992px)and (max-width:1199px){.visible-md{display:block!important}table.visible-md{display:table}tr.visible-md{display:table-row!important}td.visible-md,th.visible-md{display:table-cell!important}.visible-md-block{display:block!important}.visible-md-inline{display:inline!important}.visible-md-inline-block{display:inline-block!important}}@media (min-width:1200px){.visible-lg{display:block!important}table.visible-lg{display:table}tr.visible-lg{display:table-row!important}td.visible-lg,th.visible-lg{display:table-cell!important}.visible-lg-block{display:block!important}.visible-lg-inline{display:inline!important}.visible-lg-inline-block{display:inline-block!important}}@media (max-width:767px){.hidden-xs{display:none!important}}@media (min-width:768px)and (max-width:991px){.hidden-sm{display:none!important}}@media (min-width:992px)and (max-width:1199px){.hidden-md{display:none!important}}@media (min-width:1200px){.hidden-lg{display:none!important}}.visible-print{display:none!important}@media print{.visible-print{display:block!important}table.visible-print{display:table}tr.visible-print{display:table-row!important}td.visible-print,th.visible-print{display:table-cell!important}}.visible-print-block{display:none!important}@media print{.visible-print-block{display:block!important}}.visible-print-inline{display:none!important}@media print{.visible-print-inline{display:inline!important}}.visible-print-inline-block{display:none!important}@media print{.visible-print-inline-block{display:inline-block!important}.hidden-print{display:none!important}}/*!
*
* Font Awesome
*
*//*!
 *  Font Awesome 4.2.0 by @davegandy - http://fontawesome.io - @fontawesome
 *  License - http://fontawesome.io/license (Font: SIL OFL 1.1, CSS: MIT License)
 */@font-face{font-family:'FontAwesome';src:url(../components/font-awesome/fonts/fontawesome-webfont.eot?v=4.2.0);src:url(../components/font-awesome/fonts/fontawesome-webfont.eot?#iefix&v=4.2.0)format('embedded-opentype'),url(../components/font-awesome/fonts/fontawesome-webfont.woff?v=4.2.0)format('woff'),url(../components/font-awesome/fonts/fontawesome-webfont.ttf?v=4.2.0)format('truetype'),url(../components/font-awesome/fonts/fontawesome-webfont.svg?v=4.2.0#fontawesomeregular)format('svg');font-weight:400;font-style:normal}.fa{display:inline-block;font:normal normal normal 14px/1 FontAwesome;font-size:inherit;text-rendering:auto;-webkit-font-smoothing:antialiased;-moz-osx-font-smoothing:grayscale}.fa-lg{font-size:1.33333333em;line-height:.75em;vertical-align:-15%}.fa-2x{font-size:2em}.fa-3x{font-size:3em}.fa-4x{font-size:4em}.fa-5x{font-size:5em}.fa-fw{width:1.28571429em;text-align:center}.fa-ul{padding-left:0;margin-left:2.14285714em;list-style-type:none}.fa-ul>li{position:relative}.fa-li{position:absolute;left:-2.14285714em;width:2.14285714em;top:.14285714em;text-align:center}.fa-li.fa-lg{left:-1.85714286em}.fa-border{padding:.2em .25em .15em;border:.08em solid #eee;border-radius:.1em}.fa.pull-left{margin-right:.3em}.fa.pull-right{margin-left:.3em}.fa-spin{-webkit-animation:fa-spin 2s infinite linear;animation:fa-spin 2s infinite linear}@-webkit-keyframes fa-spin{0%{-webkit-transform:rotate(0);transform:rotate(0)}100%{-webkit-transform:rotate(359deg);transform:rotate(359deg)}}@keyframes fa-spin{0%{-webkit-transform:rotate(0);transform:rotate(0)}100%{-webkit-transform:rotate(359deg);transform:rotate(359deg)}}.fa-rotate-90{filter:progid:DXImageTransform.Microsoft.BasicImage(rotation=1);-webkit-transform:rotate(90deg);-ms-transform:rotate(90deg);transform:rotate(90deg)}.fa-rotate-180{filter:progid:DXImageTransform.Microsoft.BasicImage(rotation=2);-webkit-transform:rotate(180deg);-ms-transform:rotate(180deg);transform:rotate(180deg)}.fa-rotate-270{filter:progid:DXImageTransform.Microsoft.BasicImage(rotation=3);-webkit-transform:rotate(270deg);-ms-transform:rotate(270deg);transform:rotate(270deg)}.fa-flip-horizontal{filter:progid:DXImageTransform.Microsoft.BasicImage(rotation=0, mirror=1);-webkit-transform:scale(-1,1);-ms-transform:scale(-1,1);transform:scale(-1,1)}.fa-flip-vertical{filter:progid:DXImageTransform.Microsoft.BasicImage(rotation=2, mirror=1);-webkit-transform:scale(1,-1);-ms-transform:scale(1,-1);transform:scale(1,-1)}:root .fa-flip-horizontal,:root .fa-flip-vertical,:root .fa-rotate-180,:root .fa-rotate-270,:root .fa-rotate-90{filter:none}.fa-stack{position:relative;display:inline-block;width:2em;height:2em;line-height:2em;vertical-align:middle}.fa-stack-1x,.fa-stack-2x{position:absolute;left:0;width:100%;text-align:center}.fa-stack-1x{line-height:inherit}.fa-stack-2x{font-size:2em}.fa-inverse{color:#fff}.fa-glass:before{content:"\f000"}.fa-music:before{content:"\f001"}.fa-search:before{content:"\f002"}.fa-envelope-o:before{content:"\f003"}.fa-heart:before{content:"\f004"}.fa-star:before{content:"\f005"}.fa-star-o:before{content:"\f006"}.fa-user:before{content:"\f007"}.fa-film:before{content:"\f008"}.fa-th-large:before{content:"\f009"}.fa-th:before{content:"\f00a"}.fa-th-list:before{content:"\f00b"}.fa-check:before{content:"\f00c"}.fa-close:before,.fa-remove:before,.fa-times:before{content:"\f00d"}.fa-search-plus:before{content:"\f00e"}.fa-search-minus:before{content:"\f010"}.fa-power-off:before{content:"\f011"}.fa-signal:before{content:"\f012"}.fa-cog:before,.fa-gear:before{content:"\f013"}.fa-trash-o:before{content:"\f014"}.fa-home:before{content:"\f015"}.fa-file-o:before{content:"\f016"}.fa-clock-o:before{content:"\f017"}.fa-road:before{content:"\f018"}.fa-download:before{content:"\f019"}.fa-arrow-circle-o-down:before{content:"\f01a"}.fa-arrow-circle-o-up:before{content:"\f01b"}.fa-inbox:before{content:"\f01c"}.fa-play-circle-o:before{content:"\f01d"}.fa-repeat:before,.fa-rotate-right:before{content:"\f01e"}.fa-refresh:before{content:"\f021"}.fa-list-alt:before{content:"\f022"}.fa-lock:before{content:"\f023"}.fa-flag:before{content:"\f024"}.fa-headphones:before{content:"\f025"}.fa-volume-off:before{content:"\f026"}.fa-volume-down:before{content:"\f027"}.fa-volume-up:before{content:"\f028"}.fa-qrcode:before{content:"\f029"}.fa-barcode:before{content:"\f02a"}.fa-tag:before{content:"\f02b"}.fa-tags:before{content:"\f02c"}.fa-book:before{content:"\f02d"}.fa-bookmark:before{content:"\f02e"}.fa-print:before{content:"\f02f"}.fa-camera:before{content:"\f030"}.fa-font:before{content:"\f031"}.fa-bold:before{content:"\f032"}.fa-italic:before{content:"\f033"}.fa-text-height:before{content:"\f034"}.fa-text-width:before{content:"\f035"}.fa-align-left:before{content:"\f036"}.fa-align-center:before{content:"\f037"}.fa-align-right:before{content:"\f038"}.fa-align-justify:before{content:"\f039"}.fa-list:before{content:"\f03a"}.fa-dedent:before,.fa-outdent:before{content:"\f03b"}.fa-indent:before{content:"\f03c"}.fa-video-camera:before{content:"\f03d"}.fa-image:before,.fa-photo:before,.fa-picture-o:before{content:"\f03e"}.fa-pencil:before{content:"\f040"}.fa-map-marker:before{content:"\f041"}.fa-adjust:before{content:"\f042"}.fa-tint:before{content:"\f043"}.fa-edit:before,.fa-pencil-square-o:before{content:"\f044"}.fa-share-square-o:before{content:"\f045"}.fa-check-square-o:before{content:"\f046"}.fa-arrows:before{content:"\f047"}.fa-step-backward:before{content:"\f048"}.fa-fast-backward:before{content:"\f049"}.fa-backward:before{content:"\f04a"}.fa-play:before{content:"\f04b"}.fa-pause:before{content:"\f04c"}.fa-stop:before{content:"\f04d"}.fa-forward:before{content:"\f04e"}.fa-fast-forward:before{content:"\f050"}.fa-step-forward:before{content:"\f051"}.fa-eject:before{content:"\f052"}.fa-chevron-left:before{content:"\f053"}.fa-chevron-right:before{content:"\f054"}.fa-plus-circle:before{content:"\f055"}.fa-minus-circle:before{content:"\f056"}.fa-times-circle:before{content:"\f057"}.fa-check-circle:before{content:"\f058"}.fa-question-circle:before{content:"\f059"}.fa-info-circle:before{content:"\f05a"}.fa-crosshairs:before{content:"\f05b"}.fa-times-circle-o:before{content:"\f05c"}.fa-check-circle-o:before{content:"\f05d"}.fa-ban:before{content:"\f05e"}.fa-arrow-left:before{content:"\f060"}.fa-arrow-right:before{content:"\f061"}.fa-arrow-up:before{content:"\f062"}.fa-arrow-down:before{content:"\f063"}.fa-mail-forward:before,.fa-share:before{content:"\f064"}.fa-expand:before{content:"\f065"}.fa-compress:before{content:"\f066"}.fa-plus:before{content:"\f067"}.fa-minus:before{content:"\f068"}.fa-asterisk:before{content:"\f069"}.fa-exclamation-circle:before{content:"\f06a"}.fa-gift:before{content:"\f06b"}.fa-leaf:before{content:"\f06c"}.fa-fire:before{content:"\f06d"}.fa-eye:before{content:"\f06e"}.fa-eye-slash:before{content:"\f070"}.fa-exclamation-triangle:before,.fa-warning:before{content:"\f071"}.fa-plane:before{content:"\f072"}.fa-calendar:before{content:"\f073"}.fa-random:before{content:"\f074"}.fa-comment:before{content:"\f075"}.fa-magnet:before{content:"\f076"}.fa-chevron-up:before{content:"\f077"}.fa-chevron-down:before{content:"\f078"}.fa-retweet:before{content:"\f079"}.fa-shopping-cart:before{content:"\f07a"}.fa-folder:before{content:"\f07b"}.fa-folder-open:before{content:"\f07c"}.fa-arrows-v:before{content:"\f07d"}.fa-arrows-h:before{content:"\f07e"}.fa-bar-chart-o:before,.fa-bar-chart:before{content:"\f080"}.fa-twitter-square:before{content:"\f081"}.fa-facebook-square:before{content:"\f082"}.fa-camera-retro:before{content:"\f083"}.fa-key:before{content:"\f084"}.fa-cogs:before,.fa-gears:before{content:"\f085"}.fa-comments:before{content:"\f086"}.fa-thumbs-o-up:before{content:"\f087"}.fa-thumbs-o-down:before{content:"\f088"}.fa-star-half:before{content:"\f089"}.fa-heart-o:before{content:"\f08a"}.fa-sign-out:before{content:"\f08b"}.fa-linkedin-square:before{content:"\f08c"}.fa-thumb-tack:before{content:"\f08d"}.fa-external-link:before{content:"\f08e"}.fa-sign-in:before{content:"\f090"}.fa-trophy:before{content:"\f091"}.fa-github-square:before{content:"\f092"}.fa-upload:before{content:"\f093"}.fa-lemon-o:before{content:"\f094"}.fa-phone:before{content:"\f095"}.fa-square-o:before{content:"\f096"}.fa-bookmark-o:before{content:"\f097"}.fa-phone-square:before{content:"\f098"}.fa-twitter:before{content:"\f099"}.fa-facebook:before{content:"\f09a"}.fa-github:before{content:"\f09b"}.fa-unlock:before{content:"\f09c"}.fa-credit-card:before{content:"\f09d"}.fa-rss:before{content:"\f09e"}.fa-hdd-o:before{content:"\f0a0"}.fa-bullhorn:before{content:"\f0a1"}.fa-bell:before{content:"\f0f3"}.fa-certificate:before{content:"\f0a3"}.fa-hand-o-right:before{content:"\f0a4"}.fa-hand-o-left:before{content:"\f0a5"}.fa-hand-o-up:before{content:"\f0a6"}.fa-hand-o-down:before{content:"\f0a7"}.fa-arrow-circle-left:before{content:"\f0a8"}.fa-arrow-circle-right:before{content:"\f0a9"}.fa-arrow-circle-up:before{content:"\f0aa"}.fa-arrow-circle-down:before{content:"\f0ab"}.fa-globe:before{content:"\f0ac"}.fa-wrench:before{content:"\f0ad"}.fa-tasks:before{content:"\f0ae"}.fa-filter:before{content:"\f0b0"}.fa-briefcase:before{content:"\f0b1"}.fa-arrows-alt:before{content:"\f0b2"}.fa-group:before,.fa-users:before{content:"\f0c0"}.fa-chain:before,.fa-link:before{content:"\f0c1"}.fa-cloud:before{content:"\f0c2"}.fa-flask:before{content:"\f0c3"}.fa-cut:before,.fa-scissors:before{content:"\f0c4"}.fa-copy:before,.fa-files-o:before{content:"\f0c5"}.fa-paperclip:before{content:"\f0c6"}.fa-floppy-o:before,.fa-save:before{content:"\f0c7"}.fa-square:before{content:"\f0c8"}.fa-bars:before,.fa-navicon:before,.fa-reorder:before{content:"\f0c9"}.fa-list-ul:before{content:"\f0ca"}.fa-list-ol:before{content:"\f0cb"}.fa-strikethrough:before{content:"\f0cc"}.fa-underline:before{content:"\f0cd"}.fa-table:before{content:"\f0ce"}.fa-magic:before{content:"\f0d0"}.fa-truck:before{content:"\f0d1"}.fa-pinterest:before{content:"\f0d2"}.fa-pinterest-square:before{content:"\f0d3"}.fa-google-plus-square:before{content:"\f0d4"}.fa-google-plus:before{content:"\f0d5"}.fa-money:before{content:"\f0d6"}.fa-caret-down:before{content:"\f0d7"}.fa-caret-up:before{content:"\f0d8"}.fa-caret-left:before{content:"\f0d9"}.fa-caret-right:before{content:"\f0da"}.fa-columns:before{content:"\f0db"}.fa-sort:before,.fa-unsorted:before{content:"\f0dc"}.fa-sort-desc:before,.fa-sort-down:before{content:"\f0dd"}.fa-sort-asc:before,.fa-sort-up:before{content:"\f0de"}.fa-envelope:before{content:"\f0e0"}.fa-linkedin:before{content:"\f0e1"}.fa-rotate-left:before,.fa-undo:before{content:"\f0e2"}.fa-gavel:before,.fa-legal:before{content:"\f0e3"}.fa-dashboard:before,.fa-tachometer:before{content:"\f0e4"}.fa-comment-o:before{content:"\f0e5"}.fa-comments-o:before{content:"\f0e6"}.fa-bolt:before,.fa-flash:before{content:"\f0e7"}.fa-sitemap:before{content:"\f0e8"}.fa-umbrella:before{content:"\f0e9"}.fa-clipboard:before,.fa-paste:before{content:"\f0ea"}.fa-lightbulb-o:before{content:"\f0eb"}.fa-exchange:before{content:"\f0ec"}.fa-cloud-download:before{content:"\f0ed"}.fa-cloud-upload:before{content:"\f0ee"}.fa-user-md:before{content:"\f0f0"}.fa-stethoscope:before{content:"\f0f1"}.fa-suitcase:before{content:"\f0f2"}.fa-bell-o:before{content:"\f0a2"}.fa-coffee:before{content:"\f0f4"}.fa-cutlery:before{content:"\f0f5"}.fa-file-text-o:before{content:"\f0f6"}.fa-building-o:before{content:"\f0f7"}.fa-hospital-o:before{content:"\f0f8"}.fa-ambulance:before{content:"\f0f9"}.fa-medkit:before{content:"\f0fa"}.fa-fighter-jet:before{content:"\f0fb"}.fa-beer:before{content:"\f0fc"}.fa-h-square:before{content:"\f0fd"}.fa-plus-square:before{content:"\f0fe"}.fa-angle-double-left:before{content:"\f100"}.fa-angle-double-right:before{content:"\f101"}.fa-angle-double-up:before{content:"\f102"}.fa-angle-double-down:before{content:"\f103"}.fa-angle-left:before{content:"\f104"}.fa-angle-right:before{content:"\f105"}.fa-angle-up:before{content:"\f106"}.fa-angle-down:before{content:"\f107"}.fa-desktop:before{content:"\f108"}.fa-laptop:before{content:"\f109"}.fa-tablet:before{content:"\f10a"}.fa-mobile-phone:before,.fa-mobile:before{content:"\f10b"}.fa-circle-o:before{content:"\f10c"}.fa-quote-left:before{content:"\f10d"}.fa-quote-right:before{content:"\f10e"}.fa-spinner:before{content:"\f110"}.fa-circle:before{content:"\f111"}.fa-mail-reply:before,.fa-reply:before{content:"\f112"}.fa-github-alt:before{content:"\f113"}.fa-folder-o:before{content:"\f114"}.fa-folder-open-o:before{content:"\f115"}.fa-smile-o:before{content:"\f118"}.fa-frown-o:before{content:"\f119"}.fa-meh-o:before{content:"\f11a"}.fa-gamepad:before{content:"\f11b"}.fa-keyboard-o:before{content:"\f11c"}.fa-flag-o:before{content:"\f11d"}.fa-flag-checkered:before{content:"\f11e"}.fa-terminal:before{content:"\f120"}.fa-code:before{content:"\f121"}.fa-mail-reply-all:before,.fa-reply-all:before{content:"\f122"}.fa-star-half-empty:before,.fa-star-half-full:before,.fa-star-half-o:before{content:"\f123"}.fa-location-arrow:before{content:"\f124"}.fa-crop:before{content:"\f125"}.fa-code-fork:before{content:"\f126"}.fa-chain-broken:before,.fa-unlink:before{content:"\f127"}.fa-question:before{content:"\f128"}.fa-info:before{content:"\f129"}.fa-exclamation:before{content:"\f12a"}.fa-superscript:before{content:"\f12b"}.fa-subscript:before{content:"\f12c"}.fa-eraser:before{content:"\f12d"}.fa-puzzle-piece:before{content:"\f12e"}.fa-microphone:before{content:"\f130"}.fa-microphone-slash:before{content:"\f131"}.fa-shield:before{content:"\f132"}.fa-calendar-o:before{content:"\f133"}.fa-fire-extinguisher:before{content:"\f134"}.fa-rocket:before{content:"\f135"}.fa-maxcdn:before{content:"\f136"}.fa-chevron-circle-left:before{content:"\f137"}.fa-chevron-circle-right:before{content:"\f138"}.fa-chevron-circle-up:before{content:"\f139"}.fa-chevron-circle-down:before{content:"\f13a"}.fa-html5:before{content:"\f13b"}.fa-css3:before{content:"\f13c"}.fa-anchor:before{content:"\f13d"}.fa-unlock-alt:before{content:"\f13e"}.fa-bullseye:before{content:"\f140"}.fa-ellipsis-h:before{content:"\f141"}.fa-ellipsis-v:before{content:"\f142"}.fa-rss-square:before{content:"\f143"}.fa-play-circle:before{content:"\f144"}.fa-ticket:before{content:"\f145"}.fa-minus-square:before{content:"\f146"}.fa-minus-square-o:before{content:"\f147"}.fa-level-up:before{content:"\f148"}.fa-level-down:before{content:"\f149"}.fa-check-square:before{content:"\f14a"}.fa-pencil-square:before{content:"\f14b"}.fa-external-link-square:before{content:"\f14c"}.fa-share-square:before{content:"\f14d"}.fa-compass:before{content:"\f14e"}.fa-caret-square-o-down:before,.fa-toggle-down:before{content:"\f150"}.fa-caret-square-o-up:before,.fa-toggle-up:before{content:"\f151"}.fa-caret-square-o-right:before,.fa-toggle-right:before{content:"\f152"}.fa-eur:before,.fa-euro:before{content:"\f153"}.fa-gbp:before{content:"\f154"}.fa-dollar:before,.fa-usd:before{content:"\f155"}.fa-inr:before,.fa-rupee:before{content:"\f156"}.fa-cny:before,.fa-jpy:before,.fa-rmb:before,.fa-yen:before{content:"\f157"}.fa-rouble:before,.fa-rub:before,.fa-ruble:before{content:"\f158"}.fa-krw:before,.fa-won:before{content:"\f159"}.fa-bitcoin:before,.fa-btc:before{content:"\f15a"}.fa-file:before{content:"\f15b"}.fa-file-text:before{content:"\f15c"}.fa-sort-alpha-asc:before{content:"\f15d"}.fa-sort-alpha-desc:before{content:"\f15e"}.fa-sort-amount-asc:before{content:"\f160"}.fa-sort-amount-desc:before{content:"\f161"}.fa-sort-numeric-asc:before{content:"\f162"}.fa-sort-numeric-desc:before{content:"\f163"}.fa-thumbs-up:before{content:"\f164"}.fa-thumbs-down:before{content:"\f165"}.fa-youtube-square:before{content:"\f166"}.fa-youtube:before{content:"\f167"}.fa-xing:before{content:"\f168"}.fa-xing-square:before{content:"\f169"}.fa-youtube-play:before{content:"\f16a"}.fa-dropbox:before{content:"\f16b"}.fa-stack-overflow:before{content:"\f16c"}.fa-instagram:before{content:"\f16d"}.fa-flickr:before{content:"\f16e"}.fa-adn:before{content:"\f170"}.fa-bitbucket:before{content:"\f171"}.fa-bitbucket-square:before{content:"\f172"}.fa-tumblr:before{content:"\f173"}.fa-tumblr-square:before{content:"\f174"}.fa-long-arrow-down:before{content:"\f175"}.fa-long-arrow-up:before{content:"\f176"}.fa-long-arrow-left:before{content:"\f177"}.fa-long-arrow-right:before{content:"\f178"}.fa-apple:before{content:"\f179"}.fa-windows:before{content:"\f17a"}.fa-android:before{content:"\f17b"}.fa-linux:before{content:"\f17c"}.fa-dribbble:before{content:"\f17d"}.fa-skype:before{content:"\f17e"}.fa-foursquare:before{content:"\f180"}.fa-trello:before{content:"\f181"}.fa-female:before{content:"\f182"}.fa-male:before{content:"\f183"}.fa-gittip:before{content:"\f184"}.fa-sun-o:before{content:"\f185"}.fa-moon-o:before{content:"\f186"}.fa-archive:before{content:"\f187"}.fa-bug:before{content:"\f188"}.fa-vk:before{content:"\f189"}.fa-weibo:before{content:"\f18a"}.fa-renren:before{content:"\f18b"}.fa-pagelines:before{content:"\f18c"}.fa-stack-exchange:before{content:"\f18d"}.fa-arrow-circle-o-right:before{content:"\f18e"}.fa-arrow-circle-o-left:before{content:"\f190"}.fa-caret-square-o-left:before,.fa-toggle-left:before{content:"\f191"}.fa-dot-circle-o:before{content:"\f192"}.fa-wheelchair:before{content:"\f193"}.fa-vimeo-square:before{content:"\f194"}.fa-try:before,.fa-turkish-lira:before{content:"\f195"}.fa-plus-square-o:before{content:"\f196"}.fa-space-shuttle:before{content:"\f197"}.fa-slack:before{content:"\f198"}.fa-envelope-square:before{content:"\f199"}.fa-wordpress:before{content:"\f19a"}.fa-openid:before{content:"\f19b"}.fa-bank:before,.fa-institution:before,.fa-university:before{content:"\f19c"}.fa-graduation-cap:before,.fa-mortar-board:before{content:"\f19d"}.fa-yahoo:before{content:"\f19e"}.fa-google:before{content:"\f1a0"}.fa-reddit:before{content:"\f1a1"}.fa-reddit-square:before{content:"\f1a2"}.fa-stumbleupon-circle:before{content:"\f1a3"}.fa-stumbleupon:before{content:"\f1a4"}.fa-delicious:before{content:"\f1a5"}.fa-digg:before{content:"\f1a6"}.fa-pied-piper:before{content:"\f1a7"}.fa-pied-piper-alt:before{content:"\f1a8"}.fa-drupal:before{content:"\f1a9"}.fa-joomla:before{content:"\f1aa"}.fa-language:before{content:"\f1ab"}.fa-fax:before{content:"\f1ac"}.fa-building:before{content:"\f1ad"}.fa-child:before{content:"\f1ae"}.fa-paw:before{content:"\f1b0"}.fa-spoon:before{content:"\f1b1"}.fa-cube:before{content:"\f1b2"}.fa-cubes:before{content:"\f1b3"}.fa-behance:before{content:"\f1b4"}.fa-behance-square:before{content:"\f1b5"}.fa-steam:before{content:"\f1b6"}.fa-steam-square:before{content:"\f1b7"}.fa-recycle:before{content:"\f1b8"}.fa-automobile:before,.fa-car:before{content:"\f1b9"}.fa-cab:before,.fa-taxi:before{content:"\f1ba"}.fa-tree:before{content:"\f1bb"}.fa-spotify:before{content:"\f1bc"}.fa-deviantart:before{content:"\f1bd"}.fa-soundcloud:before{content:"\f1be"}.fa-database:before{content:"\f1c0"}.fa-file-pdf-o:before{content:"\f1c1"}.fa-file-word-o:before{content:"\f1c2"}.fa-file-excel-o:before{content:"\f1c3"}.fa-file-powerpoint-o:before{content:"\f1c4"}.fa-file-image-o:before,.fa-file-photo-o:before,.fa-file-picture-o:before{content:"\f1c5"}.fa-file-archive-o:before,.fa-file-zip-o:before{content:"\f1c6"}.fa-file-audio-o:before,.fa-file-sound-o:before{content:"\f1c7"}.fa-file-movie-o:before,.fa-file-video-o:before{content:"\f1c8"}.fa-file-code-o:before{content:"\f1c9"}.fa-vine:before{content:"\f1ca"}.fa-codepen:before{content:"\f1cb"}.fa-jsfiddle:before{content:"\f1cc"}.fa-life-bouy:before,.fa-life-buoy:before,.fa-life-ring:before,.fa-life-saver:before,.fa-support:before{content:"\f1cd"}.fa-circle-o-notch:before{content:"\f1ce"}.fa-ra:before,.fa-rebel:before{content:"\f1d0"}.fa-empire:before,.fa-ge:before{content:"\f1d1"}.fa-git-square:before{content:"\f1d2"}.fa-git:before{content:"\f1d3"}.fa-hacker-news:before{content:"\f1d4"}.fa-tencent-weibo:before{content:"\f1d5"}.fa-qq:before{content:"\f1d6"}.fa-wechat:before,.fa-weixin:before{content:"\f1d7"}.fa-paper-plane:before,.fa-send:before{content:"\f1d8"}.fa-paper-plane-o:before,.fa-send-o:before{content:"\f1d9"}.fa-history:before{content:"\f1da"}.fa-circle-thin:before{content:"\f1db"}.fa-header:before{content:"\f1dc"}.fa-paragraph:before{content:"\f1dd"}.fa-sliders:before{content:"\f1de"}.fa-share-alt:before{content:"\f1e0"}.fa-share-alt-square:before{content:"\f1e1"}.fa-bomb:before{content:"\f1e2"}.fa-futbol-o:before,.fa-soccer-ball-o:before{content:"\f1e3"}.fa-tty:before{content:"\f1e4"}.fa-binoculars:before{content:"\f1e5"}.fa-plug:before{content:"\f1e6"}.fa-slideshare:before{content:"\f1e7"}.fa-twitch:before{content:"\f1e8"}.fa-yelp:before{content:"\f1e9"}.fa-newspaper-o:before{content:"\f1ea"}.fa-wifi:before{content:"\f1eb"}.fa-calculator:before{content:"\f1ec"}.fa-paypal:before{content:"\f1ed"}.fa-google-wallet:before{content:"\f1ee"}.fa-cc-visa:before{content:"\f1f0"}.fa-cc-mastercard:before{content:"\f1f1"}.fa-cc-discover:before{content:"\f1f2"}.fa-cc-amex:before{content:"\f1f3"}.fa-cc-paypal:before{content:"\f1f4"}.fa-cc-stripe:before{content:"\f1f5"}.fa-bell-slash:before{content:"\f1f6"}.fa-bell-slash-o:before{content:"\f1f7"}.fa-trash:before{content:"\f1f8"}.fa-copyright:before{content:"\f1f9"}.fa-at:before{content:"\f1fa"}.fa-eyedropper:before{content:"\f1fb"}.fa-paint-brush:before{content:"\f1fc"}.fa-birthday-cake:before{content:"\f1fd"}.fa-area-chart:before{content:"\f1fe"}.fa-pie-chart:before{content:"\f200"}.fa-line-chart:before{content:"\f201"}.fa-lastfm:before{content:"\f202"}.fa-lastfm-square:before{content:"\f203"}.fa-toggle-off:before{content:"\f204"}.fa-toggle-on:before{content:"\f205"}.fa-bicycle:before{content:"\f206"}.fa-bus:before{content:"\f207"}.fa-ioxhost:before{content:"\f208"}.fa-angellist:before{content:"\f209"}.fa-cc:before{content:"\f20a"}.fa-ils:before,.fa-shekel:before,.fa-sheqel:before{content:"\f20b"}.fa-meanpath:before{content:"\f20c"}/*!
*
* IPython base
*
*/.modal.fade .modal-dialog{-webkit-transform:translate(0,0);-ms-transform:translate(0,0);-o-transform:translate(0,0);transform:translate(0,0)}code{color:#000}pre{font-size:inherit;line-height:inherit}label{font-weight:400}.border-box-sizing{box-sizing:border-box;-moz-box-sizing:border-box;-webkit-box-sizing:border-box}.corner-all{border-radius:2px}.no-padding{padding:0}.hbox{display:-webkit-box;-webkit-box-orient:horizontal;display:-moz-box;-moz-box-orient:horizontal;display:box;box-orient:horizontal;box-align:stretch;display:flex;flex-direction:row;align-items:stretch}.hbox>*{-webkit-box-flex:0;-moz-box-flex:0;box-flex:0;flex:none}.vbox{display:-webkit-box;-webkit-box-orient:vertical;display:-moz-box;-moz-box-orient:vertical;display:box;box-orient:vertical;box-align:stretch;display:flex;flex-direction:column;align-items:stretch}.vbox>*{-webkit-box-flex:0;-moz-box-flex:0;box-flex:0;flex:none}.hbox.reverse,.reverse,.vbox.reverse{-webkit-box-direction:reverse;-moz-box-direction:reverse;box-direction:reverse;flex-direction:row-reverse}.box-flex0,.hbox.box-flex0,.vbox.box-flex0{-webkit-box-flex:0;-moz-box-flex:0;box-flex:0;flex:none;width:auto}.box-flex1,.hbox.box-flex1,.vbox.box-flex1{-webkit-box-flex:1;-moz-box-flex:1;box-flex:1;flex:1}.box-flex,.hbox.box-flex,.vbox.box-flex{-webkit-box-flex:1;-moz-box-flex:1;box-flex:1;flex:1}.box-flex2,.hbox.box-flex2,.vbox.box-flex2{-webkit-box-flex:2;-moz-box-flex:2;box-flex:2;flex:2}.box-group1{-webkit-box-flex-group:1;-moz-box-flex-group:1;box-flex-group:1}.box-group2{-webkit-box-flex-group:2;-moz-box-flex-group:2;box-flex-group:2}.hbox.start,.start,.vbox.start{-webkit-box-pack:start;-moz-box-pack:start;box-pack:start;justify-content:flex-start}.end,.hbox.end,.vbox.end{-webkit-box-pack:end;-moz-box-pack:end;box-pack:end;justify-content:flex-end}.center,.hbox.center,.vbox.center{-webkit-box-pack:center;-moz-box-pack:center;box-pack:center;justify-content:center}.baseline,.hbox.baseline,.vbox.baseline{-webkit-box-pack:baseline;-moz-box-pack:baseline;box-pack:baseline;justify-content:baseline}.hbox.stretch,.stretch,.vbox.stretch{-webkit-box-pack:stretch;-moz-box-pack:stretch;box-pack:stretch;justify-content:stretch}.align-start,.hbox.align-start,.vbox.align-start{-webkit-box-align:start;-moz-box-align:start;box-align:start;align-items:flex-start}.align-end,.hbox.align-end,.vbox.align-end{-webkit-box-align:end;-moz-box-align:end;box-align:end;align-items:flex-end}.align-center,.hbox.align-center,.vbox.align-center{-webkit-box-align:center;-moz-box-align:center;box-align:center;align-items:center}.align-baseline,.hbox.align-baseline,.vbox.align-baseline{-webkit-box-align:baseline;-moz-box-align:baseline;box-align:baseline;align-items:baseline}.align-stretch,.hbox.align-stretch,.vbox.align-stretch{-webkit-box-align:stretch;-moz-box-align:stretch;box-align:stretch;align-items:stretch}div.error{margin:2em;text-align:center}div.error>h1{font-size:500%;line-height:normal}div.error>p{font-size:200%;line-height:normal}div.traceback-wrapper{text-align:left;max-width:800px;margin:auto}body{position:absolute;left:0;right:0;top:0;bottom:0;overflow:visible}#header{display:none;background-color:#fff;position:relative;z-index:100}#header #header-container{padding-bottom:5px;padding-top:5px;box-sizing:border-box;-moz-box-sizing:border-box;-webkit-box-sizing:border-box}#header .header-bar{width:100%;height:1px;background:#e7e7e7;margin-bottom:-1px}#header-spacer{width:100%;visibility:hidden}@media print{#header{display:none!important}#header-spacer{display:none}}#ipython_notebook{padding-left:0;padding-top:1px;padding-bottom:1px}@media (max-width:991px){#ipython_notebook{margin-left:10px}}#noscript{width:auto;padding-top:16px;padding-bottom:16px;text-align:center;font-size:22px;color:red;font-weight:700}#ipython_notebook img{height:28px}#site{width:100%;display:none;box-sizing:border-box;-moz-box-sizing:border-box;-webkit-box-sizing:border-box;overflow:auto}@media print{#site{height:auto!important}}.ui-button .ui-button-text{padding:.2em .8em;font-size:77%}input.ui-button{padding:.3em .9em}span#login_widget{float:right}#logout,span#login_widget>.button{color:#333;background-color:#fff;border-color:#ccc}#logout.active,#logout.focus,#logout:active,#logout:focus,#logout:hover,.open>.dropdown-toggle#logout,.open>.dropdown-togglespan#login_widget>.button,span#login_widget>.button.active,span#login_widget>.button.focus,span#login_widget>.button:active,span#login_widget>.button:focus,span#login_widget>.button:hover{color:#333;background-color:#e6e6e6;border-color:#adadad}#logout.active,#logout:active,.open>.dropdown-toggle#logout,.open>.dropdown-togglespan#login_widget>.button,span#login_widget>.button.active,span#login_widget>.button:active{background-image:none}#logout.disabled,#logout.disabled.active,#logout.disabled.focus,#logout.disabled:active,#logout.disabled:focus,#logout.disabled:hover,#logout[disabled],#logout[disabled].active,#logout[disabled].focus,#logout[disabled]:active,#logout[disabled]:focus,#logout[disabled]:hover,fieldset[disabled] #logout,fieldset[disabled] #logout.active,fieldset[disabled] #logout.focus,fieldset[disabled] #logout:active,fieldset[disabled] #logout:focus,fieldset[disabled] #logout:hover,fieldset[disabled] span#login_widget>.button,fieldset[disabled] span#login_widget>.button.active,fieldset[disabled] span#login_widget>.button.focus,fieldset[disabled] span#login_widget>.button:active,fieldset[disabled] span#login_widget>.button:focus,fieldset[disabled] span#login_widget>.button:hover,span#login_widget>.button.disabled,span#login_widget>.button.disabled.active,span#login_widget>.button.disabled.focus,span#login_widget>.button.disabled:active,span#login_widget>.button.disabled:focus,span#login_widget>.button.disabled:hover,span#login_widget>.button[disabled],span#login_widget>.button[disabled].active,span#login_widget>.button[disabled].focus,span#login_widget>.button[disabled]:active,span#login_widget>.button[disabled]:focus,span#login_widget>.button[disabled]:hover{background-color:#fff;border-color:#ccc}#logout .badge,span#login_widget>.button .badge{color:#fff;background-color:#333}.nav-header{text-transform:none}#header>span{margin-top:10px}.modal_stretch .modal-dialog{display:-webkit-box;-webkit-box-orient:vertical;display:-moz-box;-moz-box-orient:vertical;display:box;box-orient:vertical;box-align:stretch;display:flex;flex-direction:column;align-items:stretch;min-height:80vh}.modal_stretch .modal-dialog .modal-body{max-height:calc(100vh - 200px);overflow:auto;flex:1}@media (min-width:768px){.modal .modal-dialog{width:700px}select.form-control{margin-left:12px;margin-right:12px}}/*!
*
* IPython auth
*
*/.center-nav{display:inline-block;margin-bottom:-4px}/*!
*
* IPython tree view
*
*/.alternate_upload{background-color:none;display:inline}.alternate_upload.form{padding:0;margin:0}.alternate_upload input.fileinput{text-align:center;vertical-align:middle;display:inline;opacity:0;z-index:2;width:12ex;margin-right:-12ex}.alternate_upload .btn-upload{height:22px}ul#tabs{margin-bottom:4px}ul#tabs a{padding-top:6px;padding-bottom:4px}ul.breadcrumb a:focus,ul.breadcrumb a:hover{text-decoration:none}ul.breadcrumb i.icon-home{font-size:16px;margin-right:4px}ul.breadcrumb span{color:#5e5e5e}.list_toolbar{padding:4px 0;vertical-align:middle}.list_toolbar .tree-buttons{padding-top:1px}.dynamic-buttons{padding-top:3px;display:inline-block}.list_toolbar [class*=span]{min-height:24px}.list_header{font-weight:700;background-color:#eee}.list_placeholder{font-weight:700;padding:4px 7px}.list_container{margin-top:4px;margin-bottom:20px;border:1px solid #ddd;border-radius:2px}.list_container>div{border-bottom:1px solid #ddd}.list_container>div:hover .list-item{background-color:red}.list_container>div:last-child{border:none}.list_item:hover .list_item{background-color:#ddd}.list_item a{text-decoration:none}.list_item:hover{background-color:#fafafa}.action_col{text-align:right}.list_header>div,.list_item>div{line-height:22px;padding:4px 7px}.list_header>div input,.list_item>div input{margin-right:7px;margin-left:14px;vertical-align:baseline;line-height:22px;position:relative;top:-1px}.list_header>div .item_link,.list_item>div .item_link{margin-left:-1px;vertical-align:baseline;line-height:22px}.new-file input[type=checkbox]{visibility:hidden}.item_name{line-height:22px;height:24px}.item_icon{font-size:14px;color:#5e5e5e;margin-right:7px;margin-left:7px;line-height:22px;vertical-align:baseline}.item_buttons{line-height:1em;margin-left:-5px}.item_buttons .btn-group,.item_buttons .input-group{float:left}.item_buttons>.btn,.item_buttons>.btn-group,.item_buttons>.input-group{margin-left:5px}.item_buttons .btn{min-width:13ex}.item_buttons .running-indicator{padding-top:4px;color:#5cb85c}.toolbar_info{height:24px;line-height:24px}input.engine_num_input,input.nbname_input{padding-top:3px;padding-bottom:3px;height:22px;line-height:14px;margin:0}input.engine_num_input{width:60px}.highlight_text{color:#00f}#project_name{display:inline-block;padding-left:7px;margin-left:-2px}#project_name>.breadcrumb{padding:0;margin-bottom:0;background-color:transparent;font-weight:700}#tree-selector{padding-right:0}#button-select-all{min-width:50px}#select-all{margin-left:7px;margin-right:2px}.menu_icon{margin-right:2px}.tab-content .row{margin-left:0;margin-right:0}.folder_icon:before{display:inline-block;font:normal normal normal 14px/1 FontAwesome;font-size:inherit;text-rendering:auto;-webkit-font-smoothing:antialiased;-moz-osx-font-smoothing:grayscale;content:"\f114"}.folder_icon:before.pull-left{margin-right:.3em}.folder_icon:before.pull-right{margin-left:.3em}.notebook_icon:before{display:inline-block;font:normal normal normal 14px/1 FontAwesome;font-size:inherit;text-rendering:auto;-webkit-font-smoothing:antialiased;-moz-osx-font-smoothing:grayscale;content:"\f02d";position:relative;top:-1px}.notebook_icon:before.pull-left{margin-right:.3em}.notebook_icon:before.pull-right{margin-left:.3em}.running_notebook_icon:before{display:inline-block;font:normal normal normal 14px/1 FontAwesome;font-size:inherit;text-rendering:auto;-webkit-font-smoothing:antialiased;-moz-osx-font-smoothing:grayscale;content:"\f02d";position:relative;top:-1px;color:#5cb85c}.running_notebook_icon:before.pull-left{margin-right:.3em}.running_notebook_icon:before.pull-right{margin-left:.3em}.file_icon:before{display:inline-block;font:normal normal normal 14px/1 FontAwesome;font-size:inherit;text-rendering:auto;-webkit-font-smoothing:antialiased;-moz-osx-font-smoothing:grayscale;content:"\f016";position:relative;top:-2px}.file_icon:before.pull-left{margin-right:.3em}.file_icon:before.pull-right{margin-left:.3em}#notebook_toolbar .pull-right{padding-top:0;margin-right:-1px}ul#new-menu{left:auto;right:0}.kernel-menu-icon{padding-right:12px;width:24px;content:"\f096"}.kernel-menu-icon:before{content:"\f096"}.kernel-menu-icon-current:before{content:"\f00c"}#tab_content{padding-top:20px}#running .panel-group .panel{margin-top:3px;margin-bottom:1em}#running .panel-group .panel .panel-heading{background-color:#eee;line-height:22px;padding:4px 7px}#running .panel-group .panel .panel-heading a:focus,#running .panel-group .panel .panel-heading a:hover{text-decoration:none}#running .panel-group .panel .panel-body{padding:0}#running .panel-group .panel .panel-body .list_container{margin-top:0;margin-bottom:0;border:0;border-radius:0}#running .panel-group .panel .panel-body .list_container .list_item{border-bottom:1px solid #ddd}#running .panel-group .panel .panel-body .list_container .list_item:last-child{border-bottom:0}.delete-button,.duplicate-button,.rename-button,.shutdown-button{display:none}.dynamic-instructions{display:inline-block;padding-top:4px}/*!
*
* IPython text editor webapp
*
*/.selected-keymap i.fa{padding:0 5px}.selected-keymap i.fa:before{content:"\f00c"}#mode-menu{overflow:auto;max-height:20em}.edit_app #header{-webkit-box-shadow:0 0 12px 1px rgba(87,87,87,.2);box-shadow:0 0 12px 1px rgba(87,87,87,.2)}.edit_app #menubar .navbar{margin-bottom:-1px}.dirty-indicator{display:inline-block;font:normal normal normal 14px/1 FontAwesome;font-size:inherit;text-rendering:auto;-webkit-font-smoothing:antialiased;-moz-osx-font-smoothing:grayscale;width:20px}.dirty-indicator.pull-left{margin-right:.3em}.dirty-indicator.pull-right{margin-left:.3em}.dirty-indicator-dirty{display:inline-block;font:normal normal normal 14px/1 FontAwesome;font-size:inherit;text-rendering:auto;-webkit-font-smoothing:antialiased;-moz-osx-font-smoothing:grayscale;width:20px}.dirty-indicator-dirty.pull-left{margin-right:.3em}.dirty-indicator-dirty.pull-right{margin-left:.3em}.dirty-indicator-clean{display:inline-block;font:normal normal normal 14px/1 FontAwesome;font-size:inherit;text-rendering:auto;-webkit-font-smoothing:antialiased;-moz-osx-font-smoothing:grayscale;width:20px}.dirty-indicator-clean.pull-left{margin-right:.3em}.dirty-indicator-clean.pull-right{margin-left:.3em}.dirty-indicator-clean:before{display:inline-block;font:normal normal normal 14px/1 FontAwesome;font-size:inherit;text-rendering:auto;-webkit-font-smoothing:antialiased;-moz-osx-font-smoothing:grayscale;content:"\f00c"}.dirty-indicator-clean:before.pull-left{margin-right:.3em}.dirty-indicator-clean:before.pull-right{margin-left:.3em}#filename{font-size:16pt;display:table;padding:0 5px}#current-mode{padding-left:5px;padding-right:5px}#texteditor-backdrop{padding-top:20px;padding-bottom:20px}@media not print{#texteditor-backdrop{background-color:#eee}}@media print{#texteditor-backdrop #texteditor-container .CodeMirror-gutter,#texteditor-backdrop #texteditor-container .CodeMirror-gutters{background-color:#fff}}@media not print{#texteditor-backdrop #texteditor-container .CodeMirror-gutter,#texteditor-backdrop #texteditor-container .CodeMirror-gutters{background-color:#fff}#texteditor-backdrop #texteditor-container{padding:0;background-color:#fff;-webkit-box-shadow:0 0 12px 1px rgba(87,87,87,.2);box-shadow:0 0 12px 1px rgba(87,87,87,.2)}}/*!
*
* IPython notebook
*
*/.ansibold{font-weight:700}.ansiblack{color:#000}.ansired{color:#8b0000}.ansigreen{color:#006400}.ansiyellow{color:#c4a000}.ansiblue{color:#00008b}.ansipurple{color:#9400d3}.ansicyan{color:#4682b4}.ansigray{color:gray}.ansibgblack{background-color:#000}.ansibgred{background-color:red}.ansibggreen{background-color:green}.ansibgyellow{background-color:#ff0}.ansibgblue{background-color:#00f}.ansibgpurple{background-color:#ff00ff}.ansibgcyan{background-color:#0ff}.ansibggray{background-color:gray}div.cell{border:1px solid transparent;display:-webkit-box;-webkit-box-orient:vertical;display:-moz-box;-moz-box-orient:vertical;display:box;box-orient:vertical;box-align:stretch;display:flex;flex-direction:column;align-items:stretch;border-radius:2px;box-sizing:border-box;-moz-box-sizing:border-box;border-width:thin;border-style:solid;width:100%;padding:5px;margin:0;outline:0}div.cell.selected{border-color:#ababab}@media print{div.cell.selected{border-color:transparent}}.edit_mode div.cell.selected{border-color:green}.prompt{min-width:14ex;padding:.4em;margin:0;font-family:monospace;text-align:right;line-height:1.21429em}div.inner_cell{display:-webkit-box;-webkit-box-orient:vertical;display:-moz-box;-moz-box-orient:vertical;display:box;box-orient:vertical;box-align:stretch;display:flex;flex-direction:column;align-items:stretch;-webkit-box-flex:1;-moz-box-flex:1;box-flex:1;flex:1}@-moz-document url-prefix(){div.inner_cell{overflow-x:hidden}}div.input_area{border:1px solid #cfcfcf;border-radius:2px;background:#f7f7f7;line-height:1.21429em}div.prompt:empty{padding-top:0;padding-bottom:0}div.unrecognized_cell{padding:5px 5px 5px 0;display:-webkit-box;-webkit-box-orient:horizontal;display:-moz-box;-moz-box-orient:horizontal;display:box;box-orient:horizontal;box-align:stretch;display:flex;flex-direction:row;align-items:stretch}div.unrecognized_cell .inner_cell{border-radius:2px;padding:5px;font-weight:700;color:red;border:1px solid #cfcfcf;background:#eaeaea}div.unrecognized_cell .inner_cell a,div.unrecognized_cell .inner_cell a:hover{color:inherit;text-decoration:none}@media (max-width:540px){.prompt{text-align:left}div.unrecognized_cell>div.prompt{display:none}}div.code_cell{}div.input{page-break-inside:avoid;display:-webkit-box;-webkit-box-orient:horizontal;display:-moz-box;-moz-box-orient:horizontal;display:box;box-orient:horizontal;box-align:stretch;display:flex;flex-direction:row;align-items:stretch}@media (max-width:540px){div.input{-webkit-box-orient:vertical;-moz-box-orient:vertical;box-orient:vertical;box-align:stretch;display:flex;flex-direction:column;align-items:stretch}}div.input_prompt{color:navy;border-top:1px solid transparent}div.input_area>div.highlight{margin:.4em;border:none;padding:0;background-color:transparent}div.input_area>div.highlight>pre{margin:0;border:none;padding:0;background-color:transparent}.CodeMirror{line-height:1.21429em;font-size:14px;height:auto;background:0 0}.CodeMirror-scroll{overflow-y:hidden;overflow-x:auto}.CodeMirror-lines{padding:.4em}.CodeMirror-linenumber{padding:0 8px 0 4px}.CodeMirror-gutters{border-bottom-left-radius:2px;border-top-left-radius:2px}.CodeMirror pre{padding:0;border:0;border-radius:0}.highlight-base,.highlight-variable{color:#000}.highlight-variable-2{color:#1a1a1a}.highlight-variable-3{color:#333}.highlight-string{color:#BA2121}.highlight-comment{color:#408080;font-style:italic}.highlight-number{color:#080}.highlight-atom{color:#88F}.highlight-keyword{color:green;font-weight:700}.highlight-builtin{color:green}.highlight-error{color:red}.highlight-operator{color:#A2F;font-weight:700}.highlight-meta{color:#A2F}.highlight-def{color:#00f}.highlight-string-2{color:#f50}.highlight-qualifier{color:#555}.highlight-bracket{color:#997}.highlight-tag{color:#170}.highlight-attribute{color:#00c}.highlight-header{color:#00f}.highlight-quote{color:#090}.highlight-link{color:#00c}.cm-s-ipython span.cm-keyword{color:green;font-weight:700}.cm-s-ipython span.cm-atom{color:#88F}.cm-s-ipython span.cm-number{color:#080}.cm-s-ipython span.cm-def{color:#00f}.cm-s-ipython span.cm-variable{color:#000}.cm-s-ipython span.cm-operator{color:#A2F;font-weight:700}.cm-s-ipython span.cm-variable-2{color:#1a1a1a}.cm-s-ipython span.cm-variable-3{color:#333}.cm-s-ipython span.cm-comment{color:#408080;font-style:italic}.cm-s-ipython span.cm-string{color:#BA2121}.cm-s-ipython span.cm-string-2{color:#f50}.cm-s-ipython span.cm-meta{color:#A2F}.cm-s-ipython span.cm-qualifier{color:#555}.cm-s-ipython span.cm-builtin{color:green}.cm-s-ipython span.cm-bracket{color:#997}.cm-s-ipython span.cm-tag{color:#170}.cm-s-ipython span.cm-attribute{color:#00c}.cm-s-ipython span.cm-header{color:#00f}.cm-s-ipython span.cm-quote{color:#090}.cm-s-ipython span.cm-link{color:#00c}.cm-s-ipython span.cm-error{color:red}.cm-s-ipython span.cm-tab{background:url('data:image/png;base64,iVBORw0KGgoAAAANSUhEUgAAADAAAAAMCAYAAAAkuj5RAAAAAXNSR0IArs4c6QAAAGFJREFUSMft1LsRQFAQheHPowAKoACx3IgEKtaEHujDjORSgWTH/ZOdnZOcM/sgk/kFFWY0qV8foQwS4MKBCS3qR6ixBJvElOobYAtivseIE120FaowJPN75GMu8j/LfMwNjh4HUpwg4LUAAAAASUVORK5CYII=')right no-repeat}div.output_wrapper{display:-webkit-box;-webkit-box-align:stretch;display:-moz-box;-moz-box-align:stretch;display:box;box-orient:vertical;box-align:stretch;display:flex;flex-direction:column;align-items:stretch;z-index:1}div.output_scroll{height:24em;width:100%;overflow:auto;border-radius:2px;-webkit-box-shadow:inset 0 2px 8px rgba(0,0,0,.8);box-shadow:inset 0 2px 8px rgba(0,0,0,.8);display:block}div.output_collapsed{margin:0;padding:0;display:-webkit-box;-webkit-box-orient:vertical;display:-moz-box;-moz-box-orient:vertical;display:box;box-orient:vertical;box-align:stretch;display:flex;flex-direction:column;align-items:stretch}div.out_prompt_overlay{height:100%;padding:0 .4em;position:absolute;border-radius:2px}div.out_prompt_overlay:hover{-webkit-box-shadow:inset 0 0 1px #000;box-shadow:inset 0 0 1px #000;background:rgba(240,240,240,.5)}div.output_prompt{color:#8b0000}div.output_area{padding:0;page-break-inside:avoid;display:-webkit-box;-webkit-box-orient:horizontal;display:-moz-box;-moz-box-orient:horizontal;display:box;box-orient:horizontal;box-align:stretch;display:flex;flex-direction:row;align-items:stretch}div.output_area .MathJax_Display{text-align:left!important}div.output_area .rendered_html img,div.output_area .rendered_html table{margin-left:0;margin-right:0}div.output_area img,div.output_area svg{max-width:100%;height:auto}div.output_area img.unconfined,div.output_area svg.unconfined{max-width:none}.output{display:-webkit-box;-webkit-box-orient:vertical;display:-moz-box;-moz-box-orient:vertical;display:box;box-orient:vertical;box-align:stretch;display:flex;flex-direction:column;align-items:stretch}@media (max-width:540px){div.output_area{-webkit-box-orient:vertical;-moz-box-orient:vertical;box-orient:vertical;box-align:stretch;display:flex;flex-direction:column;align-items:stretch}}div.output_area pre{margin:0;padding:0;border:0;vertical-align:baseline;color:#000;background-color:transparent;border-radius:0}div.output_subarea{overflow-x:auto;padding:.4em;-webkit-box-flex:1;-moz-box-flex:1;box-flex:1;flex:1;max-width:calc(100% - 14ex)}div.output_text{text-align:left;color:#000;line-height:1.21429em}div.output_stderr{background:#fdd}div.output_latex{text-align:left}div.output_javascript:empty{padding:0}.js-error{color:#8b0000}div.raw_input_container{font-family:monospace;padding-top:5px}span.raw_input_prompt{}input.raw_input{font-family:inherit;font-size:inherit;color:inherit;width:auto;vertical-align:baseline;padding:0 .25em;margin:0 .25em}input.raw_input:focus{box-shadow:none}p.p-space{margin-bottom:10px}div.output_unrecognized{padding:5px;font-weight:700;color:red}div.output_unrecognized a,div.output_unrecognized a:hover{color:inherit;text-decoration:none}.rendered_html{color:#000}.rendered_html em{font-style:italic}.rendered_html strong{font-weight:700}.rendered_html :link,.rendered_html :visited,.rendered_html u{text-decoration:underline}.rendered_html h1{font-size:185.7%;margin:1.08em 0 0;font-weight:700;line-height:1}.rendered_html h2{font-size:157.1%;margin:1.27em 0 0;font-weight:700;line-height:1}.rendered_html h3{font-size:128.6%;margin:1.55em 0 0;font-weight:700;line-height:1}.rendered_html h4{font-size:100%;margin:2em 0 0;font-weight:700;line-height:1}.rendered_html h5,.rendered_html h6{font-size:100%;margin:2em 0 0;font-weight:700;line-height:1;font-style:italic}.rendered_html h1:first-child{margin-top:.538em}.rendered_html h2:first-child{margin-top:.636em}.rendered_html h3:first-child{margin-top:.777em}.rendered_html h4:first-child,.rendered_html h5:first-child,.rendered_html h6:first-child{margin-top:1em}.rendered_html ul{list-style:disc;margin:0 2em;padding-left:0}.rendered_html ul ul{list-style:square;margin:0 2em}.rendered_html ul ul ul{list-style:circle;margin:0 2em}.rendered_html ol{list-style:decimal;margin:0 2em;padding-left:0}.rendered_html ol ol{list-style:upper-alpha;margin:0 2em}.rendered_html ol ol ol{list-style:lower-alpha;margin:0 2em}.rendered_html ol ol ol ol{list-style:lower-roman;margin:0 2em}.rendered_html ol ol ol ol ol{list-style:decimal;margin:0 2em}.rendered_html *+ol,.rendered_html *+ul{margin-top:1em}.rendered_html hr{color:#000;background-color:#000}.rendered_html pre{margin:1em 2em}.rendered_html code,.rendered_html pre{border:0;background-color:#fff;color:#000;font-size:100%;padding:0}.rendered_html blockquote{margin:1em 2em}.rendered_html table{margin-left:auto;margin-right:auto;border:1px solid #000;border-collapse:collapse}.rendered_html td,.rendered_html th,.rendered_html tr{border:1px solid #000;border-collapse:collapse;margin:1em 2em}.rendered_html td,.rendered_html th{text-align:left;vertical-align:middle;padding:4px}.rendered_html th{font-weight:700}.rendered_html *+table{margin-top:1em}.rendered_html p{text-align:left}.rendered_html *+p{margin-top:1em}.rendered_html img{display:block;margin-left:auto;margin-right:auto}.rendered_html *+img{margin-top:1em}.rendered_html img,.rendered_html svg{max-width:100%;height:auto}.rendered_html img.unconfined,.rendered_html svg.unconfined{max-width:none}div.text_cell{display:-webkit-box;-webkit-box-orient:horizontal;display:-moz-box;-moz-box-orient:horizontal;display:box;box-orient:horizontal;box-align:stretch;display:flex;flex-direction:row;align-items:stretch}@media (max-width:540px){div.text_cell>div.prompt{display:none}}div.text_cell_render{outline:0;resize:none;width:inherit;border-style:none;padding:.5em .5em .5em .4em;color:#000;box-sizing:border-box;-moz-box-sizing:border-box;-webkit-box-sizing:border-box}a.anchor-link:link{text-decoration:none;padding:0 20px;visibility:hidden}h1:hover .anchor-link,h2:hover .anchor-link,h3:hover .anchor-link,h4:hover .anchor-link,h5:hover .anchor-link,h6:hover .anchor-link{visibility:visible}.text_cell.rendered .input_area{display:none}.text_cell.rendered .rendered_html{overflow-x:auto}.text_cell.unrendered .text_cell_render{display:none}.cm-header-1,.cm-header-2,.cm-header-3,.cm-header-4,.cm-header-5,.cm-header-6{font-weight:700;font-family:"Helvetica Neue",Helvetica,Arial,sans-serif}.cm-header-1{font-size:185.7%}.cm-header-2{font-size:157.1%}.cm-header-3{font-size:128.6%}.cm-header-4{font-size:110%}.cm-header-5,.cm-header-6{font-size:100%;font-style:italic}/*!
*
* IPython notebook webapp
*
*/@media (max-width:767px){.notebook_app{padding-left:0;padding-right:0}}#ipython-main-app{box-sizing:border-box;-moz-box-sizing:border-box;-webkit-box-sizing:border-box;height:100%}div#notebook_panel{margin:0;padding:0;box-sizing:border-box;-moz-box-sizing:border-box;-webkit-box-sizing:border-box;height:100%}#notebook{font-size:14px;line-height:20px;overflow-y:hidden;overflow-x:auto;width:100%;padding-top:20px;margin:0;outline:0;box-sizing:border-box;-moz-box-sizing:border-box;-webkit-box-sizing:border-box;min-height:100%}@media not print{#notebook-container{padding:15px;background-color:#fff;min-height:0;-webkit-box-shadow:0 0 12px 1px rgba(87,87,87,.2);box-shadow:0 0 12px 1px rgba(87,87,87,.2)}}div.ui-widget-content{border:1px solid #ababab;outline:0}pre.dialog{background-color:#f7f7f7;border:1px solid #ddd;border-radius:2px;padding:.4em .4em .4em 2em}p.dialog{padding:.2em}code,kbd,pre,samp{white-space:pre-wrap}#fonttest{font-family:monospace}p{margin-bottom:0}.end_space{min-height:100px;transition:height .2s ease}.notebook_app #header{-webkit-box-shadow:0 0 12px 1px rgba(87,87,87,.2);box-shadow:0 0 12px 1px rgba(87,87,87,.2)}@media not print{.notebook_app{background-color:#eee}}.celltoolbar{border:thin solid #CFCFCF;border-bottom:none;background:#EEE;border-radius:2px 2px 0 0;width:100%;height:29px;padding-right:4px;-webkit-box-orient:horizontal;-moz-box-orient:horizontal;box-orient:horizontal;box-align:stretch;display:flex;flex-direction:row;align-items:stretch;-webkit-box-pack:end;-moz-box-pack:end;box-pack:end;justify-content:flex-end;font-size:87%;padding-top:3px}@media print{.edit_mode div.cell.selected{border-color:transparent}div.code_cell{page-break-inside:avoid}#notebook-container{width:100%}.celltoolbar{display:none}}.ctb_hideshow{display:none;vertical-align:bottom}.ctb_global_show .ctb_show.ctb_hideshow{display:block}.ctb_global_show .ctb_show+.input_area,.ctb_global_show .ctb_show+div.text_cell_input,.ctb_global_show .ctb_show~div.text_cell_render{border-top-right-radius:0;border-top-left-radius:0}.ctb_global_show .ctb_show~div.text_cell_render{border:1px solid #cfcfcf}.celltoolbar select{color:#555;background-color:#fff;background-image:none;border:1px solid #ccc;-webkit-box-shadow:inset 0 1px 1px rgba(0,0,0,.075);box-shadow:inset 0 1px 1px rgba(0,0,0,.075);-webkit-transition:border-color ease-in-out .15s,box-shadow ease-in-out .15s;-o-transition:border-color ease-in-out .15s,box-shadow ease-in-out .15s;transition:border-color ease-in-out .15s,box-shadow ease-in-out .15s;line-height:1.5;border-radius:1px;width:inherit;font-size:inherit;height:22px;padding:0;display:inline-block}.celltoolbar select:focus{border-color:#66afe9;outline:0;-webkit-box-shadow:inset 0 1px 1px rgba(0,0,0,.075),0 0 8px rgba(102,175,233,.6);box-shadow:inset 0 1px 1px rgba(0,0,0,.075),0 0 8px rgba(102,175,233,.6)}.celltoolbar select::-moz-placeholder{color:#999;opacity:1}.celltoolbar select:-ms-input-placeholder{color:#999}.celltoolbar select::-webkit-input-placeholder{color:#999}.celltoolbar select[disabled],.celltoolbar select[readonly],fieldset[disabled] .celltoolbar select{background-color:#eee;opacity:1}.celltoolbar select[disabled],fieldset[disabled] .celltoolbar select{cursor:not-allowed}textarea.celltoolbar select{height:auto}select.celltoolbar select{height:30px;line-height:30px}select[multiple].celltoolbar select,textarea.celltoolbar select{height:auto}.celltoolbar label{margin-left:5px;margin-right:5px}.completions{position:absolute;z-index:10;overflow:hidden;border:1px solid #ababab;border-radius:2px;-webkit-box-shadow:0 6px 10px -1px #adadad;box-shadow:0 6px 10px -1px #adadad;line-height:1}.completions select{background:#fff;outline:0;border:none;padding:0;margin:0;overflow:auto;font-family:monospace;font-size:110%;color:#000;width:auto}.completions select option.context{color:#286090}#kernel_logo_widget{float:right!important;float:right}#kernel_logo_widget .current_kernel_logo{display:none;margin-top:-1px;margin-bottom:-1px;width:32px;height:32px}#menubar{box-sizing:border-box;-moz-box-sizing:border-box;-webkit-box-sizing:border-box;margin-top:1px}#menubar .navbar{border-top:1px;border-radius:0 0 2px 2px;margin-bottom:0}#menubar .navbar-toggle{float:left;padding-top:7px;padding-bottom:7px;border:none}#menubar .navbar-collapse{clear:left}.nav-wrapper{border-bottom:1px solid #e7e7e7}i.menu-icon{padding-top:4px}ul#help_menu li a{overflow:hidden;padding-right:2.2em}ul#help_menu li a i{margin-right:-1.2em}.dropdown-submenu{position:relative}.dropdown-submenu>.dropdown-menu{top:0;left:100%;margin-top:-6px;margin-left:-1px}.dropdown-submenu:hover>.dropdown-menu{display:block}.dropdown-submenu>a:after{font:normal normal normal 14px/1 FontAwesome;font-size:inherit;text-rendering:auto;-webkit-font-smoothing:antialiased;-moz-osx-font-smoothing:grayscale;display:block;content:"\f0da";float:right;color:#333;margin-top:2px;margin-right:-10px}.dropdown-submenu>a:after.pull-left{margin-right:.3em}.dropdown-submenu>a:after.pull-right{margin-left:.3em}.dropdown-submenu:hover>a:after{color:#262626}.dropdown-submenu.pull-left{float:none}.dropdown-submenu.pull-left>.dropdown-menu{left:-100%;margin-left:10px}#notification_area{float:right!important;float:right;z-index:10}.indicator_area{float:right!important;float:right;color:#777;margin-left:5px;margin-right:5px;z-index:10;text-align:center;width:auto}#kernel_indicator{float:right!important;float:right;color:#777;margin-left:5px;margin-right:5px;z-index:10;text-align:center;width:auto;border-left:1px solid}#kernel_indicator .kernel_indicator_name{padding-left:5px;padding-right:5px}#modal_indicator{float:right!important;float:right;color:#777;margin-left:5px;margin-right:5px;z-index:10;text-align:center;width:auto}#readonly-indicator{float:right!important;float:right;color:#777;z-index:10;text-align:center;width:auto;display:none;margin:2px 0 0}.modal_indicator:before{width:1.28571429em;text-align:center}.edit_mode .modal_indicator:before{display:inline-block;font:normal normal normal 14px/1 FontAwesome;font-size:inherit;text-rendering:auto;-webkit-font-smoothing:antialiased;-moz-osx-font-smoothing:grayscale;content:"\f040"}.edit_mode .modal_indicator:before.pull-left{margin-right:.3em}.edit_mode .modal_indicator:before.pull-right{margin-left:.3em}.command_mode .modal_indicator:before{display:inline-block;font:normal normal normal 14px/1 FontAwesome;font-size:inherit;text-rendering:auto;-webkit-font-smoothing:antialiased;-moz-osx-font-smoothing:grayscale;content:' '}.command_mode .modal_indicator:before.pull-left{margin-right:.3em}.command_mode .modal_indicator:before.pull-right{margin-left:.3em}.kernel_idle_icon:before{display:inline-block;font:normal normal normal 14px/1 FontAwesome;font-size:inherit;text-rendering:auto;-webkit-font-smoothing:antialiased;-moz-osx-font-smoothing:grayscale;content:"\f10c"}.kernel_idle_icon:before.pull-left{margin-right:.3em}.kernel_idle_icon:before.pull-right{margin-left:.3em}.kernel_busy_icon:before{display:inline-block;font:normal normal normal 14px/1 FontAwesome;font-size:inherit;text-rendering:auto;-webkit-font-smoothing:antialiased;-moz-osx-font-smoothing:grayscale;content:"\f111"}.kernel_busy_icon:before.pull-left{margin-right:.3em}.kernel_busy_icon:before.pull-right{margin-left:.3em}.kernel_dead_icon:before{display:inline-block;font:normal normal normal 14px/1 FontAwesome;font-size:inherit;text-rendering:auto;-webkit-font-smoothing:antialiased;-moz-osx-font-smoothing:grayscale;content:"\f1e2"}.kernel_dead_icon:before.pull-left{margin-right:.3em}.kernel_dead_icon:before.pull-right{margin-left:.3em}.kernel_disconnected_icon:before{display:inline-block;font:normal normal normal 14px/1 FontAwesome;font-size:inherit;text-rendering:auto;-webkit-font-smoothing:antialiased;-moz-osx-font-smoothing:grayscale;content:"\f127"}.kernel_disconnected_icon:before.pull-left{margin-right:.3em}.kernel_disconnected_icon:before.pull-right{margin-left:.3em}.notification_widget{z-index:10;background:rgba(240,240,240,.5);margin-right:4px;color:#333;background-color:#fff;border-color:#ccc}.notification_widget.active,.notification_widget.focus,.notification_widget:active,.notification_widget:focus,.notification_widget:hover,.open>.dropdown-toggle.notification_widget{color:#333;background-color:#e6e6e6;border-color:#adadad}.notification_widget.active,.notification_widget:active,.open>.dropdown-toggle.notification_widget{background-image:none}.notification_widget.disabled,.notification_widget.disabled.active,.notification_widget.disabled.focus,.notification_widget.disabled:active,.notification_widget.disabled:focus,.notification_widget.disabled:hover,.notification_widget[disabled],.notification_widget[disabled].active,.notification_widget[disabled].focus,.notification_widget[disabled]:active,.notification_widget[disabled]:focus,.notification_widget[disabled]:hover,fieldset[disabled] .notification_widget,fieldset[disabled] .notification_widget.active,fieldset[disabled] .notification_widget.focus,fieldset[disabled] .notification_widget:active,fieldset[disabled] .notification_widget:focus,fieldset[disabled] .notification_widget:hover{background-color:#fff;border-color:#ccc}.notification_widget .badge{color:#fff;background-color:#333}.notification_widget.warning{color:#fff;background-color:#f0ad4e;border-color:#eea236}.notification_widget.warning.active,.notification_widget.warning.focus,.notification_widget.warning:active,.notification_widget.warning:focus,.notification_widget.warning:hover,.open>.dropdown-toggle.notification_widget.warning{color:#fff;background-color:#ec971f;border-color:#d58512}.notification_widget.warning.active,.notification_widget.warning:active,.open>.dropdown-toggle.notification_widget.warning{background-image:none}.notification_widget.warning.disabled,.notification_widget.warning.disabled.active,.notification_widget.warning.disabled.focus,.notification_widget.warning.disabled:active,.notification_widget.warning.disabled:focus,.notification_widget.warning.disabled:hover,.notification_widget.warning[disabled],.notification_widget.warning[disabled].active,.notification_widget.warning[disabled].focus,.notification_widget.warning[disabled]:active,.notification_widget.warning[disabled]:focus,.notification_widget.warning[disabled]:hover,fieldset[disabled] .notification_widget.warning,fieldset[disabled] .notification_widget.warning.active,fieldset[disabled] .notification_widget.warning.focus,fieldset[disabled] .notification_widget.warning:active,fieldset[disabled] .notification_widget.warning:focus,fieldset[disabled] .notification_widget.warning:hover{background-color:#f0ad4e;border-color:#eea236}.notification_widget.warning .badge{color:#f0ad4e;background-color:#fff}.notification_widget.success{color:#fff;background-color:#5cb85c;border-color:#4cae4c}.notification_widget.success.active,.notification_widget.success.focus,.notification_widget.success:active,.notification_widget.success:focus,.notification_widget.success:hover,.open>.dropdown-toggle.notification_widget.success{color:#fff;background-color:#449d44;border-color:#398439}.notification_widget.success.active,.notification_widget.success:active,.open>.dropdown-toggle.notification_widget.success{background-image:none}.notification_widget.success.disabled,.notification_widget.success.disabled.active,.notification_widget.success.disabled.focus,.notification_widget.success.disabled:active,.notification_widget.success.disabled:focus,.notification_widget.success.disabled:hover,.notification_widget.success[disabled],.notification_widget.success[disabled].active,.notification_widget.success[disabled].focus,.notification_widget.success[disabled]:active,.notification_widget.success[disabled]:focus,.notification_widget.success[disabled]:hover,fieldset[disabled] .notification_widget.success,fieldset[disabled] .notification_widget.success.active,fieldset[disabled] .notification_widget.success.focus,fieldset[disabled] .notification_widget.success:active,fieldset[disabled] .notification_widget.success:focus,fieldset[disabled] .notification_widget.success:hover{background-color:#5cb85c;border-color:#4cae4c}.notification_widget.success .badge{color:#5cb85c;background-color:#fff}.notification_widget.info{color:#fff;background-color:#5bc0de;border-color:#46b8da}.notification_widget.info.active,.notification_widget.info.focus,.notification_widget.info:active,.notification_widget.info:focus,.notification_widget.info:hover,.open>.dropdown-toggle.notification_widget.info{color:#fff;background-color:#31b0d5;border-color:#269abc}.notification_widget.info.active,.notification_widget.info:active,.open>.dropdown-toggle.notification_widget.info{background-image:none}.notification_widget.info.disabled,.notification_widget.info.disabled.active,.notification_widget.info.disabled.focus,.notification_widget.info.disabled:active,.notification_widget.info.disabled:focus,.notification_widget.info.disabled:hover,.notification_widget.info[disabled],.notification_widget.info[disabled].active,.notification_widget.info[disabled].focus,.notification_widget.info[disabled]:active,.notification_widget.info[disabled]:focus,.notification_widget.info[disabled]:hover,fieldset[disabled] .notification_widget.info,fieldset[disabled] .notification_widget.info.active,fieldset[disabled] .notification_widget.info.focus,fieldset[disabled] .notification_widget.info:active,fieldset[disabled] .notification_widget.info:focus,fieldset[disabled] .notification_widget.info:hover{background-color:#5bc0de;border-color:#46b8da}.notification_widget.info .badge{color:#5bc0de;background-color:#fff}.notification_widget.danger{color:#fff;background-color:#d9534f;border-color:#d43f3a}.notification_widget.danger.active,.notification_widget.danger.focus,.notification_widget.danger:active,.notification_widget.danger:focus,.notification_widget.danger:hover,.open>.dropdown-toggle.notification_widget.danger{color:#fff;background-color:#c9302c;border-color:#ac2925}.notification_widget.danger.active,.notification_widget.danger:active,.open>.dropdown-toggle.notification_widget.danger{background-image:none}.notification_widget.danger.disabled,.notification_widget.danger.disabled.active,.notification_widget.danger.disabled.focus,.notification_widget.danger.disabled:active,.notification_widget.danger.disabled:focus,.notification_widget.danger.disabled:hover,.notification_widget.danger[disabled],.notification_widget.danger[disabled].active,.notification_widget.danger[disabled].focus,.notification_widget.danger[disabled]:active,.notification_widget.danger[disabled]:focus,.notification_widget.danger[disabled]:hover,fieldset[disabled] .notification_widget.danger,fieldset[disabled] .notification_widget.danger.active,fieldset[disabled] .notification_widget.danger.focus,fieldset[disabled] .notification_widget.danger:active,fieldset[disabled] .notification_widget.danger:focus,fieldset[disabled] .notification_widget.danger:hover{background-color:#d9534f;border-color:#d43f3a}.notification_widget.danger .badge{color:#d9534f;background-color:#fff}div#pager{background-color:#fff;font-size:14px;line-height:20px;overflow:hidden;display:none;position:fixed;bottom:0;width:100%;max-height:50%;padding-top:8px;-webkit-box-shadow:0 0 12px 1px rgba(87,87,87,.2);box-shadow:0 0 12px 1px rgba(87,87,87,.2);z-index:100;top:auto!important}div#pager pre{line-height:1.21429em;color:#000;background-color:#f7f7f7;padding:.4em}div#pager #pager-button-area{position:absolute;top:8px;right:20px}div#pager #pager-contents{position:relative;overflow:auto;width:100%;height:100%}div#pager #pager-contents #pager-container{position:relative;padding:15px 0;box-sizing:border-box;-moz-box-sizing:border-box;-webkit-box-sizing:border-box}div#pager .ui-resizable-handle{top:0;height:8px;background:#f7f7f7;border-top:1px solid #cfcfcf;border-bottom:1px solid #cfcfcf}div#pager .ui-resizable-handle::after{content:'';top:2px;left:50%;height:3px;width:30px;margin-left:-15px;position:absolute;border-top:1px solid #cfcfcf}.quickhelp{display:-webkit-box;-webkit-box-orient:horizontal;display:-moz-box;-moz-box-orient:horizontal;display:box;box-orient:horizontal;box-align:stretch;display:flex;flex-direction:row;align-items:stretch}.shortcut_key{display:inline-block;width:20ex;text-align:right;font-family:monospace}.shortcut_descr{display:inline-block;-webkit-box-flex:1;-moz-box-flex:1;box-flex:1;flex:1}span.save_widget{margin-top:6px}span.save_widget span.filename{height:1em;line-height:1em;padding:3px;margin-left:16px;border:none;font-size:146.5%;border-radius:2px}span.save_widget span.filename:hover{background-color:#e6e6e6}span.autosave_status,span.checkpoint_status{font-size:small}@media (max-width:767px){span.save_widget{font-size:small}span.autosave_status,span.checkpoint_status{display:none}}@media (min-width:768px)and (max-width:991px){span.checkpoint_status{display:none}span.autosave_status{font-size:x-small}}.toolbar{padding:0;margin-left:-5px;margin-top:2px;margin-bottom:5px;box-sizing:border-box;-moz-box-sizing:border-box;-webkit-box-sizing:border-box}.toolbar label,.toolbar select{width:auto;vertical-align:middle;margin-bottom:0;display:inline;font-size:92%;margin-left:.3em;margin-right:.3em;padding:3px 0 0}.toolbar .btn{padding:2px 8px}.toolbar .btn-group{margin-top:0;margin-left:5px}#maintoolbar{margin-bottom:-3px;margin-top:-8px;border:0;min-height:27px;margin-left:0;padding-top:11px;padding-bottom:3px}#maintoolbar .navbar-text{float:none;vertical-align:middle;text-align:right;margin-left:5px;margin-right:0;margin-top:0}.select-xs{height:24px}@-moz-keyframes fadeOut{from{opacity:1}to{opacity:0}}@-webkit-keyframes fadeOut{from{opacity:1}to{opacity:0}}@-moz-keyframes fadeIn{from{opacity:0}to{opacity:1}}@-webkit-keyframes fadeIn{from{opacity:0}to{opacity:1}}.bigtooltip{overflow:auto;height:200px;-webkit-transition-property:height;-webkit-transition-duration:500ms;-moz-transition-property:height;-moz-transition-duration:500ms;transition-property:height;transition-duration:500ms}.smalltooltip{-webkit-transition-property:height;-webkit-transition-duration:500ms;-moz-transition-property:height;-moz-transition-duration:500ms;transition-property:height;transition-duration:500ms;text-overflow:ellipsis;overflow:hidden;height:80px}.tooltipbuttons{position:absolute;padding-right:15px;top:0;right:0}.tooltiptext{padding-right:30px}.ipython_tooltip{max-width:700px;animation:fadeOut 400ms;-webkit-animation:fadeIn 400ms;-moz-animation:fadeIn 400ms;animation:fadeIn 400ms;vertical-align:middle;background-color:#f7f7f7;overflow:visible;border:1px solid #ababab;outline:0;padding:3px 3px 3px 7px;padding-left:7px;font-family:monospace;min-height:50px;-moz-box-shadow:0 6px 10px -1px #adadad;-webkit-box-shadow:0 6px 10px -1px #adadad;box-shadow:0 6px 10px -1px #adadad;border-radius:2px;position:absolute;z-index:1000}.ipython_tooltip a{float:right}.ipython_tooltip .tooltiptext pre{border:0;border-radius:0;font-size:100%;background-color:#f7f7f7}.pretooltiparrow{left:0;margin:0;top:-16px;width:40px;height:16px;overflow:hidden;position:absolute}.pretooltiparrow:before{background-color:#f7f7f7;border:1px solid #ababab;z-index:11;content:"";position:absolute;left:15px;top:10px;width:25px;height:25px;-webkit-transform:rotate(45deg);-moz-transform:rotate(45deg);-ms-transform:rotate(45deg);-o-transform:rotate(45deg)}.terminal-app{background:#eee}.terminal-app #header{background:#fff;-webkit-box-shadow:0 0 12px 1px rgba(87,87,87,.2);box-shadow:0 0 12px 1px rgba(87,87,87,.2)}.terminal-app .terminal{float:left;font-family:monospace;color:#fff;background:#000;padding:.4em;border-radius:2px;-webkit-box-shadow:0 0 12px 1px rgba(87,87,87,.4);box-shadow:0 0 12px 1px rgba(87,87,87,.4)}.terminal-app .terminal,.terminal-app .terminal dummy-screen{line-height:1em;font-size:14px}.terminal-app .terminal-cursor{color:#000;background:#fff}.terminal-app #terminado-container{margin-top:20px}
/*# sourceMappingURL=style.min.css.map */
    </style>
<style type="text/css">
    .highlight .hll { background-color: #ffffcc }
.highlight  { background: #f8f8f8; }
.highlight .c { color: #408080; font-style: italic } /* Comment */
.highlight .err { border: 1px solid #FF0000 } /* Error */
.highlight .k { color: #008000; font-weight: bold } /* Keyword */
.highlight .o { color: #666666 } /* Operator */
.highlight .ch { color: #408080; font-style: italic } /* Comment.Hashbang */
.highlight .cm { color: #408080; font-style: italic } /* Comment.Multiline */
.highlight .cp { color: #BC7A00 } /* Comment.Preproc */
.highlight .cpf { color: #408080; font-style: italic } /* Comment.PreprocFile */
.highlight .c1 { color: #408080; font-style: italic } /* Comment.Single */
.highlight .cs { color: #408080; font-style: italic } /* Comment.Special */
.highlight .gd { color: #A00000 } /* Generic.Deleted */
.highlight .ge { font-style: italic } /* Generic.Emph */
.highlight .gr { color: #FF0000 } /* Generic.Error */
.highlight .gh { color: #000080; font-weight: bold } /* Generic.Heading */
.highlight .gi { color: #00A000 } /* Generic.Inserted */
.highlight .go { color: #888888 } /* Generic.Output */
.highlight .gp { color: #000080; font-weight: bold } /* Generic.Prompt */
.highlight .gs { font-weight: bold } /* Generic.Strong */
.highlight .gu { color: #800080; font-weight: bold } /* Generic.Subheading */
.highlight .gt { color: #0044DD } /* Generic.Traceback */
.highlight .kc { color: #008000; font-weight: bold } /* Keyword.Constant */
.highlight .kd { color: #008000; font-weight: bold } /* Keyword.Declaration */
.highlight .kn { color: #008000; font-weight: bold } /* Keyword.Namespace */
.highlight .kp { color: #008000 } /* Keyword.Pseudo */
.highlight .kr { color: #008000; font-weight: bold } /* Keyword.Reserved */
.highlight .kt { color: #B00040 } /* Keyword.Type */
.highlight .m { color: #666666 } /* Literal.Number */
.highlight .s { color: #BA2121 } /* Literal.String */
.highlight .na { color: #7D9029 } /* Name.Attribute */
.highlight .nb { color: #008000 } /* Name.Builtin */
.highlight .nc { color: #0000FF; font-weight: bold } /* Name.Class */
.highlight .no { color: #880000 } /* Name.Constant */
.highlight .nd { color: #AA22FF } /* Name.Decorator */
.highlight .ni { color: #999999; font-weight: bold } /* Name.Entity */
.highlight .ne { color: #D2413A; font-weight: bold } /* Name.Exception */
.highlight .nf { color: #0000FF } /* Name.Function */
.highlight .nl { color: #A0A000 } /* Name.Label */
.highlight .nn { color: #0000FF; font-weight: bold } /* Name.Namespace */
.highlight .nt { color: #008000; font-weight: bold } /* Name.Tag */
.highlight .nv { color: #19177C } /* Name.Variable */
.highlight .ow { color: #AA22FF; font-weight: bold } /* Operator.Word */
.highlight .w { color: #bbbbbb } /* Text.Whitespace */
.highlight .mb { color: #666666 } /* Literal.Number.Bin */
.highlight .mf { color: #666666 } /* Literal.Number.Float */
.highlight .mh { color: #666666 } /* Literal.Number.Hex */
.highlight .mi { color: #666666 } /* Literal.Number.Integer */
.highlight .mo { color: #666666 } /* Literal.Number.Oct */
.highlight .sb { color: #BA2121 } /* Literal.String.Backtick */
.highlight .sc { color: #BA2121 } /* Literal.String.Char */
.highlight .sd { color: #BA2121; font-style: italic } /* Literal.String.Doc */
.highlight .s2 { color: #BA2121 } /* Literal.String.Double */
.highlight .se { color: #BB6622; font-weight: bold } /* Literal.String.Escape */
.highlight .sh { color: #BA2121 } /* Literal.String.Heredoc */
.highlight .si { color: #BB6688; font-weight: bold } /* Literal.String.Interpol */
.highlight .sx { color: #008000 } /* Literal.String.Other */
.highlight .sr { color: #BB6688 } /* Literal.String.Regex */
.highlight .s1 { color: #BA2121 } /* Literal.String.Single */
.highlight .ss { color: #19177C } /* Literal.String.Symbol */
.highlight .bp { color: #008000 } /* Name.Builtin.Pseudo */
.highlight .vc { color: #19177C } /* Name.Variable.Class */
.highlight .vg { color: #19177C } /* Name.Variable.Global */
.highlight .vi { color: #19177C } /* Name.Variable.Instance */
.highlight .il { color: #666666 } /* Literal.Number.Integer.Long */
    </style>


<style type="text/css">
/* Overrides of notebook CSS for static HTML export */
body {
  overflow: visible;
  padding: 8px;
}

div#notebook {
  overflow: visible;
  border-top: none;
}

@media print {
  div.cell {
    display: block;
    page-break-inside: avoid;
  } 
  div.output_wrapper { 
    display: block;
    page-break-inside: avoid; 
  }
  div.output { 
    display: block;
    page-break-inside: avoid; 
  }
}
</style>

<!-- Custom stylesheet, it must be in the same directory as the html file -->
<link rel="stylesheet" href="custom.css">

<!-- Loading mathjax macro -->
<!-- Load mathjax -->
    <script src="https://cdn.mathjax.org/mathjax/latest/MathJax.js?config=TeX-AMS_HTML"></script>
    <!-- MathJax configuration -->
    <script type="text/x-mathjax-config">
    MathJax.Hub.Config({
        tex2jax: {
            inlineMath: [ ['$','$'], ["\\(","\\)"] ],
            displayMath: [ ['$$','$$'], ["\\[","\\]"] ],
            processEscapes: true,
            processEnvironments: true
        },
        // Center justify equations in code and markdown cells. Elsewhere
        // we use CSS to left justify single line equations in code cells.
        displayAlign: 'center',
        "HTML-CSS": {
            styles: {'.MathJax_Display': {"margin": 0}},
            linebreaks: { automatic: true }
        }
    });
    </script>
    <!-- End of mathjax configuration --></head>
<body>
  <div tabindex="-1" id="notebook" class="border-box-sizing">
    <div class="container" id="notebook-container">

<div class="cell border-box-sizing code_cell rendered">
<div class="input">
<div class="prompt input_prompt">In&nbsp;[56]:</div>
<div class="inner_cell">
    <div class="input_area">
<div class=" highlight hl-ipython3"><pre><span class="kn">import</span> <span class="nn">pandas</span> <span class="k">as</span> <span class="nn">pd</span>
<span class="kn">import</span> <span class="nn">numpy</span> <span class="k">as</span> <span class="nn">np</span>
<span class="kn">from</span> <span class="nn">sklearn.ensemble</span> <span class="k">import</span> <span class="n">RandomForestRegressor</span>
<span class="kn">import</span> <span class="nn">matplotlib.pyplot</span> <span class="k">as</span> <span class="nn">plt</span>
<span class="o">%</span><span class="k">matplotlib</span> inline
<span class="kn">import</span> <span class="nn">seaborn</span> <span class="k">as</span> <span class="nn">sns</span>
<span class="kn">from</span> <span class="nn">datetime</span> <span class="k">import</span> <span class="n">datetime</span>
<span class="kn">from</span> <span class="nn">matplotlib.dates</span> <span class="k">import</span> <span class="n">YearLocator</span><span class="p">,</span> <span class="n">MonthLocator</span><span class="p">,</span> <span class="n">DateFormatter</span>

<span class="kn">from</span> <span class="nn">sklearn</span> <span class="k">import</span> <span class="n">cross_validation</span>
<span class="kn">from</span> <span class="nn">sklearn.metrics</span> <span class="k">import</span> <span class="n">mean_squared_error</span>
</pre></div>

</div>
</div>
</div>

</div>
<div class="cell border-box-sizing code_cell rendered">
<div class="input">
<div class="prompt input_prompt">In&nbsp;[57]:</div>
<div class="inner_cell">
    <div class="input_area">
<div class=" highlight hl-ipython3"><pre><span class="n">df</span> <span class="o">=</span> <span class="n">pd</span><span class="o">.</span><span class="n">read_csv</span><span class="p">(</span><span class="s2">&quot;Datasets/forestfires.csv&quot;</span><span class="p">)</span>
</pre></div>

</div>
</div>
</div>

</div>
<div class="cell border-box-sizing code_cell rendered">
<div class="input">
<div class="prompt input_prompt">In&nbsp;[58]:</div>
<div class="inner_cell">
    <div class="input_area">
<div class=" highlight hl-ipython3"><pre><span class="n">df</span><span class="o">.</span><span class="n">head</span><span class="p">(</span><span class="mi">10</span><span class="p">)</span>
</pre></div>

</div>
</div>
</div>

<div class="output_wrapper">
<div class="output">


<div class="output_area"><div class="prompt output_prompt">Out[58]:</div>

<div class="output_html rendered_html output_subarea output_execute_result">
<div>
<table border="1" class="dataframe">
  <thead>
    <tr style="text-align: right;">
      <th></th>
      <th>X</th>
      <th>Y</th>
      <th>month</th>
      <th>day</th>
      <th>FFMC</th>
      <th>DMC</th>
      <th>DC</th>
      <th>ISI</th>
      <th>temp</th>
      <th>RH</th>
      <th>wind</th>
      <th>rain</th>
      <th>area</th>
    </tr>
  </thead>
  <tbody>
    <tr>
      <th>0</th>
      <td>7</td>
      <td>5</td>
      <td>mar</td>
      <td>fri</td>
      <td>86.2</td>
      <td>26.2</td>
      <td>94.3</td>
      <td>5.1</td>
      <td>8.2</td>
      <td>51</td>
      <td>6.7</td>
      <td>0.0</td>
      <td>0</td>
    </tr>
    <tr>
      <th>1</th>
      <td>7</td>
      <td>4</td>
      <td>oct</td>
      <td>tue</td>
      <td>90.6</td>
      <td>35.4</td>
      <td>669.1</td>
      <td>6.7</td>
      <td>18.0</td>
      <td>33</td>
      <td>0.9</td>
      <td>0.0</td>
      <td>0</td>
    </tr>
    <tr>
      <th>2</th>
      <td>7</td>
      <td>4</td>
      <td>oct</td>
      <td>sat</td>
      <td>90.6</td>
      <td>43.7</td>
      <td>686.9</td>
      <td>6.7</td>
      <td>14.6</td>
      <td>33</td>
      <td>1.3</td>
      <td>0.0</td>
      <td>0</td>
    </tr>
    <tr>
      <th>3</th>
      <td>8</td>
      <td>6</td>
      <td>mar</td>
      <td>fri</td>
      <td>91.7</td>
      <td>33.3</td>
      <td>77.5</td>
      <td>9.0</td>
      <td>8.3</td>
      <td>97</td>
      <td>4.0</td>
      <td>0.2</td>
      <td>0</td>
    </tr>
    <tr>
      <th>4</th>
      <td>8</td>
      <td>6</td>
      <td>mar</td>
      <td>sun</td>
      <td>89.3</td>
      <td>51.3</td>
      <td>102.2</td>
      <td>9.6</td>
      <td>11.4</td>
      <td>99</td>
      <td>1.8</td>
      <td>0.0</td>
      <td>0</td>
    </tr>
    <tr>
      <th>5</th>
      <td>8</td>
      <td>6</td>
      <td>aug</td>
      <td>sun</td>
      <td>92.3</td>
      <td>85.3</td>
      <td>488.0</td>
      <td>14.7</td>
      <td>22.2</td>
      <td>29</td>
      <td>5.4</td>
      <td>0.0</td>
      <td>0</td>
    </tr>
    <tr>
      <th>6</th>
      <td>8</td>
      <td>6</td>
      <td>aug</td>
      <td>mon</td>
      <td>92.3</td>
      <td>88.9</td>
      <td>495.6</td>
      <td>8.5</td>
      <td>24.1</td>
      <td>27</td>
      <td>3.1</td>
      <td>0.0</td>
      <td>0</td>
    </tr>
    <tr>
      <th>7</th>
      <td>8</td>
      <td>6</td>
      <td>aug</td>
      <td>mon</td>
      <td>91.5</td>
      <td>145.4</td>
      <td>608.2</td>
      <td>10.7</td>
      <td>8.0</td>
      <td>86</td>
      <td>2.2</td>
      <td>0.0</td>
      <td>0</td>
    </tr>
    <tr>
      <th>8</th>
      <td>8</td>
      <td>6</td>
      <td>sep</td>
      <td>tue</td>
      <td>91.0</td>
      <td>129.5</td>
      <td>692.6</td>
      <td>7.0</td>
      <td>13.1</td>
      <td>63</td>
      <td>5.4</td>
      <td>0.0</td>
      <td>0</td>
    </tr>
    <tr>
      <th>9</th>
      <td>7</td>
      <td>5</td>
      <td>sep</td>
      <td>sat</td>
      <td>92.5</td>
      <td>88.0</td>
      <td>698.6</td>
      <td>7.1</td>
      <td>22.8</td>
      <td>40</td>
      <td>4.0</td>
      <td>0.0</td>
      <td>0</td>
    </tr>
  </tbody>
</table>
</div>
</div>

</div>

</div>
</div>

</div>
<div class="cell border-box-sizing code_cell rendered">
<div class="input">
<div class="prompt input_prompt">In&nbsp;[59]:</div>
<div class="inner_cell">
    <div class="input_area">
<div class=" highlight hl-ipython3"><pre><span class="n">df</span><span class="o">.</span><span class="n">shape</span>
</pre></div>

</div>
</div>
</div>

<div class="output_wrapper">
<div class="output">


<div class="output_area"><div class="prompt output_prompt">Out[59]:</div>


<div class="output_text output_subarea output_execute_result">
<pre>(517, 13)</pre>
</div>

</div>

</div>
</div>

</div>
<div class="cell border-box-sizing text_cell rendered">
<div class="prompt input_prompt">
</div>
<div class="inner_cell">
<div class="text_cell_render border-box-sizing rendered_html">
<h2 id="Analyzing-Important-Parameters">Analyzing Important Parameters<a class="anchor-link" href="#Analyzing-Important-Parameters">&#182;</a></h2><h3 id="Rain">Rain<a class="anchor-link" href="#Rain">&#182;</a></h3>
</div>
</div>
</div>
<div class="cell border-box-sizing code_cell rendered">
<div class="input">
<div class="prompt input_prompt">In&nbsp;[60]:</div>
<div class="inner_cell">
    <div class="input_area">
<div class=" highlight hl-ipython3"><pre><span class="n">df</span><span class="p">[</span><span class="s1">&#39;rain&#39;</span><span class="p">]</span><span class="o">.</span><span class="n">value_counts</span><span class="p">()</span>
</pre></div>

</div>
</div>
</div>

<div class="output_wrapper">
<div class="output">


<div class="output_area"><div class="prompt output_prompt">Out[60]:</div>


<div class="output_text output_subarea output_execute_result">
<pre>0.0    509
0.2      2
0.8      2
0.4      1
1.4      1
6.4      1
1.0      1
dtype: int64</pre>
</div>

</div>

</div>
</div>

</div>
<div class="cell border-box-sizing text_cell rendered">
<div class="prompt input_prompt">
</div>
<div class="inner_cell">
<div class="text_cell_render border-box-sizing rendered_html">
<p>Since Out of 517 --&gt; 509 rows are 0.0 in the rains column. So no use in using it as feature.</p>

</div>
</div>
</div>
<div class="cell border-box-sizing code_cell rendered">
<div class="input">
<div class="prompt input_prompt">In&nbsp;[61]:</div>
<div class="inner_cell">
    <div class="input_area">
<div class=" highlight hl-ipython3"><pre><span class="n">df</span> <span class="o">=</span> <span class="n">df</span><span class="o">.</span><span class="n">drop</span><span class="p">(</span><span class="s1">&#39;rain&#39;</span><span class="p">,</span><span class="n">axis</span><span class="o">=</span><span class="mi">1</span><span class="p">)</span>
</pre></div>

</div>
</div>
</div>

</div>
<div class="cell border-box-sizing text_cell rendered">
<div class="prompt input_prompt">
</div>
<div class="inner_cell">
<div class="text_cell_render border-box-sizing rendered_html">
<h3 id="Variations-with-respect-to-the-area">Variations with respect to the area<a class="anchor-link" href="#Variations-with-respect-to-the-area">&#182;</a></h3>
</div>
</div>
</div>
<div class="cell border-box-sizing code_cell rendered">
<div class="input">
<div class="prompt input_prompt">In&nbsp;[62]:</div>
<div class="inner_cell">
    <div class="input_area">
<div class=" highlight hl-ipython3"><pre><span class="n">df</span><span class="o">.</span><span class="n">month</span> <span class="o">=</span> <span class="n">pd</span><span class="o">.</span><span class="n">to_datetime</span><span class="p">(</span><span class="n">df</span><span class="o">.</span><span class="n">month</span><span class="o">+</span><span class="n">df</span><span class="o">.</span><span class="n">day</span><span class="p">,</span><span class="nb">format</span><span class="o">=</span><span class="s1">&#39;%b%a&#39;</span><span class="p">)</span>
<span class="kn">from</span> <span class="nn">time</span> <span class="k">import</span> <span class="n">strftime</span>
<span class="n">df</span><span class="o">.</span><span class="n">month</span> <span class="o">=</span> <span class="n">df</span><span class="o">.</span><span class="n">month</span><span class="o">.</span><span class="n">apply</span><span class="p">(</span><span class="k">lambda</span> <span class="n">x</span><span class="p">:</span><span class="n">x</span><span class="o">.</span><span class="n">strftime</span><span class="p">(</span><span class="s1">&#39;%m&#39;</span><span class="p">))</span>
</pre></div>

</div>
</div>
</div>

</div>
<div class="cell border-box-sizing code_cell rendered">
<div class="input">
<div class="prompt input_prompt">In&nbsp;[63]:</div>
<div class="inner_cell">
    <div class="input_area">
<div class=" highlight hl-ipython3"><pre><span class="c1">#Removing areas above 300 as only 2 exist</span>
<span class="n">df</span> <span class="o">=</span> <span class="n">df</span><span class="p">[</span><span class="n">df</span><span class="o">.</span><span class="n">area</span><span class="o">&lt;</span><span class="mi">100</span><span class="p">]</span>
</pre></div>

</div>
</div>
</div>

</div>
<div class="cell border-box-sizing code_cell rendered">
<div class="input">
<div class="prompt input_prompt">In&nbsp;[64]:</div>
<div class="inner_cell">
    <div class="input_area">
<div class=" highlight hl-ipython3"><pre><span class="n">df</span><span class="o">.</span><span class="n">head</span><span class="p">()</span>
</pre></div>

</div>
</div>
</div>

<div class="output_wrapper">
<div class="output">


<div class="output_area"><div class="prompt output_prompt">Out[64]:</div>

<div class="output_html rendered_html output_subarea output_execute_result">
<div>
<table border="1" class="dataframe">
  <thead>
    <tr style="text-align: right;">
      <th></th>
      <th>X</th>
      <th>Y</th>
      <th>month</th>
      <th>day</th>
      <th>FFMC</th>
      <th>DMC</th>
      <th>DC</th>
      <th>ISI</th>
      <th>temp</th>
      <th>RH</th>
      <th>wind</th>
      <th>area</th>
    </tr>
  </thead>
  <tbody>
    <tr>
      <th>0</th>
      <td>7</td>
      <td>5</td>
      <td>03</td>
      <td>fri</td>
      <td>86.2</td>
      <td>26.2</td>
      <td>94.3</td>
      <td>5.1</td>
      <td>8.2</td>
      <td>51</td>
      <td>6.7</td>
      <td>0</td>
    </tr>
    <tr>
      <th>1</th>
      <td>7</td>
      <td>4</td>
      <td>10</td>
      <td>tue</td>
      <td>90.6</td>
      <td>35.4</td>
      <td>669.1</td>
      <td>6.7</td>
      <td>18.0</td>
      <td>33</td>
      <td>0.9</td>
      <td>0</td>
    </tr>
    <tr>
      <th>2</th>
      <td>7</td>
      <td>4</td>
      <td>10</td>
      <td>sat</td>
      <td>90.6</td>
      <td>43.7</td>
      <td>686.9</td>
      <td>6.7</td>
      <td>14.6</td>
      <td>33</td>
      <td>1.3</td>
      <td>0</td>
    </tr>
    <tr>
      <th>3</th>
      <td>8</td>
      <td>6</td>
      <td>03</td>
      <td>fri</td>
      <td>91.7</td>
      <td>33.3</td>
      <td>77.5</td>
      <td>9.0</td>
      <td>8.3</td>
      <td>97</td>
      <td>4.0</td>
      <td>0</td>
    </tr>
    <tr>
      <th>4</th>
      <td>8</td>
      <td>6</td>
      <td>03</td>
      <td>sun</td>
      <td>89.3</td>
      <td>51.3</td>
      <td>102.2</td>
      <td>9.6</td>
      <td>11.4</td>
      <td>99</td>
      <td>1.8</td>
      <td>0</td>
    </tr>
  </tbody>
</table>
</div>
</div>

</div>

</div>
</div>

</div>
<div class="cell border-box-sizing code_cell rendered">
<div class="input">
<div class="prompt input_prompt">In&nbsp;[65]:</div>
<div class="inner_cell">
    <div class="input_area">
<div class=" highlight hl-ipython3"><pre><span class="n">fig</span> <span class="o">=</span> <span class="n">plt</span><span class="o">.</span><span class="n">figure</span><span class="p">(</span><span class="n">figsize</span> <span class="o">=</span> <span class="p">(</span><span class="mi">15</span><span class="p">,</span><span class="mi">5</span><span class="p">))</span>

<span class="c1">#Burned Area Vs Month </span>
<span class="n">plt</span><span class="o">.</span><span class="n">subplot2grid</span><span class="p">((</span><span class="mi">2</span><span class="p">,</span><span class="mi">3</span><span class="p">),(</span><span class="mi">0</span><span class="p">,</span><span class="mi">0</span><span class="p">),</span><span class="n">colspan</span><span class="o">=</span><span class="mi">2</span><span class="p">,</span><span class="n">rowspan</span><span class="o">=</span><span class="mi">2</span><span class="p">)</span>
<span class="n">plt</span><span class="o">.</span><span class="n">plot</span><span class="p">(</span><span class="n">df</span><span class="o">.</span><span class="n">month</span><span class="p">,</span><span class="n">df</span><span class="o">.</span><span class="n">area</span><span class="p">,</span><span class="s1">&#39;o&#39;</span><span class="p">)</span>
<span class="n">plt</span><span class="o">.</span><span class="n">title</span><span class="p">(</span><span class="s2">&quot;Distribution of Burned Area according to Months&quot;</span><span class="p">)</span>
<span class="n">plt</span><span class="o">.</span><span class="n">xlabel</span><span class="p">(</span><span class="s2">&quot;Month&quot;</span><span class="p">)</span>
<span class="n">plt</span><span class="o">.</span><span class="n">ylabel</span><span class="p">(</span><span class="s2">&quot;Burned Area&quot;</span><span class="p">)</span>
</pre></div>

</div>
</div>
</div>

<div class="output_wrapper">
<div class="output">


<div class="output_area"><div class="prompt output_prompt">Out[65]:</div>


<div class="output_text output_subarea output_execute_result">
<pre>&lt;matplotlib.text.Text at 0x7f4d1ce15d68&gt;</pre>
</div>

</div>

<div class="output_area"><div class="prompt"></div>


<div class="output_png output_subarea ">
<img src="data:image/png;base64,iVBORw0KGgoAAAANSUhEUgAAAlgAAAFRCAYAAACogdOJAAAABHNCSVQICAgIfAhkiAAAAAlwSFlz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=
"
>
</div>

</div>

</div>
</div>

</div>
<div class="cell border-box-sizing code_cell rendered">
<div class="input">
<div class="prompt input_prompt">In&nbsp;[66]:</div>
<div class="inner_cell">
    <div class="input_area">
<div class=" highlight hl-ipython3"><pre><span class="c1">#Day vs Burned Area</span>
<span class="n">df</span><span class="o">.</span><span class="n">day</span><span class="p">[</span><span class="n">df</span><span class="o">.</span><span class="n">area</span><span class="o">&gt;</span><span class="mi">0</span><span class="p">]</span><span class="o">.</span><span class="n">value_counts</span><span class="p">()</span><span class="o">.</span><span class="n">plot</span><span class="p">(</span><span class="n">kind</span><span class="o">=</span><span class="s1">&#39;barh&#39;</span><span class="p">)</span>
<span class="n">plt</span><span class="o">.</span><span class="n">title</span><span class="p">(</span><span class="s2">&quot;Distribution of Burned Area according to days&quot;</span><span class="p">)</span>
<span class="n">plt</span><span class="o">.</span><span class="n">xlabel</span><span class="p">(</span><span class="s2">&quot;Area&quot;</span><span class="p">)</span>
<span class="n">plt</span><span class="o">.</span><span class="n">ylabel</span><span class="p">(</span><span class="s2">&quot;Day&quot;</span><span class="p">)</span>


<span class="c1">#Subplots based on Locations </span>
<span class="n">fig</span> <span class="o">=</span> <span class="n">plt</span><span class="o">.</span><span class="n">figure</span><span class="p">(</span><span class="n">figsize</span> <span class="o">=</span> <span class="p">(</span><span class="mi">14</span><span class="p">,</span><span class="mi">5</span><span class="p">))</span>
<span class="n">plt</span><span class="o">.</span><span class="n">subplot2grid</span><span class="p">((</span><span class="mi">1</span><span class="p">,</span><span class="mi">2</span><span class="p">),(</span><span class="mi">0</span><span class="p">,</span><span class="mi">0</span><span class="p">))</span>
<span class="n">plt</span><span class="o">.</span><span class="n">plot</span><span class="p">(</span><span class="n">df</span><span class="o">.</span><span class="n">X</span><span class="p">,</span><span class="n">df</span><span class="o">.</span><span class="n">Y</span><span class="p">,</span><span class="s1">&#39;o&#39;</span><span class="p">)</span>
<span class="n">plt</span><span class="o">.</span><span class="n">title</span><span class="p">(</span><span class="s2">&quot;Location of all fires&quot;</span><span class="p">)</span>
<span class="n">plt</span><span class="o">.</span><span class="n">xlabel</span><span class="p">(</span><span class="s1">&#39;X (normailized Location)&#39;</span><span class="p">)</span>
<span class="n">plt</span><span class="o">.</span><span class="n">ylabel</span><span class="p">(</span><span class="s1">&#39;Y (normailized Location)&#39;</span><span class="p">)</span>
<span class="n">plt</span><span class="o">.</span><span class="n">subplot2grid</span><span class="p">((</span><span class="mi">1</span><span class="p">,</span><span class="mi">2</span><span class="p">),(</span><span class="mi">0</span><span class="p">,</span><span class="mi">1</span><span class="p">))</span>
<span class="n">plt</span><span class="o">.</span><span class="n">plot</span><span class="p">(</span><span class="n">df</span><span class="o">.</span><span class="n">X</span><span class="p">[</span><span class="n">df</span><span class="o">.</span><span class="n">area</span><span class="o">&gt;</span><span class="mi">0</span><span class="p">],</span><span class="n">df</span><span class="o">.</span><span class="n">Y</span><span class="p">[</span><span class="n">df</span><span class="o">.</span><span class="n">area</span><span class="o">&gt;</span><span class="mi">0</span><span class="p">],</span><span class="s1">&#39;o&#39;</span><span class="p">)</span>
<span class="n">plt</span><span class="o">.</span><span class="n">title</span><span class="p">(</span><span class="s2">&quot;Locaton of fires whose intensity&gt;0&quot;</span><span class="p">)</span>
<span class="n">plt</span><span class="o">.</span><span class="n">xlabel</span><span class="p">(</span><span class="s1">&#39;X (normailized Location)&#39;</span><span class="p">)</span>
<span class="n">plt</span><span class="o">.</span><span class="n">ylabel</span><span class="p">(</span><span class="s1">&#39;Y (normailized Location)&#39;</span><span class="p">)</span>



<span class="c1">#SUBPLOT 1 For Distribution </span>
<span class="n">fig</span> <span class="o">=</span> <span class="n">plt</span><span class="o">.</span><span class="n">figure</span><span class="p">(</span><span class="n">figsize</span> <span class="o">=</span> <span class="p">(</span><span class="mi">14</span><span class="p">,</span><span class="mi">10</span><span class="p">))</span>
<span class="n">plt</span><span class="o">.</span><span class="n">subplot2grid</span><span class="p">((</span><span class="mi">2</span><span class="p">,</span><span class="mi">2</span><span class="p">),(</span><span class="mi">0</span><span class="p">,</span><span class="mi">0</span><span class="p">))</span>
<span class="n">plt</span><span class="o">.</span><span class="n">plot</span><span class="p">(</span><span class="n">df</span><span class="o">.</span><span class="n">FFMC</span><span class="p">[</span><span class="n">df</span><span class="o">.</span><span class="n">area</span><span class="o">&gt;</span><span class="mi">0</span><span class="p">],</span><span class="n">df</span><span class="o">.</span><span class="n">area</span><span class="p">[</span><span class="n">df</span><span class="o">.</span><span class="n">area</span><span class="o">&gt;</span><span class="mi">0</span><span class="p">],</span><span class="s1">&#39;^&#39;</span><span class="p">)</span>
<span class="n">plt</span><span class="o">.</span><span class="n">title</span><span class="p">(</span><span class="s2">&quot;Distribution of FMC with Area Burned&gt;0&quot;</span><span class="p">)</span>
<span class="n">plt</span><span class="o">.</span><span class="n">ylabel</span><span class="p">(</span><span class="s2">&quot;Area&quot;</span><span class="p">)</span>
<span class="n">plt</span><span class="o">.</span><span class="n">xlabel</span><span class="p">(</span><span class="s2">&quot;FMC&quot;</span><span class="p">)</span>

<span class="n">plt</span><span class="o">.</span><span class="n">subplot2grid</span><span class="p">((</span><span class="mi">2</span><span class="p">,</span><span class="mi">2</span><span class="p">),(</span><span class="mi">0</span><span class="p">,</span><span class="mi">1</span><span class="p">))</span>
<span class="n">plt</span><span class="o">.</span><span class="n">plot</span><span class="p">(</span><span class="n">df</span><span class="o">.</span><span class="n">DMC</span><span class="p">[</span><span class="n">df</span><span class="o">.</span><span class="n">area</span><span class="o">&gt;</span><span class="mi">0</span><span class="p">],</span><span class="n">df</span><span class="o">.</span><span class="n">area</span><span class="p">[</span><span class="n">df</span><span class="o">.</span><span class="n">area</span><span class="o">&gt;</span><span class="mi">0</span><span class="p">],</span><span class="s1">&#39;*&#39;</span><span class="p">)</span>
<span class="n">plt</span><span class="o">.</span><span class="n">title</span><span class="p">(</span><span class="s2">&quot;Distribution of DMC with Area Burned&gt;0&quot;</span><span class="p">)</span>
<span class="n">plt</span><span class="o">.</span><span class="n">ylabel</span><span class="p">(</span><span class="s2">&quot;Area&quot;</span><span class="p">)</span>
<span class="n">plt</span><span class="o">.</span><span class="n">xlabel</span><span class="p">(</span><span class="s2">&quot;DMC&quot;</span><span class="p">)</span>

<span class="n">plt</span><span class="o">.</span><span class="n">subplot2grid</span><span class="p">((</span><span class="mi">2</span><span class="p">,</span><span class="mi">2</span><span class="p">),(</span><span class="mi">1</span><span class="p">,</span><span class="mi">0</span><span class="p">))</span>
<span class="n">plt</span><span class="o">.</span><span class="n">plot</span><span class="p">(</span><span class="n">df</span><span class="o">.</span><span class="n">DC</span><span class="p">[</span><span class="n">df</span><span class="o">.</span><span class="n">area</span><span class="o">&gt;</span><span class="mi">0</span><span class="p">],</span><span class="n">df</span><span class="o">.</span><span class="n">area</span><span class="p">[</span><span class="n">df</span><span class="o">.</span><span class="n">area</span><span class="o">&gt;</span><span class="mi">0</span><span class="p">],</span><span class="s1">&#39;.&#39;</span><span class="p">)</span>
<span class="n">plt</span><span class="o">.</span><span class="n">title</span><span class="p">(</span><span class="s2">&quot;Distribution of DC with Area Burned&gt;0&quot;</span><span class="p">)</span>
<span class="n">plt</span><span class="o">.</span><span class="n">ylabel</span><span class="p">(</span><span class="s2">&quot;Area&quot;</span><span class="p">)</span>
<span class="n">plt</span><span class="o">.</span><span class="n">xlabel</span><span class="p">(</span><span class="s2">&quot;DC&quot;</span><span class="p">)</span>

<span class="n">plt</span><span class="o">.</span><span class="n">subplot2grid</span><span class="p">((</span><span class="mi">2</span><span class="p">,</span><span class="mi">2</span><span class="p">),(</span><span class="mi">1</span><span class="p">,</span><span class="mi">1</span><span class="p">))</span>
<span class="n">plt</span><span class="o">.</span><span class="n">plot</span><span class="p">(</span><span class="n">df</span><span class="o">.</span><span class="n">ISI</span><span class="p">[</span><span class="n">df</span><span class="o">.</span><span class="n">area</span><span class="o">&gt;</span><span class="mi">0</span><span class="p">],</span><span class="n">df</span><span class="o">.</span><span class="n">area</span><span class="p">[</span><span class="n">df</span><span class="o">.</span><span class="n">area</span><span class="o">&gt;</span><span class="mi">0</span><span class="p">],</span><span class="s1">&#39;&gt;&#39;</span><span class="p">)</span>
<span class="n">plt</span><span class="o">.</span><span class="n">title</span><span class="p">(</span><span class="s2">&quot;Distribution of ISI with Area Burned&gt;0&quot;</span><span class="p">)</span>
<span class="n">plt</span><span class="o">.</span><span class="n">ylabel</span><span class="p">(</span><span class="s2">&quot;Area&quot;</span><span class="p">)</span>
<span class="n">plt</span><span class="o">.</span><span class="n">xlabel</span><span class="p">(</span><span class="s2">&quot;ISI&quot;</span><span class="p">)</span>

<span class="c1">#SUBPLOT2 OF Distribution</span>
<span class="n">fig</span> <span class="o">=</span> <span class="n">plt</span><span class="o">.</span><span class="n">figure</span><span class="p">(</span><span class="n">figsize</span> <span class="o">=</span> <span class="p">(</span><span class="mi">14</span><span class="p">,</span><span class="mi">10</span><span class="p">))</span>
<span class="n">plt</span><span class="o">.</span><span class="n">subplot2grid</span><span class="p">((</span><span class="mi">2</span><span class="p">,</span><span class="mi">2</span><span class="p">),(</span><span class="mi">0</span><span class="p">,</span><span class="mi">0</span><span class="p">))</span>
<span class="n">plt</span><span class="o">.</span><span class="n">plot</span><span class="p">(</span><span class="n">df</span><span class="o">.</span><span class="n">temp</span><span class="p">[</span><span class="n">df</span><span class="o">.</span><span class="n">area</span><span class="o">&gt;</span><span class="mi">0</span><span class="p">],</span><span class="n">df</span><span class="o">.</span><span class="n">area</span><span class="p">[</span><span class="n">df</span><span class="o">.</span><span class="n">area</span><span class="o">&gt;</span><span class="mi">0</span><span class="p">],</span><span class="s1">&#39;.&#39;</span><span class="p">)</span>
<span class="n">plt</span><span class="o">.</span><span class="n">title</span><span class="p">(</span><span class="s2">&quot;Distribution of Temperature with Area Burned&gt;0&quot;</span><span class="p">)</span>
<span class="n">plt</span><span class="o">.</span><span class="n">ylabel</span><span class="p">(</span><span class="s2">&quot;Area&quot;</span><span class="p">)</span>
<span class="n">plt</span><span class="o">.</span><span class="n">xlabel</span><span class="p">(</span><span class="s2">&quot;temp&quot;</span><span class="p">)</span>

<span class="n">plt</span><span class="o">.</span><span class="n">subplot2grid</span><span class="p">((</span><span class="mi">2</span><span class="p">,</span><span class="mi">2</span><span class="p">),(</span><span class="mi">0</span><span class="p">,</span><span class="mi">1</span><span class="p">))</span>
<span class="n">plt</span><span class="o">.</span><span class="n">plot</span><span class="p">(</span><span class="n">df</span><span class="o">.</span><span class="n">RH</span><span class="p">[</span><span class="n">df</span><span class="o">.</span><span class="n">area</span><span class="o">&gt;</span><span class="mi">0</span><span class="p">],</span><span class="n">df</span><span class="o">.</span><span class="n">area</span><span class="p">[</span><span class="n">df</span><span class="o">.</span><span class="n">area</span><span class="o">&gt;</span><span class="mi">0</span><span class="p">],</span><span class="s1">&#39;.&#39;</span><span class="p">)</span>
<span class="n">plt</span><span class="o">.</span><span class="n">title</span><span class="p">(</span><span class="s2">&quot;Distribution of Relative Humidity with Area Burned&gt;0&quot;</span><span class="p">)</span>
<span class="n">plt</span><span class="o">.</span><span class="n">ylabel</span><span class="p">(</span><span class="s2">&quot;Area&quot;</span><span class="p">)</span>
<span class="n">plt</span><span class="o">.</span><span class="n">xlabel</span><span class="p">(</span><span class="s2">&quot;RH&quot;</span><span class="p">)</span>

<span class="n">plt</span><span class="o">.</span><span class="n">subplot2grid</span><span class="p">((</span><span class="mi">2</span><span class="p">,</span><span class="mi">2</span><span class="p">),(</span><span class="mi">1</span><span class="p">,</span><span class="mi">0</span><span class="p">))</span>
<span class="n">plt</span><span class="o">.</span><span class="n">plot</span><span class="p">(</span><span class="n">df</span><span class="o">.</span><span class="n">wind</span><span class="p">[</span><span class="n">df</span><span class="o">.</span><span class="n">area</span><span class="o">&gt;</span><span class="mi">0</span><span class="p">],</span><span class="n">df</span><span class="o">.</span><span class="n">area</span><span class="p">[</span><span class="n">df</span><span class="o">.</span><span class="n">area</span><span class="o">&gt;</span><span class="mi">0</span><span class="p">],</span><span class="s1">&#39;.&#39;</span><span class="p">,</span><span class="n">color</span><span class="o">=</span><span class="s1">&#39;red&#39;</span><span class="p">)</span>
<span class="n">plt</span><span class="o">.</span><span class="n">title</span><span class="p">(</span><span class="s2">&quot;Distribution of WindSpeed with Area Burned&gt;0&quot;</span><span class="p">)</span>
<span class="n">plt</span><span class="o">.</span><span class="n">ylabel</span><span class="p">(</span><span class="s2">&quot;Area&quot;</span><span class="p">)</span>
<span class="n">plt</span><span class="o">.</span><span class="n">xlabel</span><span class="p">(</span><span class="s2">&quot;WIND SPEED&quot;</span><span class="p">)</span>
</pre></div>

</div>
</div>
</div>

<div class="output_wrapper">
<div class="output">


<div class="output_area"><div class="prompt output_prompt">Out[66]:</div>


<div class="output_text output_subarea output_execute_result">
<pre>&lt;matplotlib.text.Text at 0x7f4d1c36b828&gt;</pre>
</div>

</div>

<div class="output_area"><div class="prompt"></div>


<div class="output_png output_subarea ">
<img src="data:image/png;base64,iVBORw0KGgoAAAANSUhEUgAAAYwAAAEZCAYAAACEkhK6AAAABHNCSVQICAgIfAhkiAAAAAlwSFlz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"
>
</div>

</div>

<div class="output_area"><div class="prompt"></div>


<div class="output_png output_subarea ">
<img src="data:image/png;base64,iVBORw0KGgoAAAANSUhEUgAAAzoAAAFRCAYAAAC8HdgEAAAABHNCSVQICAgIfAhkiAAAAAlwSFlz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"
>
</div>

</div>

<div class="output_area"><div class="prompt"></div>


<div class="output_png output_subarea ">
<img src="data:image/png;base64,iVBORw0KGgoAAAANSUhEUgAAA0oAAAJoCAYAAABYyRFkAAAABHNCSVQICAgIfAhkiAAAAAlwSFlz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"
>
</div>

</div>

<div class="output_area"><div class="prompt"></div>


<div class="output_png output_subarea ">
<img src="data:image/png;base64,iVBORw0KGgoAAAANSUhEUgAAA0oAAAJoCAYAAABYyRFkAAAABHNCSVQICAgIfAhkiAAAAAlwSFlz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"
>
</div>

</div>

</div>
</div>

</div>
<div class="cell border-box-sizing text_cell rendered">
<div class="prompt input_prompt">
</div>
<div class="inner_cell">
<div class="text_cell_render border-box-sizing rendered_html">
<h2 id="Conclusion-From-the-Visualization">Conclusion From the Visualization<a class="anchor-link" href="#Conclusion-From-the-Visualization">&#182;</a></h2><p>1)There are some outliers with huge area majorly above 600 it has been removed.<br></p>
<p>2)Also for area above 100 there only exist about 9 points which is a again an outlier but keeping it for time being</p>

</div>
</div>
</div>
<div class="cell border-box-sizing text_cell rendered">
<div class="prompt input_prompt">
</div>
<div class="inner_cell">
<div class="text_cell_render border-box-sizing rendered_html">
<h1 id="Ensemble-Learning-Techniques">Ensemble Learning Techniques<a class="anchor-link" href="#Ensemble-Learning-Techniques">&#182;</a></h1>
</div>
</div>
</div>
<div class="cell border-box-sizing text_cell rendered">
<div class="prompt input_prompt">
</div>
<div class="inner_cell">
<div class="text_cell_render border-box-sizing rendered_html">
<h2 id="Random-Forest-Regressor">Random Forest Regressor<a class="anchor-link" href="#Random-Forest-Regressor">&#182;</a></h2>
</div>
</div>
</div>
<div class="cell border-box-sizing code_cell rendered">
<div class="input">
<div class="prompt input_prompt">In&nbsp;[&nbsp;]:</div>
<div class="inner_cell">
    <div class="input_area">
<div class=" highlight hl-ipython3"><pre><span class="n">df</span> <span class="o">=</span> <span class="n">df</span><span class="o">.</span><span class="n">drop</span><span class="p">(</span><span class="s1">&#39;day&#39;</span><span class="p">,</span><span class="n">axis</span><span class="o">=</span><span class="mi">1</span><span class="p">)</span>
</pre></div>

</div>
</div>
</div>

</div>
<div class="cell border-box-sizing code_cell rendered">
<div class="input">
<div class="prompt input_prompt">In&nbsp;[117]:</div>
<div class="inner_cell">
    <div class="input_area">
<div class=" highlight hl-ipython3"><pre><span class="n">main_arr</span> <span class="o">=</span> <span class="n">np</span><span class="o">.</span><span class="n">array</span><span class="p">(</span><span class="n">df</span><span class="p">)</span>
<span class="n">clf</span> <span class="o">=</span> <span class="n">RandomForestRegressor</span><span class="p">(</span><span class="n">n_estimators</span><span class="o">=</span><span class="mi">20</span><span class="p">)</span>
<span class="n">X</span> <span class="o">=</span> <span class="n">main_arr</span><span class="p">[:,</span><span class="mi">1</span><span class="p">:</span><span class="mi">10</span><span class="p">]</span>
<span class="n">Y</span> <span class="o">=</span> <span class="n">main_arr</span><span class="p">[:,</span><span class="mi">10</span><span class="p">:</span><span class="mi">11</span><span class="p">]</span>
<span class="n">X_train</span><span class="p">,</span> <span class="n">X_test</span><span class="p">,</span> <span class="n">Y_train</span><span class="p">,</span> <span class="n">Y_test</span> <span class="o">=</span> <span class="n">cross_validation</span><span class="o">.</span><span class="n">train_test_split</span><span class="p">(</span><span class="n">X</span><span class="p">,</span> <span class="n">Y</span><span class="p">,</span> <span class="n">test_size</span><span class="o">=</span><span class="mf">0.4</span><span class="p">,</span> <span class="n">random_state</span><span class="o">=</span><span class="mi">0</span><span class="p">,</span><span class="n">dtype</span><span class="o">=</span><span class="s1">&#39;float64&#39;</span><span class="p">)</span>
<span class="n">clf</span><span class="o">.</span><span class="n">fit</span><span class="p">(</span><span class="n">X_train</span><span class="p">,</span><span class="n">Y_train</span><span class="p">)</span>
<span class="n">Y</span> <span class="o">=</span> <span class="n">clf</span><span class="o">.</span><span class="n">predict</span><span class="p">(</span><span class="n">X_test</span><span class="p">)</span>
<span class="n">x</span> <span class="o">=</span> <span class="n">np</span><span class="o">.</span><span class="n">arange</span><span class="p">(</span><span class="mi">203</span><span class="p">)</span>
</pre></div>

</div>
</div>
</div>

<div class="output_wrapper">
<div class="output">


<div class="output_area"><div class="prompt"></div>
<div class="output_subarea output_stream output_stderr output_text">
<pre>/home/thakursc1/anaconda3/lib/python3.4/site-packages/sklearn/cross_validation.py:1786: DeprecationWarning: dtype option is ignored and will be removed in 0.18.
  DeprecationWarning)
</pre>
</div>
</div>

</div>
</div>

</div>
<div class="cell border-box-sizing code_cell rendered">
<div class="input">
<div class="prompt input_prompt">In&nbsp;[118]:</div>
<div class="inner_cell">
    <div class="input_area">
<div class=" highlight hl-ipython3"><pre> 
</pre></div>

</div>
</div>
</div>

<div class="output_wrapper">
<div class="output">


<div class="output_area"><div class="prompt"></div>
<div class="output_subarea output_stream output_stderr output_text">
<pre>/home/thakursc1/anaconda3/lib/python3.4/site-packages/ipykernel/__main__.py:1: DataConversionWarning: A column-vector y was passed when a 1d array was expected. Please change the shape of y to (n_samples,), for example using ravel().
  if __name__ == &apos;__main__&apos;:
</pre>
</div>
</div>

</div>
</div>

</div>
<div class="cell border-box-sizing code_cell rendered">
<div class="input">
<div class="prompt input_prompt">In&nbsp;[126]:</div>
<div class="inner_cell">
    <div class="input_area">
<div class=" highlight hl-ipython3"><pre><span class="n">fig</span> <span class="o">=</span> <span class="n">plt</span><span class="o">.</span><span class="n">figure</span><span class="p">(</span><span class="n">figsize</span><span class="o">=</span> <span class="p">(</span><span class="mi">10</span><span class="p">,</span><span class="mi">5</span><span class="p">))</span>
<span class="n">plt</span><span class="o">.</span><span class="n">subplot2grid</span><span class="p">((</span><span class="mi">1</span><span class="p">,</span><span class="mi">1</span><span class="p">),(</span><span class="mi">0</span><span class="p">,</span><span class="mi">0</span><span class="p">))</span>
<span class="n">Y_test</span> <span class="o">=</span> <span class="n">np</span><span class="o">.</span><span class="n">array</span><span class="p">(</span><span class="n">Y_test</span><span class="p">,</span><span class="n">dtype</span><span class="o">=</span><span class="s1">&#39;float64&#39;</span><span class="p">)</span>
<span class="n">plt</span><span class="o">.</span><span class="n">plot</span><span class="p">(</span><span class="n">x</span><span class="p">,</span><span class="n">Y</span><span class="p">,</span><span class="s1">&#39;.&#39;</span><span class="p">,</span><span class="n">color</span><span class="o">=</span><span class="s1">&#39;green&#39;</span><span class="p">)</span>
<span class="n">plt</span><span class="o">.</span><span class="n">plot</span><span class="p">(</span><span class="n">x</span><span class="p">,</span><span class="n">Y_test</span><span class="p">,</span><span class="s1">&#39;.&#39;</span><span class="p">,</span><span class="n">color</span><span class="o">=</span><span class="s1">&#39;red&#39;</span><span class="p">)</span>
<span class="nb">print</span><span class="p">(</span><span class="n">mean_squared_error</span><span class="p">(</span><span class="n">Y_test</span><span class="p">,</span><span class="n">Y</span><span class="p">)</span><span class="o">**</span><span class="mf">0.5</span><span class="p">)</span>
</pre></div>

</div>
</div>
</div>

<div class="output_wrapper">
<div class="output">


<div class="output_area"><div class="prompt"></div>
<div class="output_subarea output_stream output_stdout output_text">
<pre>14.9335932076
</pre>
</div>
</div>

<div class="output_area"><div class="prompt"></div>


<div class="output_png output_subarea ">
<img src="data:image/png;base64,iVBORw0KGgoAAAANSUhEUgAAAlwAAAE5CAYAAABFzf7EAAAABHNCSVQICAgIfAhkiAAAAAlwSFlz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"
>
</div>

</div>

</div>
</div>

</div>
<div class="cell border-box-sizing text_cell rendered">
<div class="prompt input_prompt">
</div>
<div class="inner_cell">
<div class="text_cell_render border-box-sizing rendered_html">
<h5 id="Random-forest-rms-value-=-15">Random forest rms value = 15<a class="anchor-link" href="#Random-forest-rms-value-=-15">&#182;</a></h5>
</div>
</div>
</div>
<div class="cell border-box-sizing text_cell rendered">
<div class="prompt input_prompt">
</div>
<div class="inner_cell">
<div class="text_cell_render border-box-sizing rendered_html">
<h2 id="ADAboost-Regression-Technique">ADAboost Regression Technique<a class="anchor-link" href="#ADAboost-Regression-Technique">&#182;</a></h2>
</div>
</div>
</div>
<div class="cell border-box-sizing code_cell rendered">
<div class="input">
<div class="prompt input_prompt">In&nbsp;[129]:</div>
<div class="inner_cell">
    <div class="input_area">
<div class=" highlight hl-ipython3"><pre><span class="kn">from</span> <span class="nn">sklearn.ensemble</span> <span class="k">import</span> <span class="n">AdaBoostRegressor</span>
</pre></div>

</div>
</div>
</div>

</div>
<div class="cell border-box-sizing code_cell rendered">
<div class="input">
<div class="prompt input_prompt">In&nbsp;[133]:</div>
<div class="inner_cell">
    <div class="input_area">
<div class=" highlight hl-ipython3"><pre><span class="n">main_arr</span> <span class="o">=</span> <span class="n">np</span><span class="o">.</span><span class="n">array</span><span class="p">(</span><span class="n">df</span><span class="p">)</span>
<span class="n">clf</span> <span class="o">=</span> <span class="n">AdaBoostRegressor</span><span class="p">()</span>
<span class="n">X</span> <span class="o">=</span> <span class="n">main_arr</span><span class="p">[:,</span><span class="mi">1</span><span class="p">:</span><span class="mi">10</span><span class="p">]</span>
<span class="n">Y</span> <span class="o">=</span> <span class="n">main_arr</span><span class="p">[:,</span><span class="mi">10</span><span class="p">:</span><span class="mi">11</span><span class="p">]</span>
<span class="n">X_train</span><span class="p">,</span> <span class="n">X_test</span><span class="p">,</span> <span class="n">Y_train</span><span class="p">,</span> <span class="n">Y_test</span> <span class="o">=</span> <span class="n">cross_validation</span><span class="o">.</span><span class="n">train_test_split</span><span class="p">(</span><span class="n">X</span><span class="p">,</span> <span class="n">Y</span><span class="p">,</span> <span class="n">test_size</span><span class="o">=</span><span class="mf">0.4</span><span class="p">,</span> <span class="n">random_state</span><span class="o">=</span><span class="mi">0</span><span class="p">)</span>
<span class="n">Y_train</span> <span class="o">=</span> <span class="n">np</span><span class="o">.</span><span class="n">array</span><span class="p">(</span><span class="n">Y_train</span><span class="p">,</span><span class="n">dtype</span><span class="o">=</span><span class="s1">&#39;float64&#39;</span><span class="p">)</span>
<span class="n">X_train</span> <span class="o">=</span> <span class="n">np</span><span class="o">.</span><span class="n">array</span><span class="p">(</span><span class="n">X_train</span><span class="p">,</span><span class="n">dtype</span><span class="o">=</span><span class="s1">&#39;float64&#39;</span><span class="p">)</span>
<span class="n">X_test</span> <span class="o">=</span> <span class="n">np</span><span class="o">.</span><span class="n">array</span><span class="p">(</span><span class="n">X_test</span><span class="p">,</span><span class="n">dtype</span><span class="o">=</span><span class="s1">&#39;float64&#39;</span><span class="p">)</span>
<span class="n">Y_test</span> <span class="o">=</span> <span class="n">np</span><span class="o">.</span><span class="n">array</span><span class="p">(</span><span class="n">Y_test</span><span class="p">,</span><span class="n">dtype</span><span class="o">=</span><span class="s1">&#39;float64&#39;</span><span class="p">)</span>
<span class="n">clf</span><span class="o">.</span><span class="n">fit</span><span class="p">(</span><span class="n">X_train</span><span class="p">,</span><span class="n">Y_train</span><span class="p">)</span>
<span class="n">Y</span> <span class="o">=</span> <span class="n">clf</span><span class="o">.</span><span class="n">predict</span><span class="p">(</span><span class="n">X_test</span><span class="p">)</span>
<span class="n">x</span> <span class="o">=</span> <span class="n">np</span><span class="o">.</span><span class="n">arange</span><span class="p">(</span><span class="mi">203</span><span class="p">)</span>
</pre></div>

</div>
</div>
</div>

<div class="output_wrapper">
<div class="output">


<div class="output_area"><div class="prompt"></div>
<div class="output_subarea output_stream output_stderr output_text">
<pre>/home/thakursc1/anaconda3/lib/python3.4/site-packages/sklearn/utils/validation.py:449: DataConversionWarning: A column-vector y was passed when a 1d array was expected. Please change the shape of y to (n_samples, ), for example using ravel().
  y = column_or_1d(y, warn=True)
</pre>
</div>
</div>

</div>
</div>

</div>
<div class="cell border-box-sizing code_cell rendered">
<div class="input">
<div class="prompt input_prompt">In&nbsp;[134]:</div>
<div class="inner_cell">
    <div class="input_area">
<div class=" highlight hl-ipython3"><pre><span class="n">fig</span> <span class="o">=</span> <span class="n">plt</span><span class="o">.</span><span class="n">figure</span><span class="p">(</span><span class="n">figsize</span><span class="o">=</span> <span class="p">(</span><span class="mi">10</span><span class="p">,</span><span class="mi">5</span><span class="p">))</span>
<span class="n">plt</span><span class="o">.</span><span class="n">subplot2grid</span><span class="p">((</span><span class="mi">1</span><span class="p">,</span><span class="mi">1</span><span class="p">),(</span><span class="mi">0</span><span class="p">,</span><span class="mi">0</span><span class="p">))</span>
<span class="n">Y_test</span> <span class="o">=</span> <span class="n">np</span><span class="o">.</span><span class="n">array</span><span class="p">(</span><span class="n">Y_test</span><span class="p">,</span><span class="n">dtype</span><span class="o">=</span><span class="s1">&#39;float64&#39;</span><span class="p">)</span>
<span class="n">plt</span><span class="o">.</span><span class="n">plot</span><span class="p">(</span><span class="n">x</span><span class="p">,</span><span class="n">Y</span><span class="p">,</span><span class="s1">&#39;.&#39;</span><span class="p">,</span><span class="n">color</span><span class="o">=</span><span class="s1">&#39;green&#39;</span><span class="p">)</span>
<span class="n">plt</span><span class="o">.</span><span class="n">plot</span><span class="p">(</span><span class="n">x</span><span class="p">,</span><span class="n">Y_test</span><span class="p">,</span><span class="s1">&#39;.&#39;</span><span class="p">,</span><span class="n">color</span><span class="o">=</span><span class="s1">&#39;red&#39;</span><span class="p">)</span>
<span class="nb">print</span><span class="p">(</span><span class="n">mean_squared_error</span><span class="p">(</span><span class="n">Y_test</span><span class="p">,</span><span class="n">Y</span><span class="p">)</span><span class="o">**</span><span class="mf">0.5</span><span class="p">)</span>
</pre></div>

</div>
</div>
</div>

<div class="output_wrapper">
<div class="output">


<div class="output_area"><div class="prompt"></div>
<div class="output_subarea output_stream output_stdout output_text">
<pre>16.8612494735
</pre>
</div>
</div>

<div class="output_area"><div class="prompt"></div>


<div class="output_png output_subarea ">
<img src="data:image/png;base64,iVBORw0KGgoAAAANSUhEUgAAAlwAAAE5CAYAAABFzf7EAAAABHNCSVQICAgIfAhkiAAAAAlwSFlz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"
>
</div>

</div>

</div>
</div>

</div>
<div class="cell border-box-sizing code_cell rendered">
<div class="input">
<div class="prompt input_prompt">In&nbsp;[&nbsp;]:</div>
<div class="inner_cell">
    <div class="input_area">
<div class=" highlight hl-ipython3"><pre> 
</pre></div>

</div>
</div>
</div>

</div>
    </div>
  </div>
</body>
</html>
